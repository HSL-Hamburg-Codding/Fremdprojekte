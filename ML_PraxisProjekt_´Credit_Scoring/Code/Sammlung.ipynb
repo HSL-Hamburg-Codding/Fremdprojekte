{
 "cells": [
  {
   "cell_type": "code",
   "execution_count": 3,
   "id": "initial_id",
   "metadata": {
    "collapsed": true,
    "ExecuteTime": {
     "end_time": "2023-10-30T09:53:27.241867700Z",
     "start_time": "2023-10-30T09:53:27.007923100Z"
    }
   },
   "outputs": [],
   "source": [
    "import numpy as np\n",
    "import pandas as pd\n",
    "import matplotlib.pyplot as plt\n",
    "import seaborn as sns"
   ]
  },
  {
   "cell_type": "code",
   "execution_count": 4,
   "outputs": [
    {
     "data": {
      "text/plain": "     laufkont  laufzeit  moral  verw  hoehe  sparkont  beszeit  rate  famges  \\\n0           1        18      4     2   1049         1        2     4       2   \n1           1         9      4     0   2799         1        3     2       3   \n2           2        12      2     9    841         2        4     2       2   \n3           1        12      4     0   2122         1        3     3       3   \n4           1        12      4     0   2171         1        3     4       3   \n..        ...       ...    ...   ...    ...       ...      ...   ...     ...   \n995         1        24      2     3   1987         1        3     2       3   \n996         1        24      2     0   2303         1        5     4       3   \n997         4        21      4     0  12680         5        5     4       3   \n998         2        12      2     3   6468         5        1     2       3   \n999         1        30      2     2   6350         5        5     4       3   \n\n     buerge  ...  verm  alter  weitkred  wohn  bishkred  beruf  pers  telef  \\\n0         1  ...     2     21         3     1         1      3     2      1   \n1         1  ...     1     36         3     1         2      3     1      1   \n2         1  ...     1     23         3     1         1      2     2      1   \n3         1  ...     1     39         3     1         2      2     1      1   \n4         1  ...     2     38         1     2         2      2     2      1   \n..      ...  ...   ...    ...       ...   ...       ...    ...   ...    ...   \n995       1  ...     1     21         3     1         1      2     1      1   \n996       2  ...     1     45         3     2         1      3     2      1   \n997       1  ...     4     30         3     3         1      4     2      2   \n998       1  ...     4     52         3     2         1      4     2      2   \n999       1  ...     2     31         3     2         1      3     2      1   \n\n     gastarb  kredit  \n0          2       1  \n1          2       1  \n2          2       1  \n3          1       1  \n4          1       1  \n..       ...     ...  \n995        2       0  \n996        2       0  \n997        2       0  \n998        2       0  \n999        2       0  \n\n[1000 rows x 21 columns]",
      "text/html": "<div>\n<style scoped>\n    .dataframe tbody tr th:only-of-type {\n        vertical-align: middle;\n    }\n\n    .dataframe tbody tr th {\n        vertical-align: top;\n    }\n\n    .dataframe thead th {\n        text-align: right;\n    }\n</style>\n<table border=\"1\" class=\"dataframe\">\n  <thead>\n    <tr style=\"text-align: right;\">\n      <th></th>\n      <th>laufkont</th>\n      <th>laufzeit</th>\n      <th>moral</th>\n      <th>verw</th>\n      <th>hoehe</th>\n      <th>sparkont</th>\n      <th>beszeit</th>\n      <th>rate</th>\n      <th>famges</th>\n      <th>buerge</th>\n      <th>...</th>\n      <th>verm</th>\n      <th>alter</th>\n      <th>weitkred</th>\n      <th>wohn</th>\n      <th>bishkred</th>\n      <th>beruf</th>\n      <th>pers</th>\n      <th>telef</th>\n      <th>gastarb</th>\n      <th>kredit</th>\n    </tr>\n  </thead>\n  <tbody>\n    <tr>\n      <th>0</th>\n      <td>1</td>\n      <td>18</td>\n      <td>4</td>\n      <td>2</td>\n      <td>1049</td>\n      <td>1</td>\n      <td>2</td>\n      <td>4</td>\n      <td>2</td>\n      <td>1</td>\n      <td>...</td>\n      <td>2</td>\n      <td>21</td>\n      <td>3</td>\n      <td>1</td>\n      <td>1</td>\n      <td>3</td>\n      <td>2</td>\n      <td>1</td>\n      <td>2</td>\n      <td>1</td>\n    </tr>\n    <tr>\n      <th>1</th>\n      <td>1</td>\n      <td>9</td>\n      <td>4</td>\n      <td>0</td>\n      <td>2799</td>\n      <td>1</td>\n      <td>3</td>\n      <td>2</td>\n      <td>3</td>\n      <td>1</td>\n      <td>...</td>\n      <td>1</td>\n      <td>36</td>\n      <td>3</td>\n      <td>1</td>\n      <td>2</td>\n      <td>3</td>\n      <td>1</td>\n      <td>1</td>\n      <td>2</td>\n      <td>1</td>\n    </tr>\n    <tr>\n      <th>2</th>\n      <td>2</td>\n      <td>12</td>\n      <td>2</td>\n      <td>9</td>\n      <td>841</td>\n      <td>2</td>\n      <td>4</td>\n      <td>2</td>\n      <td>2</td>\n      <td>1</td>\n      <td>...</td>\n      <td>1</td>\n      <td>23</td>\n      <td>3</td>\n      <td>1</td>\n      <td>1</td>\n      <td>2</td>\n      <td>2</td>\n      <td>1</td>\n      <td>2</td>\n      <td>1</td>\n    </tr>\n    <tr>\n      <th>3</th>\n      <td>1</td>\n      <td>12</td>\n      <td>4</td>\n      <td>0</td>\n      <td>2122</td>\n      <td>1</td>\n      <td>3</td>\n      <td>3</td>\n      <td>3</td>\n      <td>1</td>\n      <td>...</td>\n      <td>1</td>\n      <td>39</td>\n      <td>3</td>\n      <td>1</td>\n      <td>2</td>\n      <td>2</td>\n      <td>1</td>\n      <td>1</td>\n      <td>1</td>\n      <td>1</td>\n    </tr>\n    <tr>\n      <th>4</th>\n      <td>1</td>\n      <td>12</td>\n      <td>4</td>\n      <td>0</td>\n      <td>2171</td>\n      <td>1</td>\n      <td>3</td>\n      <td>4</td>\n      <td>3</td>\n      <td>1</td>\n      <td>...</td>\n      <td>2</td>\n      <td>38</td>\n      <td>1</td>\n      <td>2</td>\n      <td>2</td>\n      <td>2</td>\n      <td>2</td>\n      <td>1</td>\n      <td>1</td>\n      <td>1</td>\n    </tr>\n    <tr>\n      <th>...</th>\n      <td>...</td>\n      <td>...</td>\n      <td>...</td>\n      <td>...</td>\n      <td>...</td>\n      <td>...</td>\n      <td>...</td>\n      <td>...</td>\n      <td>...</td>\n      <td>...</td>\n      <td>...</td>\n      <td>...</td>\n      <td>...</td>\n      <td>...</td>\n      <td>...</td>\n      <td>...</td>\n      <td>...</td>\n      <td>...</td>\n      <td>...</td>\n      <td>...</td>\n      <td>...</td>\n    </tr>\n    <tr>\n      <th>995</th>\n      <td>1</td>\n      <td>24</td>\n      <td>2</td>\n      <td>3</td>\n      <td>1987</td>\n      <td>1</td>\n      <td>3</td>\n      <td>2</td>\n      <td>3</td>\n      <td>1</td>\n      <td>...</td>\n      <td>1</td>\n      <td>21</td>\n      <td>3</td>\n      <td>1</td>\n      <td>1</td>\n      <td>2</td>\n      <td>1</td>\n      <td>1</td>\n      <td>2</td>\n      <td>0</td>\n    </tr>\n    <tr>\n      <th>996</th>\n      <td>1</td>\n      <td>24</td>\n      <td>2</td>\n      <td>0</td>\n      <td>2303</td>\n      <td>1</td>\n      <td>5</td>\n      <td>4</td>\n      <td>3</td>\n      <td>2</td>\n      <td>...</td>\n      <td>1</td>\n      <td>45</td>\n      <td>3</td>\n      <td>2</td>\n      <td>1</td>\n      <td>3</td>\n      <td>2</td>\n      <td>1</td>\n      <td>2</td>\n      <td>0</td>\n    </tr>\n    <tr>\n      <th>997</th>\n      <td>4</td>\n      <td>21</td>\n      <td>4</td>\n      <td>0</td>\n      <td>12680</td>\n      <td>5</td>\n      <td>5</td>\n      <td>4</td>\n      <td>3</td>\n      <td>1</td>\n      <td>...</td>\n      <td>4</td>\n      <td>30</td>\n      <td>3</td>\n      <td>3</td>\n      <td>1</td>\n      <td>4</td>\n      <td>2</td>\n      <td>2</td>\n      <td>2</td>\n      <td>0</td>\n    </tr>\n    <tr>\n      <th>998</th>\n      <td>2</td>\n      <td>12</td>\n      <td>2</td>\n      <td>3</td>\n      <td>6468</td>\n      <td>5</td>\n      <td>1</td>\n      <td>2</td>\n      <td>3</td>\n      <td>1</td>\n      <td>...</td>\n      <td>4</td>\n      <td>52</td>\n      <td>3</td>\n      <td>2</td>\n      <td>1</td>\n      <td>4</td>\n      <td>2</td>\n      <td>2</td>\n      <td>2</td>\n      <td>0</td>\n    </tr>\n    <tr>\n      <th>999</th>\n      <td>1</td>\n      <td>30</td>\n      <td>2</td>\n      <td>2</td>\n      <td>6350</td>\n      <td>5</td>\n      <td>5</td>\n      <td>4</td>\n      <td>3</td>\n      <td>1</td>\n      <td>...</td>\n      <td>2</td>\n      <td>31</td>\n      <td>3</td>\n      <td>2</td>\n      <td>1</td>\n      <td>3</td>\n      <td>2</td>\n      <td>1</td>\n      <td>2</td>\n      <td>0</td>\n    </tr>\n  </tbody>\n</table>\n<p>1000 rows × 21 columns</p>\n</div>"
     },
     "execution_count": 4,
     "metadata": {},
     "output_type": "execute_result"
    }
   ],
   "source": [
    "df = pd.read_csv(\"SouthGermanCredit.csv\")\n",
    "df"
   ],
   "metadata": {
    "collapsed": false,
    "ExecuteTime": {
     "end_time": "2023-10-30T09:53:29.617443500Z",
     "start_time": "2023-10-30T09:53:29.281848600Z"
    }
   },
   "id": "ef9400ff01d58a4c"
  },
  {
   "cell_type": "code",
   "execution_count": 3,
   "outputs": [
    {
     "data": {
      "text/plain": "(1000, 21)"
     },
     "execution_count": 3,
     "metadata": {},
     "output_type": "execute_result"
    }
   ],
   "source": [
    "df.shape"
   ],
   "metadata": {
    "collapsed": false,
    "ExecuteTime": {
     "end_time": "2023-10-30T09:18:51.894947Z",
     "start_time": "2023-10-30T09:18:51.758688500Z"
    }
   },
   "id": "6a295745e6bac844"
  },
  {
   "cell_type": "code",
   "execution_count": 7,
   "outputs": [
    {
     "data": {
      "text/plain": "kredit\n1    700\n0    300\nName: count, dtype: int64"
     },
     "execution_count": 7,
     "metadata": {},
     "output_type": "execute_result"
    }
   ],
   "source": [
    "df[\"kredit\"].value_counts()"
   ],
   "metadata": {
    "collapsed": false,
    "ExecuteTime": {
     "end_time": "2023-10-30T09:20:08.689054800Z",
     "start_time": "2023-10-30T09:20:08.556961100Z"
    }
   },
   "id": "7c003a0f2ad49f2a"
  },
  {
   "cell_type": "code",
   "execution_count": 8,
   "outputs": [
    {
     "data": {
      "text/plain": "False    1000\nName: count, dtype: int64"
     },
     "execution_count": 8,
     "metadata": {},
     "output_type": "execute_result"
    }
   ],
   "source": [
    "df.duplicated().value_counts()"
   ],
   "metadata": {
    "collapsed": false,
    "ExecuteTime": {
     "end_time": "2023-10-30T09:20:22.938196800Z",
     "start_time": "2023-10-30T09:20:22.777687800Z"
    }
   },
   "id": "c9e3e909b8e5676"
  },
  {
   "cell_type": "code",
   "execution_count": 9,
   "outputs": [
    {
     "data": {
      "text/plain": "laufkont    0\nlaufzeit    0\nmoral       0\nverw        0\nhoehe       0\nsparkont    0\nbeszeit     0\nrate        0\nfamges      0\nbuerge      0\nwohnzeit    0\nverm        0\nalter       0\nweitkred    0\nwohn        0\nbishkred    0\nberuf       0\npers        0\ntelef       0\ngastarb     0\nkredit      0\ndtype: int64"
     },
     "execution_count": 9,
     "metadata": {},
     "output_type": "execute_result"
    }
   ],
   "source": [
    "df.isna().sum()"
   ],
   "metadata": {
    "collapsed": false,
    "ExecuteTime": {
     "end_time": "2023-10-30T09:20:38.745273200Z",
     "start_time": "2023-10-30T09:20:38.572623700Z"
    }
   },
   "id": "73d96117b2b27652"
  },
  {
   "cell_type": "code",
   "execution_count": 10,
   "outputs": [
    {
     "data": {
      "text/plain": "Index(['laufkont', 'laufzeit', 'moral', 'verw', 'hoehe', 'sparkont', 'beszeit',\n       'rate', 'famges', 'buerge', 'wohnzeit', 'verm', 'alter', 'weitkred',\n       'wohn', 'bishkred', 'beruf', 'pers', 'telef', 'gastarb', 'kredit'],\n      dtype='object')"
     },
     "execution_count": 10,
     "metadata": {},
     "output_type": "execute_result"
    }
   ],
   "source": [
    "df.columns"
   ],
   "metadata": {
    "collapsed": false,
    "ExecuteTime": {
     "end_time": "2023-10-30T09:20:55.965203300Z",
     "start_time": "2023-10-30T09:20:55.833962100Z"
    }
   },
   "id": "3e8906345f097bdf"
  },
  {
   "cell_type": "code",
   "execution_count": 11,
   "outputs": [
    {
     "name": "stdout",
     "output_type": "stream",
     "text": [
      "<class 'pandas.core.frame.DataFrame'>\n",
      "RangeIndex: 1000 entries, 0 to 999\n",
      "Data columns (total 21 columns):\n",
      " #   Column    Non-Null Count  Dtype\n",
      "---  ------    --------------  -----\n",
      " 0   laufkont  1000 non-null   int64\n",
      " 1   laufzeit  1000 non-null   int64\n",
      " 2   moral     1000 non-null   int64\n",
      " 3   verw      1000 non-null   int64\n",
      " 4   hoehe     1000 non-null   int64\n",
      " 5   sparkont  1000 non-null   int64\n",
      " 6   beszeit   1000 non-null   int64\n",
      " 7   rate      1000 non-null   int64\n",
      " 8   famges    1000 non-null   int64\n",
      " 9   buerge    1000 non-null   int64\n",
      " 10  wohnzeit  1000 non-null   int64\n",
      " 11  verm      1000 non-null   int64\n",
      " 12  alter     1000 non-null   int64\n",
      " 13  weitkred  1000 non-null   int64\n",
      " 14  wohn      1000 non-null   int64\n",
      " 15  bishkred  1000 non-null   int64\n",
      " 16  beruf     1000 non-null   int64\n",
      " 17  pers      1000 non-null   int64\n",
      " 18  telef     1000 non-null   int64\n",
      " 19  gastarb   1000 non-null   int64\n",
      " 20  kredit    1000 non-null   int64\n",
      "dtypes: int64(21)\n",
      "memory usage: 164.2 KB\n"
     ]
    }
   ],
   "source": [
    "df.info()"
   ],
   "metadata": {
    "collapsed": false,
    "ExecuteTime": {
     "end_time": "2023-10-30T09:21:02.116935500Z",
     "start_time": "2023-10-30T09:21:01.883982Z"
    }
   },
   "id": "877844e3b89690ca"
  },
  {
   "cell_type": "code",
   "execution_count": 6,
   "outputs": [],
   "source": [
    "# Erstelle das Pairplot\n",
    "# sns.pairplot(df, hue='kredit')\n",
    "\n",
    "# Zeige das Diagramm\n",
    "# plt.show()"
   ],
   "metadata": {
    "collapsed": false,
    "ExecuteTime": {
     "end_time": "2023-10-30T10:04:21.379007500Z",
     "start_time": "2023-10-30T10:04:21.123579900Z"
    }
   },
   "id": "c21161242a33f3c1"
  },
  {
   "cell_type": "code",
   "execution_count": null,
   "outputs": [],
   "source": [],
   "metadata": {
    "collapsed": false
   },
   "id": "c3414402ce198ada"
  },
  {
   "cell_type": "code",
   "execution_count": null,
   "outputs": [],
   "source": [],
   "metadata": {
    "collapsed": false
   },
   "id": "49b574053ba1c5d0"
  },
  {
   "cell_type": "code",
   "execution_count": null,
   "outputs": [],
   "source": [],
   "metadata": {
    "collapsed": false
   },
   "id": "639681be27d8e0e6"
  },
  {
   "cell_type": "code",
   "execution_count": null,
   "outputs": [],
   "source": [],
   "metadata": {
    "collapsed": false
   },
   "id": "a0ba080a74b6ef3e"
  },
  {
   "cell_type": "code",
   "execution_count": null,
   "outputs": [],
   "source": [],
   "metadata": {
    "collapsed": false
   },
   "id": "6b1a4887d4b729ec"
  },
  {
   "cell_type": "code",
   "execution_count": null,
   "outputs": [],
   "source": [],
   "metadata": {
    "collapsed": false
   },
   "id": "4a61e50d3de7516"
  },
  {
   "cell_type": "code",
   "execution_count": null,
   "outputs": [],
   "source": [],
   "metadata": {
    "collapsed": false
   },
   "id": "7192144ccc373321"
  },
  {
   "cell_type": "code",
   "execution_count": null,
   "outputs": [],
   "source": [],
   "metadata": {
    "collapsed": false
   },
   "id": "4900b8c4e45fcbd3"
  },
  {
   "cell_type": "code",
   "execution_count": null,
   "outputs": [],
   "source": [],
   "metadata": {
    "collapsed": false
   },
   "id": "84de4dac9fe17f10"
  },
  {
   "cell_type": "code",
   "execution_count": null,
   "outputs": [],
   "source": [],
   "metadata": {
    "collapsed": false
   },
   "id": "7b9a5cc49526bb7d"
  },
  {
   "cell_type": "code",
   "execution_count": null,
   "outputs": [],
   "source": [],
   "metadata": {
    "collapsed": false
   },
   "id": "14295f85336c64de"
  }
 ],
 "metadata": {
  "kernelspec": {
   "display_name": "Python 3",
   "language": "python",
   "name": "python3"
  },
  "language_info": {
   "codemirror_mode": {
    "name": "ipython",
    "version": 2
   },
   "file_extension": ".py",
   "mimetype": "text/x-python",
   "name": "python",
   "nbconvert_exporter": "python",
   "pygments_lexer": "ipython2",
   "version": "2.7.6"
  }
 },
 "nbformat": 4,
 "nbformat_minor": 5
}
