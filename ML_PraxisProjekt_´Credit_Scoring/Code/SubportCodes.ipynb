{
 "cells": [
  {
   "cell_type": "code",
   "execution_count": 36,
   "outputs": [],
   "source": [
    "import numpy as np\n",
    "import pandas as pd\n",
    "import matplotlib.pyplot as plt\n",
    "import seaborn as sns\n",
    "from sklearn.model_selection import train_test_split\n",
    "from sklearn.ensemble import RandomForestClassifier\n",
    "from sklearn.metrics import classification_report, accuracy_score\n",
    "from sklearn.metrics import accuracy_score"
   ],
   "metadata": {
    "collapsed": false,
    "ExecuteTime": {
     "end_time": "2023-10-30T10:32:43.755033500Z",
     "start_time": "2023-10-30T10:32:43.510288600Z"
    }
   },
   "id": "1f80352db119be4d"
  },
  {
   "cell_type": "code",
   "execution_count": 38,
   "outputs": [
    {
     "data": {
      "text/plain": "     laufkont  laufzeit  moral  verw  hoehe  sparkont  beszeit  rate  famges  \\\n0           1        18      4     2   1049         1        2     4       2   \n1           1         9      4     0   2799         1        3     2       3   \n2           1        12      4     0   2122         1        3     3       3   \n3           1        12      4     0   2171         1        3     4       3   \n4           1        10      4     0   2241         1        2     1       3   \n..        ...       ...    ...   ...    ...       ...      ...   ...     ...   \n695         1        12      0     3   6199         1        3     4       3   \n696         1        24      2     0   2303         1        5     4       3   \n697         4        21      4     0  12680         5        5     4       3   \n698         2        12      2     3   6468         5        1     2       3   \n699         1        30      2     2   6350         5        5     4       3   \n\n     buerge  ...  verm  alter  weitkred  wohn  bishkred  beruf  pers  telef  \\\n0         1  ...     2     21         3     1         1      3     2      1   \n1         1  ...     1     36         3     1         2      3     1      1   \n2         1  ...     1     39         3     1         2      2     1      1   \n3         1  ...     2     38         1     2         2      2     2      1   \n4         1  ...     1     48         3     1         2      2     1      1   \n..      ...  ...   ...    ...       ...   ...       ...    ...   ...    ...   \n695       1  ...     2     28         3     1         2      3     2      2   \n696       2  ...     1     45         3     2         1      3     2      1   \n697       1  ...     4     30         3     3         1      4     2      2   \n698       1  ...     4     52         3     2         1      4     2      2   \n699       1  ...     2     31         3     2         1      3     2      1   \n\n     gastarb  kredit  \n0          2       1  \n1          2       1  \n2          1       1  \n3          1       1  \n4          1       1  \n..       ...     ...  \n695        2       0  \n696        2       0  \n697        2       0  \n698        2       0  \n699        2       0  \n\n[700 rows x 21 columns]",
      "text/html": "<div>\n<style scoped>\n    .dataframe tbody tr th:only-of-type {\n        vertical-align: middle;\n    }\n\n    .dataframe tbody tr th {\n        vertical-align: top;\n    }\n\n    .dataframe thead th {\n        text-align: right;\n    }\n</style>\n<table border=\"1\" class=\"dataframe\">\n  <thead>\n    <tr style=\"text-align: right;\">\n      <th></th>\n      <th>laufkont</th>\n      <th>laufzeit</th>\n      <th>moral</th>\n      <th>verw</th>\n      <th>hoehe</th>\n      <th>sparkont</th>\n      <th>beszeit</th>\n      <th>rate</th>\n      <th>famges</th>\n      <th>buerge</th>\n      <th>...</th>\n      <th>verm</th>\n      <th>alter</th>\n      <th>weitkred</th>\n      <th>wohn</th>\n      <th>bishkred</th>\n      <th>beruf</th>\n      <th>pers</th>\n      <th>telef</th>\n      <th>gastarb</th>\n      <th>kredit</th>\n    </tr>\n  </thead>\n  <tbody>\n    <tr>\n      <th>0</th>\n      <td>1</td>\n      <td>18</td>\n      <td>4</td>\n      <td>2</td>\n      <td>1049</td>\n      <td>1</td>\n      <td>2</td>\n      <td>4</td>\n      <td>2</td>\n      <td>1</td>\n      <td>...</td>\n      <td>2</td>\n      <td>21</td>\n      <td>3</td>\n      <td>1</td>\n      <td>1</td>\n      <td>3</td>\n      <td>2</td>\n      <td>1</td>\n      <td>2</td>\n      <td>1</td>\n    </tr>\n    <tr>\n      <th>1</th>\n      <td>1</td>\n      <td>9</td>\n      <td>4</td>\n      <td>0</td>\n      <td>2799</td>\n      <td>1</td>\n      <td>3</td>\n      <td>2</td>\n      <td>3</td>\n      <td>1</td>\n      <td>...</td>\n      <td>1</td>\n      <td>36</td>\n      <td>3</td>\n      <td>1</td>\n      <td>2</td>\n      <td>3</td>\n      <td>1</td>\n      <td>1</td>\n      <td>2</td>\n      <td>1</td>\n    </tr>\n    <tr>\n      <th>2</th>\n      <td>1</td>\n      <td>12</td>\n      <td>4</td>\n      <td>0</td>\n      <td>2122</td>\n      <td>1</td>\n      <td>3</td>\n      <td>3</td>\n      <td>3</td>\n      <td>1</td>\n      <td>...</td>\n      <td>1</td>\n      <td>39</td>\n      <td>3</td>\n      <td>1</td>\n      <td>2</td>\n      <td>2</td>\n      <td>1</td>\n      <td>1</td>\n      <td>1</td>\n      <td>1</td>\n    </tr>\n    <tr>\n      <th>3</th>\n      <td>1</td>\n      <td>12</td>\n      <td>4</td>\n      <td>0</td>\n      <td>2171</td>\n      <td>1</td>\n      <td>3</td>\n      <td>4</td>\n      <td>3</td>\n      <td>1</td>\n      <td>...</td>\n      <td>2</td>\n      <td>38</td>\n      <td>1</td>\n      <td>2</td>\n      <td>2</td>\n      <td>2</td>\n      <td>2</td>\n      <td>1</td>\n      <td>1</td>\n      <td>1</td>\n    </tr>\n    <tr>\n      <th>4</th>\n      <td>1</td>\n      <td>10</td>\n      <td>4</td>\n      <td>0</td>\n      <td>2241</td>\n      <td>1</td>\n      <td>2</td>\n      <td>1</td>\n      <td>3</td>\n      <td>1</td>\n      <td>...</td>\n      <td>1</td>\n      <td>48</td>\n      <td>3</td>\n      <td>1</td>\n      <td>2</td>\n      <td>2</td>\n      <td>1</td>\n      <td>1</td>\n      <td>1</td>\n      <td>1</td>\n    </tr>\n    <tr>\n      <th>...</th>\n      <td>...</td>\n      <td>...</td>\n      <td>...</td>\n      <td>...</td>\n      <td>...</td>\n      <td>...</td>\n      <td>...</td>\n      <td>...</td>\n      <td>...</td>\n      <td>...</td>\n      <td>...</td>\n      <td>...</td>\n      <td>...</td>\n      <td>...</td>\n      <td>...</td>\n      <td>...</td>\n      <td>...</td>\n      <td>...</td>\n      <td>...</td>\n      <td>...</td>\n      <td>...</td>\n    </tr>\n    <tr>\n      <th>695</th>\n      <td>1</td>\n      <td>12</td>\n      <td>0</td>\n      <td>3</td>\n      <td>6199</td>\n      <td>1</td>\n      <td>3</td>\n      <td>4</td>\n      <td>3</td>\n      <td>1</td>\n      <td>...</td>\n      <td>2</td>\n      <td>28</td>\n      <td>3</td>\n      <td>1</td>\n      <td>2</td>\n      <td>3</td>\n      <td>2</td>\n      <td>2</td>\n      <td>2</td>\n      <td>0</td>\n    </tr>\n    <tr>\n      <th>696</th>\n      <td>1</td>\n      <td>24</td>\n      <td>2</td>\n      <td>0</td>\n      <td>2303</td>\n      <td>1</td>\n      <td>5</td>\n      <td>4</td>\n      <td>3</td>\n      <td>2</td>\n      <td>...</td>\n      <td>1</td>\n      <td>45</td>\n      <td>3</td>\n      <td>2</td>\n      <td>1</td>\n      <td>3</td>\n      <td>2</td>\n      <td>1</td>\n      <td>2</td>\n      <td>0</td>\n    </tr>\n    <tr>\n      <th>697</th>\n      <td>4</td>\n      <td>21</td>\n      <td>4</td>\n      <td>0</td>\n      <td>12680</td>\n      <td>5</td>\n      <td>5</td>\n      <td>4</td>\n      <td>3</td>\n      <td>1</td>\n      <td>...</td>\n      <td>4</td>\n      <td>30</td>\n      <td>3</td>\n      <td>3</td>\n      <td>1</td>\n      <td>4</td>\n      <td>2</td>\n      <td>2</td>\n      <td>2</td>\n      <td>0</td>\n    </tr>\n    <tr>\n      <th>698</th>\n      <td>2</td>\n      <td>12</td>\n      <td>2</td>\n      <td>3</td>\n      <td>6468</td>\n      <td>5</td>\n      <td>1</td>\n      <td>2</td>\n      <td>3</td>\n      <td>1</td>\n      <td>...</td>\n      <td>4</td>\n      <td>52</td>\n      <td>3</td>\n      <td>2</td>\n      <td>1</td>\n      <td>4</td>\n      <td>2</td>\n      <td>2</td>\n      <td>2</td>\n      <td>0</td>\n    </tr>\n    <tr>\n      <th>699</th>\n      <td>1</td>\n      <td>30</td>\n      <td>2</td>\n      <td>2</td>\n      <td>6350</td>\n      <td>5</td>\n      <td>5</td>\n      <td>4</td>\n      <td>3</td>\n      <td>1</td>\n      <td>...</td>\n      <td>2</td>\n      <td>31</td>\n      <td>3</td>\n      <td>2</td>\n      <td>1</td>\n      <td>3</td>\n      <td>2</td>\n      <td>1</td>\n      <td>2</td>\n      <td>0</td>\n    </tr>\n  </tbody>\n</table>\n<p>700 rows × 21 columns</p>\n</div>"
     },
     "execution_count": 38,
     "metadata": {},
     "output_type": "execute_result"
    }
   ],
   "source": [
    "train = pd.read_csv(\"SGCtrain.csv\")\n",
    "train"
   ],
   "metadata": {
    "collapsed": false,
    "ExecuteTime": {
     "end_time": "2023-10-30T10:33:37.903509500Z",
     "start_time": "2023-10-30T10:33:37.604531300Z"
    }
   },
   "id": "8de593a9bff52845"
  },
  {
   "cell_type": "code",
   "execution_count": 16,
   "outputs": [
    {
     "name": "stdout",
     "output_type": "stream",
     "text": [
      "<class 'pandas.core.frame.DataFrame'>\n",
      "RangeIndex: 700 entries, 0 to 699\n",
      "Data columns (total 21 columns):\n",
      " #   Column    Non-Null Count  Dtype\n",
      "---  ------    --------------  -----\n",
      " 0   laufkont  700 non-null    int64\n",
      " 1   laufzeit  700 non-null    int64\n",
      " 2   moral     700 non-null    int64\n",
      " 3   verw      700 non-null    int64\n",
      " 4   hoehe     700 non-null    int64\n",
      " 5   sparkont  700 non-null    int64\n",
      " 6   beszeit   700 non-null    int64\n",
      " 7   rate      700 non-null    int64\n",
      " 8   famges    700 non-null    int64\n",
      " 9   buerge    700 non-null    int64\n",
      " 10  wohnzeit  700 non-null    int64\n",
      " 11  verm      700 non-null    int64\n",
      " 12  alter     700 non-null    int64\n",
      " 13  weitkred  700 non-null    int64\n",
      " 14  wohn      700 non-null    int64\n",
      " 15  bishkred  700 non-null    int64\n",
      " 16  beruf     700 non-null    int64\n",
      " 17  pers      700 non-null    int64\n",
      " 18  telef     700 non-null    int64\n",
      " 19  gastarb   700 non-null    int64\n",
      " 20  kredit    700 non-null    int64\n",
      "dtypes: int64(21)\n",
      "memory usage: 115.0 KB\n"
     ]
    }
   ],
   "source": [
    "train.info()"
   ],
   "metadata": {
    "collapsed": false,
    "ExecuteTime": {
     "end_time": "2023-10-30T10:27:23.678505500Z",
     "start_time": "2023-10-30T10:27:23.238200300Z"
    }
   },
   "id": "ba97e76b8485f933"
  },
  {
   "cell_type": "code",
   "execution_count": 7,
   "outputs": [
    {
     "data": {
      "text/plain": "     laufkont  laufzeit  moral  verw  hoehe  sparkont  beszeit  rate  famges  \\\n0           2        12      2     9    841         2        4     2       2   \n1           1        11      4     0   3905         1        3     2       3   \n2           1         6      2     3   2647         3        3     2       3   \n3           4        11      4     0   7228         1        3     1       3   \n4           1         6      4     0   4716         5        2     1       3   \n..        ...       ...    ...   ...    ...       ...      ...   ...     ...   \n295         2        24      2     3   2039         1        2     1       4   \n296         2        48      4     2   5096         1        3     2       2   \n297         1        18      2     3   1882         1        3     4       2   \n298         2        24      2     1  12579         1        5     4       2   \n299         1        24      2     3   1987         1        3     2       3   \n\n     buerge  ...  verm  alter  weitkred  wohn  bishkred  beruf  pers  telef  \\\n0         1  ...     1     23         3     1         1      2     2      1   \n1         1  ...     1     36         3     1         2      3     1      1   \n2         1  ...     1     44         3     1         1      3     1      1   \n3         1  ...     2     39         3     2         2      2     2      1   \n4         1  ...     1     44         3     2         2      2     1      1   \n..      ...  ...   ...    ...       ...   ...       ...    ...   ...    ...   \n295       1  ...     2     22         3     2         1      3     2      2   \n296       1  ...     3     30         3     2         1      4     2      2   \n297       1  ...     3     25         1     1         2      3     2      1   \n298       1  ...     4     44         3     3         1      4     2      2   \n299       1  ...     1     21         3     1         1      2     1      1   \n\n     gastarb  kredit  \n0          2       1  \n1          2       1  \n2          2       1  \n3          2       1  \n4          2       1  \n..       ...     ...  \n295        2       0  \n296        2       0  \n297        2       0  \n298        2       0  \n299        2       0  \n\n[300 rows x 21 columns]",
      "text/html": "<div>\n<style scoped>\n    .dataframe tbody tr th:only-of-type {\n        vertical-align: middle;\n    }\n\n    .dataframe tbody tr th {\n        vertical-align: top;\n    }\n\n    .dataframe thead th {\n        text-align: right;\n    }\n</style>\n<table border=\"1\" class=\"dataframe\">\n  <thead>\n    <tr style=\"text-align: right;\">\n      <th></th>\n      <th>laufkont</th>\n      <th>laufzeit</th>\n      <th>moral</th>\n      <th>verw</th>\n      <th>hoehe</th>\n      <th>sparkont</th>\n      <th>beszeit</th>\n      <th>rate</th>\n      <th>famges</th>\n      <th>buerge</th>\n      <th>...</th>\n      <th>verm</th>\n      <th>alter</th>\n      <th>weitkred</th>\n      <th>wohn</th>\n      <th>bishkred</th>\n      <th>beruf</th>\n      <th>pers</th>\n      <th>telef</th>\n      <th>gastarb</th>\n      <th>kredit</th>\n    </tr>\n  </thead>\n  <tbody>\n    <tr>\n      <th>0</th>\n      <td>2</td>\n      <td>12</td>\n      <td>2</td>\n      <td>9</td>\n      <td>841</td>\n      <td>2</td>\n      <td>4</td>\n      <td>2</td>\n      <td>2</td>\n      <td>1</td>\n      <td>...</td>\n      <td>1</td>\n      <td>23</td>\n      <td>3</td>\n      <td>1</td>\n      <td>1</td>\n      <td>2</td>\n      <td>2</td>\n      <td>1</td>\n      <td>2</td>\n      <td>1</td>\n    </tr>\n    <tr>\n      <th>1</th>\n      <td>1</td>\n      <td>11</td>\n      <td>4</td>\n      <td>0</td>\n      <td>3905</td>\n      <td>1</td>\n      <td>3</td>\n      <td>2</td>\n      <td>3</td>\n      <td>1</td>\n      <td>...</td>\n      <td>1</td>\n      <td>36</td>\n      <td>3</td>\n      <td>1</td>\n      <td>2</td>\n      <td>3</td>\n      <td>1</td>\n      <td>1</td>\n      <td>2</td>\n      <td>1</td>\n    </tr>\n    <tr>\n      <th>2</th>\n      <td>1</td>\n      <td>6</td>\n      <td>2</td>\n      <td>3</td>\n      <td>2647</td>\n      <td>3</td>\n      <td>3</td>\n      <td>2</td>\n      <td>3</td>\n      <td>1</td>\n      <td>...</td>\n      <td>1</td>\n      <td>44</td>\n      <td>3</td>\n      <td>1</td>\n      <td>1</td>\n      <td>3</td>\n      <td>1</td>\n      <td>1</td>\n      <td>2</td>\n      <td>1</td>\n    </tr>\n    <tr>\n      <th>3</th>\n      <td>4</td>\n      <td>11</td>\n      <td>4</td>\n      <td>0</td>\n      <td>7228</td>\n      <td>1</td>\n      <td>3</td>\n      <td>1</td>\n      <td>3</td>\n      <td>1</td>\n      <td>...</td>\n      <td>2</td>\n      <td>39</td>\n      <td>3</td>\n      <td>2</td>\n      <td>2</td>\n      <td>2</td>\n      <td>2</td>\n      <td>1</td>\n      <td>2</td>\n      <td>1</td>\n    </tr>\n    <tr>\n      <th>4</th>\n      <td>1</td>\n      <td>6</td>\n      <td>4</td>\n      <td>0</td>\n      <td>4716</td>\n      <td>5</td>\n      <td>2</td>\n      <td>1</td>\n      <td>3</td>\n      <td>1</td>\n      <td>...</td>\n      <td>1</td>\n      <td>44</td>\n      <td>3</td>\n      <td>2</td>\n      <td>2</td>\n      <td>2</td>\n      <td>1</td>\n      <td>1</td>\n      <td>2</td>\n      <td>1</td>\n    </tr>\n    <tr>\n      <th>...</th>\n      <td>...</td>\n      <td>...</td>\n      <td>...</td>\n      <td>...</td>\n      <td>...</td>\n      <td>...</td>\n      <td>...</td>\n      <td>...</td>\n      <td>...</td>\n      <td>...</td>\n      <td>...</td>\n      <td>...</td>\n      <td>...</td>\n      <td>...</td>\n      <td>...</td>\n      <td>...</td>\n      <td>...</td>\n      <td>...</td>\n      <td>...</td>\n      <td>...</td>\n      <td>...</td>\n    </tr>\n    <tr>\n      <th>295</th>\n      <td>2</td>\n      <td>24</td>\n      <td>2</td>\n      <td>3</td>\n      <td>2039</td>\n      <td>1</td>\n      <td>2</td>\n      <td>1</td>\n      <td>4</td>\n      <td>1</td>\n      <td>...</td>\n      <td>2</td>\n      <td>22</td>\n      <td>3</td>\n      <td>2</td>\n      <td>1</td>\n      <td>3</td>\n      <td>2</td>\n      <td>2</td>\n      <td>2</td>\n      <td>0</td>\n    </tr>\n    <tr>\n      <th>296</th>\n      <td>2</td>\n      <td>48</td>\n      <td>4</td>\n      <td>2</td>\n      <td>5096</td>\n      <td>1</td>\n      <td>3</td>\n      <td>2</td>\n      <td>2</td>\n      <td>1</td>\n      <td>...</td>\n      <td>3</td>\n      <td>30</td>\n      <td>3</td>\n      <td>2</td>\n      <td>1</td>\n      <td>4</td>\n      <td>2</td>\n      <td>2</td>\n      <td>2</td>\n      <td>0</td>\n    </tr>\n    <tr>\n      <th>297</th>\n      <td>1</td>\n      <td>18</td>\n      <td>2</td>\n      <td>3</td>\n      <td>1882</td>\n      <td>1</td>\n      <td>3</td>\n      <td>4</td>\n      <td>2</td>\n      <td>1</td>\n      <td>...</td>\n      <td>3</td>\n      <td>25</td>\n      <td>1</td>\n      <td>1</td>\n      <td>2</td>\n      <td>3</td>\n      <td>2</td>\n      <td>1</td>\n      <td>2</td>\n      <td>0</td>\n    </tr>\n    <tr>\n      <th>298</th>\n      <td>2</td>\n      <td>24</td>\n      <td>2</td>\n      <td>1</td>\n      <td>12579</td>\n      <td>1</td>\n      <td>5</td>\n      <td>4</td>\n      <td>2</td>\n      <td>1</td>\n      <td>...</td>\n      <td>4</td>\n      <td>44</td>\n      <td>3</td>\n      <td>3</td>\n      <td>1</td>\n      <td>4</td>\n      <td>2</td>\n      <td>2</td>\n      <td>2</td>\n      <td>0</td>\n    </tr>\n    <tr>\n      <th>299</th>\n      <td>1</td>\n      <td>24</td>\n      <td>2</td>\n      <td>3</td>\n      <td>1987</td>\n      <td>1</td>\n      <td>3</td>\n      <td>2</td>\n      <td>3</td>\n      <td>1</td>\n      <td>...</td>\n      <td>1</td>\n      <td>21</td>\n      <td>3</td>\n      <td>1</td>\n      <td>1</td>\n      <td>2</td>\n      <td>1</td>\n      <td>1</td>\n      <td>2</td>\n      <td>0</td>\n    </tr>\n  </tbody>\n</table>\n<p>300 rows × 21 columns</p>\n</div>"
     },
     "execution_count": 7,
     "metadata": {},
     "output_type": "execute_result"
    }
   ],
   "source": [
    "test = pd.read_csv(\"SGCtest.csv\")\n",
    "test"
   ],
   "metadata": {
    "collapsed": false,
    "ExecuteTime": {
     "end_time": "2023-10-30T10:19:40.586326800Z",
     "start_time": "2023-10-30T10:19:40.031892800Z"
    }
   },
   "id": "4a69109a5a8ff9d8"
  },
  {
   "cell_type": "code",
   "execution_count": 31,
   "outputs": [],
   "source": [
    "X = train[[\"kredit\"]]\n",
    "y = train[\"moral\"]"
   ],
   "metadata": {
    "collapsed": false,
    "ExecuteTime": {
     "end_time": "2023-10-30T10:30:09.995933500Z",
     "start_time": "2023-10-30T10:30:09.730827800Z"
    }
   },
   "id": "9bf701bbd0bfad8f"
  },
  {
   "cell_type": "code",
   "execution_count": 32,
   "outputs": [],
   "source": [
    "# Annahme: X enthält Features und y enthält die Zielvariable 'kredit'\n",
    "X_train, X_test, y_train, y_test = train_test_split(X, y, test_size=0.2, random_state=42)"
   ],
   "metadata": {
    "collapsed": false,
    "ExecuteTime": {
     "end_time": "2023-10-30T10:30:15.439225200Z",
     "start_time": "2023-10-30T10:30:15.308830400Z"
    }
   },
   "id": "initial_id"
  },
  {
   "cell_type": "code",
   "execution_count": 33,
   "outputs": [
    {
     "data": {
      "text/plain": "RandomForestClassifier(random_state=42)",
      "text/html": "<style>#sk-container-id-5 {color: black;}#sk-container-id-5 pre{padding: 0;}#sk-container-id-5 div.sk-toggleable {background-color: white;}#sk-container-id-5 label.sk-toggleable__label {cursor: pointer;display: block;width: 100%;margin-bottom: 0;padding: 0.3em;box-sizing: border-box;text-align: center;}#sk-container-id-5 label.sk-toggleable__label-arrow:before {content: \"▸\";float: left;margin-right: 0.25em;color: #696969;}#sk-container-id-5 label.sk-toggleable__label-arrow:hover:before {color: black;}#sk-container-id-5 div.sk-estimator:hover label.sk-toggleable__label-arrow:before {color: black;}#sk-container-id-5 div.sk-toggleable__content {max-height: 0;max-width: 0;overflow: hidden;text-align: left;background-color: #f0f8ff;}#sk-container-id-5 div.sk-toggleable__content pre {margin: 0.2em;color: black;border-radius: 0.25em;background-color: #f0f8ff;}#sk-container-id-5 input.sk-toggleable__control:checked~div.sk-toggleable__content {max-height: 200px;max-width: 100%;overflow: auto;}#sk-container-id-5 input.sk-toggleable__control:checked~label.sk-toggleable__label-arrow:before {content: \"▾\";}#sk-container-id-5 div.sk-estimator input.sk-toggleable__control:checked~label.sk-toggleable__label {background-color: #d4ebff;}#sk-container-id-5 div.sk-label input.sk-toggleable__control:checked~label.sk-toggleable__label {background-color: #d4ebff;}#sk-container-id-5 input.sk-hidden--visually {border: 0;clip: rect(1px 1px 1px 1px);clip: rect(1px, 1px, 1px, 1px);height: 1px;margin: -1px;overflow: hidden;padding: 0;position: absolute;width: 1px;}#sk-container-id-5 div.sk-estimator {font-family: monospace;background-color: #f0f8ff;border: 1px dotted black;border-radius: 0.25em;box-sizing: border-box;margin-bottom: 0.5em;}#sk-container-id-5 div.sk-estimator:hover {background-color: #d4ebff;}#sk-container-id-5 div.sk-parallel-item::after {content: \"\";width: 100%;border-bottom: 1px solid gray;flex-grow: 1;}#sk-container-id-5 div.sk-label:hover label.sk-toggleable__label {background-color: #d4ebff;}#sk-container-id-5 div.sk-serial::before {content: \"\";position: absolute;border-left: 1px solid gray;box-sizing: border-box;top: 0;bottom: 0;left: 50%;z-index: 0;}#sk-container-id-5 div.sk-serial {display: flex;flex-direction: column;align-items: center;background-color: white;padding-right: 0.2em;padding-left: 0.2em;position: relative;}#sk-container-id-5 div.sk-item {position: relative;z-index: 1;}#sk-container-id-5 div.sk-parallel {display: flex;align-items: stretch;justify-content: center;background-color: white;position: relative;}#sk-container-id-5 div.sk-item::before, #sk-container-id-5 div.sk-parallel-item::before {content: \"\";position: absolute;border-left: 1px solid gray;box-sizing: border-box;top: 0;bottom: 0;left: 50%;z-index: -1;}#sk-container-id-5 div.sk-parallel-item {display: flex;flex-direction: column;z-index: 1;position: relative;background-color: white;}#sk-container-id-5 div.sk-parallel-item:first-child::after {align-self: flex-end;width: 50%;}#sk-container-id-5 div.sk-parallel-item:last-child::after {align-self: flex-start;width: 50%;}#sk-container-id-5 div.sk-parallel-item:only-child::after {width: 0;}#sk-container-id-5 div.sk-dashed-wrapped {border: 1px dashed gray;margin: 0 0.4em 0.5em 0.4em;box-sizing: border-box;padding-bottom: 0.4em;background-color: white;}#sk-container-id-5 div.sk-label label {font-family: monospace;font-weight: bold;display: inline-block;line-height: 1.2em;}#sk-container-id-5 div.sk-label-container {text-align: center;}#sk-container-id-5 div.sk-container {/* jupyter's `normalize.less` sets `[hidden] { display: none; }` but bootstrap.min.css set `[hidden] { display: none !important; }` so we also need the `!important` here to be able to override the default hidden behavior on the sphinx rendered scikit-learn.org. See: https://github.com/scikit-learn/scikit-learn/issues/21755 */display: inline-block !important;position: relative;}#sk-container-id-5 div.sk-text-repr-fallback {display: none;}</style><div id=\"sk-container-id-5\" class=\"sk-top-container\"><div class=\"sk-text-repr-fallback\"><pre>RandomForestClassifier(random_state=42)</pre><b>In a Jupyter environment, please rerun this cell to show the HTML representation or trust the notebook. <br />On GitHub, the HTML representation is unable to render, please try loading this page with nbviewer.org.</b></div><div class=\"sk-container\" hidden><div class=\"sk-item\"><div class=\"sk-estimator sk-toggleable\"><input class=\"sk-toggleable__control sk-hidden--visually\" id=\"sk-estimator-id-5\" type=\"checkbox\" checked><label for=\"sk-estimator-id-5\" class=\"sk-toggleable__label sk-toggleable__label-arrow\">RandomForestClassifier</label><div class=\"sk-toggleable__content\"><pre>RandomForestClassifier(random_state=42)</pre></div></div></div></div></div>"
     },
     "execution_count": 33,
     "metadata": {},
     "output_type": "execute_result"
    }
   ],
   "source": [
    "# Initialisiere den Random Forest Klassifikator\n",
    "rf_classifier = RandomForestClassifier(random_state=42)\n",
    "\n",
    "# Trainiere das Modell\n",
    "rf_classifier.fit(X_train, y_train)"
   ],
   "metadata": {
    "collapsed": false,
    "ExecuteTime": {
     "end_time": "2023-10-30T10:30:16.966930400Z",
     "start_time": "2023-10-30T10:30:16.590948Z"
    }
   },
   "id": "20a4c535cb6a5318"
  },
  {
   "cell_type": "code",
   "execution_count": 34,
   "outputs": [
    {
     "name": "stdout",
     "output_type": "stream",
     "text": [
      "Accuracy: 0.4857142857142857\n",
      "\n",
      "Classification Report:\n",
      "              precision    recall  f1-score   support\n",
      "\n",
      "           0       0.00      0.00      0.00        10\n",
      "           1       0.00      0.00      0.00         9\n",
      "           2       0.49      1.00      0.65        68\n",
      "           3       0.00      0.00      0.00        16\n",
      "           4       0.00      0.00      0.00        37\n",
      "\n",
      "    accuracy                           0.49       140\n",
      "   macro avg       0.10      0.20      0.13       140\n",
      "weighted avg       0.24      0.49      0.32       140\n"
     ]
    },
    {
     "name": "stderr",
     "output_type": "stream",
     "text": [
      "C:\\Users\\bbind\\PycharmProjects\\pythonProject\\venv\\Lib\\site-packages\\sklearn\\metrics\\_classification.py:1469: UndefinedMetricWarning: Precision and F-score are ill-defined and being set to 0.0 in labels with no predicted samples. Use `zero_division` parameter to control this behavior.\n",
      "  _warn_prf(average, modifier, msg_start, len(result))\n",
      "C:\\Users\\bbind\\PycharmProjects\\pythonProject\\venv\\Lib\\site-packages\\sklearn\\metrics\\_classification.py:1469: UndefinedMetricWarning: Precision and F-score are ill-defined and being set to 0.0 in labels with no predicted samples. Use `zero_division` parameter to control this behavior.\n",
      "  _warn_prf(average, modifier, msg_start, len(result))\n",
      "C:\\Users\\bbind\\PycharmProjects\\pythonProject\\venv\\Lib\\site-packages\\sklearn\\metrics\\_classification.py:1469: UndefinedMetricWarning: Precision and F-score are ill-defined and being set to 0.0 in labels with no predicted samples. Use `zero_division` parameter to control this behavior.\n",
      "  _warn_prf(average, modifier, msg_start, len(result))\n"
     ]
    }
   ],
   "source": [
    "# Vorhersagen für das Testset\n",
    "y_pred = rf_classifier.predict(X_test)\n",
    "\n",
    "print(\"Accuracy:\", accuracy_score(y_test, y_pred))\n",
    "print(\"\\nClassification Report:\")\n",
    "print(classification_report(y_test, y_pred))"
   ],
   "metadata": {
    "collapsed": false,
    "ExecuteTime": {
     "end_time": "2023-10-30T10:30:18.989126200Z",
     "start_time": "2023-10-30T10:30:18.806616600Z"
    }
   },
   "id": "6ecc7361c4adde"
  },
  {
   "cell_type": "code",
   "execution_count": 22,
   "outputs": [
    {
     "name": "stdout",
     "output_type": "stream",
     "text": [
      "kredit: 1.0\n"
     ]
    }
   ],
   "source": [
    "importances = rf_classifier.feature_importances_\n",
    "feature_names = X.columns\n",
    "\n",
    "# Sortiere die Merkmale nach ihrer Bedeutung\n",
    "indices = importances.argsort()[::-1]\n",
    "\n",
    "# Zeige die wichtigsten Merkmale an\n",
    "for i in range(len(importances)):\n",
    "    print(f\"{feature_names[indices[i]]}: {importances[indices[i]]}\")"
   ],
   "metadata": {
    "collapsed": false,
    "ExecuteTime": {
     "end_time": "2023-10-30T10:28:51.405882400Z",
     "start_time": "2023-10-30T10:28:51.296702900Z"
    }
   },
   "id": "7a49a9b5f0dc2376"
  },
  {
   "cell_type": "code",
   "execution_count": 39,
   "outputs": [
    {
     "name": "stdout",
     "output_type": "stream",
     "text": [
      "Anzahl der Merkmale: 1, Accuracy: 0.4857142857142857\n"
     ]
    }
   ],
   "source": [
    "features = X.columns.tolist()\n",
    "\n",
    "# Leeres Dictionary, um die Accuracy für jede Merkmalskombination zu speichern\n",
    "accuracy_dict = {}\n",
    "\n",
    "# Schleife durch alle möglichen Merkmalskombinationen\n",
    "for i in range(1, len(features) + 1):\n",
    "    # Kombination von i Merkmalen auswählen\n",
    "    selected_features = features[:i]\n",
    "    \n",
    "    # Trainings- und Testdaten mit ausgewählten Merkmalen erstellen\n",
    "    X_train_selected = X_train[selected_features]\n",
    "    X_test_selected = X_test[selected_features]\n",
    "    \n",
    "    # Modell trainieren und vorhersagen\n",
    "    rf_classifier = RandomForestClassifier(random_state=42)\n",
    "    rf_classifier.fit(X_train_selected, y_train)\n",
    "    y_pred = rf_classifier.predict(X_test_selected)\n",
    "    \n",
    "    # Accuracy berechnen und im Dictionary speichern\n",
    "    accuracy = accuracy_score(y_test, y_pred)\n",
    "    accuracy_dict[i] = accuracy\n",
    "\n",
    "# Zeige die Accuracy für jede Merkmalskombination an\n",
    "for num_features, accuracy in accuracy_dict.items():\n",
    "    print(f\"Anzahl der Merkmale: {num_features}, Accuracy: {accuracy}\")"
   ],
   "metadata": {
    "collapsed": false,
    "ExecuteTime": {
     "end_time": "2023-10-30T10:34:01.586161500Z",
     "start_time": "2023-10-30T10:34:01.191695Z"
    }
   },
   "id": "ae2e3b893ece8cd9"
  },
  {
   "cell_type": "code",
   "execution_count": null,
   "outputs": [],
   "source": [],
   "metadata": {
    "collapsed": false
   },
   "id": "42f00b43885219a3"
  },
  {
   "cell_type": "code",
   "execution_count": null,
   "outputs": [],
   "source": [],
   "metadata": {
    "collapsed": false
   },
   "id": "40052486ec116004"
  }
 ],
 "metadata": {
  "kernelspec": {
   "display_name": "Python 3",
   "language": "python",
   "name": "python3"
  },
  "language_info": {
   "codemirror_mode": {
    "name": "ipython",
    "version": 2
   },
   "file_extension": ".py",
   "mimetype": "text/x-python",
   "name": "python",
   "nbconvert_exporter": "python",
   "pygments_lexer": "ipython2",
   "version": "2.7.6"
  }
 },
 "nbformat": 4,
 "nbformat_minor": 5
}
