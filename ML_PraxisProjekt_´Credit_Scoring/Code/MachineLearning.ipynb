{
 "cells": [
  {
   "cell_type": "code",
   "execution_count": 25,
   "id": "initial_id",
   "metadata": {
    "collapsed": true,
    "ExecuteTime": {
     "end_time": "2023-10-31T08:57:28.487316900Z",
     "start_time": "2023-10-31T08:57:28.300516600Z"
    }
   },
   "outputs": [],
   "source": [
    "import pandas as pd\n",
    "import matplotlib.pyplot as plt\n",
    "import seaborn as sns\n",
    "from sklearn.model_selection import train_test_split\n",
    "from sklearn.metrics import classification_report, accuracy_score\n",
    "from sklearn.model_selection import RandomizedSearchCV\n",
    "from sklearn.model_selection import GridSearchCV\n",
    "from sklearn.ensemble import RandomForestClassifier, GradientBoostingClassifier, VotingClassifier"
   ]
  },
  {
   "cell_type": "markdown",
   "source": [
    "import pandas as pd: \n",
    "Dieser Befehl importiert die pandas-Bibliothek, die in Python für die Datenmanipulation und -analyse verwendet wird. \n",
    "Sie wird üblicherweise als pd abgekürzt, um den Zugriff auf die Funktionen der Bibliothek zu erleichtern.\n",
    "\n",
    "import matplotlib.pyplot as plt: \n",
    "Dieser Befehl importiert die matplotlib-Bibliothek, die zur Erstellung von Diagrammen und Visualisierungen in Python verwendet wird. \n",
    "Sie wird als plt abgekürzt, um den Zugriff auf die Funktionen der Bibliothek zu erleichtern.\n",
    "\n",
    "import seaborn as sns: \n",
    "Dieser Befehl importiert die seaborn-Bibliothek, die auf matplotlib aufbaut und erweiterte Visualisierungsfunktionen bietet. \n",
    "Sie wird üblicherweise als sns abgekürzt.\n",
    "\n",
    "from sklearn.model_selection import train_test_split: \n",
    "Dieser Befehl importiert die train_test_split-Funktion aus der sklearn.model_selection-Bibliothek. \n",
    "Diese Funktion wird verwendet, um den Datensatz in Trainings- und Testdaten zu teilen.\n",
    "\n",
    "from sklearn.metrics import classification_report, accuracy_score: \n",
    "Dieser Befehl importiert die classification_report- und accuracy_score-Funktionen aus der sklearn.metrics-Bibliothek. \n",
    "Diese Funktionen werden verwendet, um die Leistung eines Modells zu bewerten.\n",
    "\n",
    "from sklearn.model_selection import RandomizedSearchCV: \n",
    "Dieser Befehl importiert die RandomizedSearchCV-Klasse aus der sklearn.model_selection-Bibliothek. \n",
    "Diese Klasse wird für die Durchführung einer zufälligen Suche über einen Hyperparameter-Raum verwendet, um die besten Hyperparameter für ein Modell zu finden.\n",
    "\n",
    "from sklearn.model_selection import GridSearchCV: \n",
    "Dieser Befehl importiert die GridSearchCV-Klasse aus der sklearn.model_selection-Bibliothek. \n",
    "Diese Klasse wird verwendet, um eine erschöpfende Suche über einen vorgegebenen Hyperparameter-Raum durchzuführen.\n",
    "\n",
    "from sklearn.ensemble import RandomForestClassifier, \n",
    "                             GradientBoostingClassifier, \n",
    "                             VotingClassifier: \n",
    "Dieser Befehl importiert drei verschiedene Klassifikationsalgorithmen aus der sklearn.ensemble-Bibliothek.\n",
    "Es handelt sich um den Random Forest Classifier, den Gradient Boosting Classifier und den Voting Classifier. \n",
    "Diese Algorithmen werden oft in maschinellem Lernen für Klassifikationsaufgaben verwendet."
   ],
   "metadata": {
    "collapsed": false
   },
   "id": "9115267eab0b9cee"
  },
  {
   "cell_type": "code",
   "execution_count": 26,
   "outputs": [
    {
     "data": {
      "text/plain": "     laufkont  laufzeit  moral  verw     hoehe  sparkont  beszeit      rate  \\\n0    0.333333  0.117647    0.5   0.9  0.037868      0.25     0.75  0.333333   \n1    0.000000  0.102941    1.0   0.0  0.234190      0.00     0.50  0.333333   \n2    0.000000  0.029412    0.5   0.3  0.153585      0.50     0.50  0.333333   \n3    1.000000  0.102941    1.0   0.0  0.447107      0.00     0.50  0.000000   \n4    0.000000  0.029412    1.0   0.0  0.286154      1.00     0.25  0.000000   \n..        ...       ...    ...   ...       ...       ...      ...       ...   \n295  0.333333  0.294118    0.5   0.3  0.114628      0.00     0.25  0.000000   \n296  0.333333  0.647059    1.0   0.2  0.310502      0.00     0.50  0.333333   \n297  0.000000  0.205882    0.5   0.3  0.104568      0.00     0.50  1.000000   \n298  0.333333  0.294118    0.5   0.1  0.789966      0.00     1.00  1.000000   \n299  0.000000  0.294118    0.5   0.3  0.111296      0.00     0.50  0.333333   \n\n       famges  buerge  ...      verm     alter  weitkred  wohn  bishkred  \\\n0    0.333333     0.0  ...  0.000000  0.055556       1.0   0.0  0.000000   \n1    0.666667     0.0  ...  0.000000  0.296296       1.0   0.0  0.333333   \n2    0.666667     0.0  ...  0.000000  0.444444       1.0   0.0  0.000000   \n3    0.666667     0.0  ...  0.333333  0.351852       1.0   0.5  0.333333   \n4    0.666667     0.0  ...  0.000000  0.444444       1.0   0.5  0.333333   \n..        ...     ...  ...       ...       ...       ...   ...       ...   \n295  1.000000     0.0  ...  0.333333  0.037037       1.0   0.5  0.000000   \n296  0.333333     0.0  ...  0.666667  0.185185       1.0   0.5  0.000000   \n297  0.333333     0.0  ...  0.666667  0.092593       0.0   0.0  0.333333   \n298  0.333333     0.0  ...  1.000000  0.444444       1.0   1.0  0.000000   \n299  0.666667     0.0  ...  0.000000  0.018519       1.0   0.0  0.000000   \n\n        beruf  pers  telef  gastarb  kredit  \n0    0.333333     1      0        1       1  \n1    0.666667     0      0        1       1  \n2    0.666667     0      0        1       1  \n3    0.333333     1      0        1       1  \n4    0.333333     0      0        1       1  \n..        ...   ...    ...      ...     ...  \n295  0.666667     1      1        1       0  \n296  1.000000     1      1        1       0  \n297  0.666667     1      0        1       0  \n298  1.000000     1      1        1       0  \n299  0.333333     0      0        1       0  \n\n[300 rows x 21 columns]",
      "text/html": "<div>\n<style scoped>\n    .dataframe tbody tr th:only-of-type {\n        vertical-align: middle;\n    }\n\n    .dataframe tbody tr th {\n        vertical-align: top;\n    }\n\n    .dataframe thead th {\n        text-align: right;\n    }\n</style>\n<table border=\"1\" class=\"dataframe\">\n  <thead>\n    <tr style=\"text-align: right;\">\n      <th></th>\n      <th>laufkont</th>\n      <th>laufzeit</th>\n      <th>moral</th>\n      <th>verw</th>\n      <th>hoehe</th>\n      <th>sparkont</th>\n      <th>beszeit</th>\n      <th>rate</th>\n      <th>famges</th>\n      <th>buerge</th>\n      <th>...</th>\n      <th>verm</th>\n      <th>alter</th>\n      <th>weitkred</th>\n      <th>wohn</th>\n      <th>bishkred</th>\n      <th>beruf</th>\n      <th>pers</th>\n      <th>telef</th>\n      <th>gastarb</th>\n      <th>kredit</th>\n    </tr>\n  </thead>\n  <tbody>\n    <tr>\n      <th>0</th>\n      <td>0.333333</td>\n      <td>0.117647</td>\n      <td>0.5</td>\n      <td>0.9</td>\n      <td>0.037868</td>\n      <td>0.25</td>\n      <td>0.75</td>\n      <td>0.333333</td>\n      <td>0.333333</td>\n      <td>0.0</td>\n      <td>...</td>\n      <td>0.000000</td>\n      <td>0.055556</td>\n      <td>1.0</td>\n      <td>0.0</td>\n      <td>0.000000</td>\n      <td>0.333333</td>\n      <td>1</td>\n      <td>0</td>\n      <td>1</td>\n      <td>1</td>\n    </tr>\n    <tr>\n      <th>1</th>\n      <td>0.000000</td>\n      <td>0.102941</td>\n      <td>1.0</td>\n      <td>0.0</td>\n      <td>0.234190</td>\n      <td>0.00</td>\n      <td>0.50</td>\n      <td>0.333333</td>\n      <td>0.666667</td>\n      <td>0.0</td>\n      <td>...</td>\n      <td>0.000000</td>\n      <td>0.296296</td>\n      <td>1.0</td>\n      <td>0.0</td>\n      <td>0.333333</td>\n      <td>0.666667</td>\n      <td>0</td>\n      <td>0</td>\n      <td>1</td>\n      <td>1</td>\n    </tr>\n    <tr>\n      <th>2</th>\n      <td>0.000000</td>\n      <td>0.029412</td>\n      <td>0.5</td>\n      <td>0.3</td>\n      <td>0.153585</td>\n      <td>0.50</td>\n      <td>0.50</td>\n      <td>0.333333</td>\n      <td>0.666667</td>\n      <td>0.0</td>\n      <td>...</td>\n      <td>0.000000</td>\n      <td>0.444444</td>\n      <td>1.0</td>\n      <td>0.0</td>\n      <td>0.000000</td>\n      <td>0.666667</td>\n      <td>0</td>\n      <td>0</td>\n      <td>1</td>\n      <td>1</td>\n    </tr>\n    <tr>\n      <th>3</th>\n      <td>1.000000</td>\n      <td>0.102941</td>\n      <td>1.0</td>\n      <td>0.0</td>\n      <td>0.447107</td>\n      <td>0.00</td>\n      <td>0.50</td>\n      <td>0.000000</td>\n      <td>0.666667</td>\n      <td>0.0</td>\n      <td>...</td>\n      <td>0.333333</td>\n      <td>0.351852</td>\n      <td>1.0</td>\n      <td>0.5</td>\n      <td>0.333333</td>\n      <td>0.333333</td>\n      <td>1</td>\n      <td>0</td>\n      <td>1</td>\n      <td>1</td>\n    </tr>\n    <tr>\n      <th>4</th>\n      <td>0.000000</td>\n      <td>0.029412</td>\n      <td>1.0</td>\n      <td>0.0</td>\n      <td>0.286154</td>\n      <td>1.00</td>\n      <td>0.25</td>\n      <td>0.000000</td>\n      <td>0.666667</td>\n      <td>0.0</td>\n      <td>...</td>\n      <td>0.000000</td>\n      <td>0.444444</td>\n      <td>1.0</td>\n      <td>0.5</td>\n      <td>0.333333</td>\n      <td>0.333333</td>\n      <td>0</td>\n      <td>0</td>\n      <td>1</td>\n      <td>1</td>\n    </tr>\n    <tr>\n      <th>...</th>\n      <td>...</td>\n      <td>...</td>\n      <td>...</td>\n      <td>...</td>\n      <td>...</td>\n      <td>...</td>\n      <td>...</td>\n      <td>...</td>\n      <td>...</td>\n      <td>...</td>\n      <td>...</td>\n      <td>...</td>\n      <td>...</td>\n      <td>...</td>\n      <td>...</td>\n      <td>...</td>\n      <td>...</td>\n      <td>...</td>\n      <td>...</td>\n      <td>...</td>\n      <td>...</td>\n    </tr>\n    <tr>\n      <th>295</th>\n      <td>0.333333</td>\n      <td>0.294118</td>\n      <td>0.5</td>\n      <td>0.3</td>\n      <td>0.114628</td>\n      <td>0.00</td>\n      <td>0.25</td>\n      <td>0.000000</td>\n      <td>1.000000</td>\n      <td>0.0</td>\n      <td>...</td>\n      <td>0.333333</td>\n      <td>0.037037</td>\n      <td>1.0</td>\n      <td>0.5</td>\n      <td>0.000000</td>\n      <td>0.666667</td>\n      <td>1</td>\n      <td>1</td>\n      <td>1</td>\n      <td>0</td>\n    </tr>\n    <tr>\n      <th>296</th>\n      <td>0.333333</td>\n      <td>0.647059</td>\n      <td>1.0</td>\n      <td>0.2</td>\n      <td>0.310502</td>\n      <td>0.00</td>\n      <td>0.50</td>\n      <td>0.333333</td>\n      <td>0.333333</td>\n      <td>0.0</td>\n      <td>...</td>\n      <td>0.666667</td>\n      <td>0.185185</td>\n      <td>1.0</td>\n      <td>0.5</td>\n      <td>0.000000</td>\n      <td>1.000000</td>\n      <td>1</td>\n      <td>1</td>\n      <td>1</td>\n      <td>0</td>\n    </tr>\n    <tr>\n      <th>297</th>\n      <td>0.000000</td>\n      <td>0.205882</td>\n      <td>0.5</td>\n      <td>0.3</td>\n      <td>0.104568</td>\n      <td>0.00</td>\n      <td>0.50</td>\n      <td>1.000000</td>\n      <td>0.333333</td>\n      <td>0.0</td>\n      <td>...</td>\n      <td>0.666667</td>\n      <td>0.092593</td>\n      <td>0.0</td>\n      <td>0.0</td>\n      <td>0.333333</td>\n      <td>0.666667</td>\n      <td>1</td>\n      <td>0</td>\n      <td>1</td>\n      <td>0</td>\n    </tr>\n    <tr>\n      <th>298</th>\n      <td>0.333333</td>\n      <td>0.294118</td>\n      <td>0.5</td>\n      <td>0.1</td>\n      <td>0.789966</td>\n      <td>0.00</td>\n      <td>1.00</td>\n      <td>1.000000</td>\n      <td>0.333333</td>\n      <td>0.0</td>\n      <td>...</td>\n      <td>1.000000</td>\n      <td>0.444444</td>\n      <td>1.0</td>\n      <td>1.0</td>\n      <td>0.000000</td>\n      <td>1.000000</td>\n      <td>1</td>\n      <td>1</td>\n      <td>1</td>\n      <td>0</td>\n    </tr>\n    <tr>\n      <th>299</th>\n      <td>0.000000</td>\n      <td>0.294118</td>\n      <td>0.5</td>\n      <td>0.3</td>\n      <td>0.111296</td>\n      <td>0.00</td>\n      <td>0.50</td>\n      <td>0.333333</td>\n      <td>0.666667</td>\n      <td>0.0</td>\n      <td>...</td>\n      <td>0.000000</td>\n      <td>0.018519</td>\n      <td>1.0</td>\n      <td>0.0</td>\n      <td>0.000000</td>\n      <td>0.333333</td>\n      <td>0</td>\n      <td>0</td>\n      <td>1</td>\n      <td>0</td>\n    </tr>\n  </tbody>\n</table>\n<p>300 rows × 21 columns</p>\n</div>"
     },
     "execution_count": 26,
     "metadata": {},
     "output_type": "execute_result"
    }
   ],
   "source": [
    "train = pd.read_csv(\"SGCtrainN.csv\")\n",
    "train"
   ],
   "metadata": {
    "collapsed": false,
    "ExecuteTime": {
     "end_time": "2023-10-31T08:57:44.277970700Z",
     "start_time": "2023-10-31T08:57:44.043783500Z"
    }
   },
   "id": "86a62cfb0dccabbd"
  },
  {
   "cell_type": "code",
   "execution_count": 28,
   "outputs": [
    {
     "data": {
      "text/plain": "     laufkont  laufzeit  moral  verw     hoehe  sparkont  beszeit      rate  \\\n0    0.000000  0.250000    1.0   0.2  0.042594       0.0     0.25  1.000000   \n1    0.000000  0.089286    1.0   0.0  0.139024       0.0     0.50  0.333333   \n2    0.000000  0.142857    1.0   0.0  0.101719       0.0     0.50  0.666667   \n3    0.000000  0.142857    1.0   0.0  0.104419       0.0     0.50  1.000000   \n4    0.000000  0.107143    1.0   0.0  0.108276       0.0     0.25  0.000000   \n..        ...       ...    ...   ...       ...       ...      ...       ...   \n695  0.000000  0.142857    0.0   0.3  0.326372       0.0     0.50  1.000000   \n696  0.000000  0.357143    0.5   0.0  0.111693       0.0     1.00  1.000000   \n697  1.000000  0.303571    1.0   0.0  0.683491       1.0     1.00  1.000000   \n698  0.333333  0.142857    0.5   0.3  0.341195       1.0     0.00  0.333333   \n699  0.000000  0.464286    0.5   0.2  0.334693       1.0     1.00  1.000000   \n\n       famges  buerge  ...      verm     alter  weitkred  wohn  bishkred  \\\n0    0.333333     0.0  ...  0.333333  0.035714       1.0   0.0  0.000000   \n1    0.666667     0.0  ...  0.000000  0.303571       1.0   0.0  0.333333   \n2    0.666667     0.0  ...  0.000000  0.357143       1.0   0.0  0.333333   \n3    0.666667     0.0  ...  0.333333  0.339286       0.0   0.5  0.333333   \n4    0.666667     0.0  ...  0.000000  0.517857       1.0   0.0  0.333333   \n..        ...     ...  ...       ...       ...       ...   ...       ...   \n695  0.666667     0.0  ...  0.333333  0.160714       1.0   0.0  0.333333   \n696  0.666667     0.5  ...  0.000000  0.464286       1.0   0.5  0.000000   \n697  0.666667     0.0  ...  1.000000  0.196429       1.0   1.0  0.000000   \n698  0.666667     0.0  ...  1.000000  0.589286       1.0   0.5  0.000000   \n699  0.666667     0.0  ...  0.333333  0.214286       1.0   0.5  0.000000   \n\n        beruf  pers  telef  gastarb  kredit  \n0    0.666667     1      0        1       1  \n1    0.666667     0      0        1       1  \n2    0.333333     0      0        0       1  \n3    0.333333     1      0        0       1  \n4    0.333333     0      0        0       1  \n..        ...   ...    ...      ...     ...  \n695  0.666667     1      1        1       0  \n696  0.666667     1      0        1       0  \n697  1.000000     1      1        1       0  \n698  1.000000     1      1        1       0  \n699  0.666667     1      0        1       0  \n\n[700 rows x 21 columns]",
      "text/html": "<div>\n<style scoped>\n    .dataframe tbody tr th:only-of-type {\n        vertical-align: middle;\n    }\n\n    .dataframe tbody tr th {\n        vertical-align: top;\n    }\n\n    .dataframe thead th {\n        text-align: right;\n    }\n</style>\n<table border=\"1\" class=\"dataframe\">\n  <thead>\n    <tr style=\"text-align: right;\">\n      <th></th>\n      <th>laufkont</th>\n      <th>laufzeit</th>\n      <th>moral</th>\n      <th>verw</th>\n      <th>hoehe</th>\n      <th>sparkont</th>\n      <th>beszeit</th>\n      <th>rate</th>\n      <th>famges</th>\n      <th>buerge</th>\n      <th>...</th>\n      <th>verm</th>\n      <th>alter</th>\n      <th>weitkred</th>\n      <th>wohn</th>\n      <th>bishkred</th>\n      <th>beruf</th>\n      <th>pers</th>\n      <th>telef</th>\n      <th>gastarb</th>\n      <th>kredit</th>\n    </tr>\n  </thead>\n  <tbody>\n    <tr>\n      <th>0</th>\n      <td>0.000000</td>\n      <td>0.250000</td>\n      <td>1.0</td>\n      <td>0.2</td>\n      <td>0.042594</td>\n      <td>0.0</td>\n      <td>0.25</td>\n      <td>1.000000</td>\n      <td>0.333333</td>\n      <td>0.0</td>\n      <td>...</td>\n      <td>0.333333</td>\n      <td>0.035714</td>\n      <td>1.0</td>\n      <td>0.0</td>\n      <td>0.000000</td>\n      <td>0.666667</td>\n      <td>1</td>\n      <td>0</td>\n      <td>1</td>\n      <td>1</td>\n    </tr>\n    <tr>\n      <th>1</th>\n      <td>0.000000</td>\n      <td>0.089286</td>\n      <td>1.0</td>\n      <td>0.0</td>\n      <td>0.139024</td>\n      <td>0.0</td>\n      <td>0.50</td>\n      <td>0.333333</td>\n      <td>0.666667</td>\n      <td>0.0</td>\n      <td>...</td>\n      <td>0.000000</td>\n      <td>0.303571</td>\n      <td>1.0</td>\n      <td>0.0</td>\n      <td>0.333333</td>\n      <td>0.666667</td>\n      <td>0</td>\n      <td>0</td>\n      <td>1</td>\n      <td>1</td>\n    </tr>\n    <tr>\n      <th>2</th>\n      <td>0.000000</td>\n      <td>0.142857</td>\n      <td>1.0</td>\n      <td>0.0</td>\n      <td>0.101719</td>\n      <td>0.0</td>\n      <td>0.50</td>\n      <td>0.666667</td>\n      <td>0.666667</td>\n      <td>0.0</td>\n      <td>...</td>\n      <td>0.000000</td>\n      <td>0.357143</td>\n      <td>1.0</td>\n      <td>0.0</td>\n      <td>0.333333</td>\n      <td>0.333333</td>\n      <td>0</td>\n      <td>0</td>\n      <td>0</td>\n      <td>1</td>\n    </tr>\n    <tr>\n      <th>3</th>\n      <td>0.000000</td>\n      <td>0.142857</td>\n      <td>1.0</td>\n      <td>0.0</td>\n      <td>0.104419</td>\n      <td>0.0</td>\n      <td>0.50</td>\n      <td>1.000000</td>\n      <td>0.666667</td>\n      <td>0.0</td>\n      <td>...</td>\n      <td>0.333333</td>\n      <td>0.339286</td>\n      <td>0.0</td>\n      <td>0.5</td>\n      <td>0.333333</td>\n      <td>0.333333</td>\n      <td>1</td>\n      <td>0</td>\n      <td>0</td>\n      <td>1</td>\n    </tr>\n    <tr>\n      <th>4</th>\n      <td>0.000000</td>\n      <td>0.107143</td>\n      <td>1.0</td>\n      <td>0.0</td>\n      <td>0.108276</td>\n      <td>0.0</td>\n      <td>0.25</td>\n      <td>0.000000</td>\n      <td>0.666667</td>\n      <td>0.0</td>\n      <td>...</td>\n      <td>0.000000</td>\n      <td>0.517857</td>\n      <td>1.0</td>\n      <td>0.0</td>\n      <td>0.333333</td>\n      <td>0.333333</td>\n      <td>0</td>\n      <td>0</td>\n      <td>0</td>\n      <td>1</td>\n    </tr>\n    <tr>\n      <th>...</th>\n      <td>...</td>\n      <td>...</td>\n      <td>...</td>\n      <td>...</td>\n      <td>...</td>\n      <td>...</td>\n      <td>...</td>\n      <td>...</td>\n      <td>...</td>\n      <td>...</td>\n      <td>...</td>\n      <td>...</td>\n      <td>...</td>\n      <td>...</td>\n      <td>...</td>\n      <td>...</td>\n      <td>...</td>\n      <td>...</td>\n      <td>...</td>\n      <td>...</td>\n      <td>...</td>\n    </tr>\n    <tr>\n      <th>695</th>\n      <td>0.000000</td>\n      <td>0.142857</td>\n      <td>0.0</td>\n      <td>0.3</td>\n      <td>0.326372</td>\n      <td>0.0</td>\n      <td>0.50</td>\n      <td>1.000000</td>\n      <td>0.666667</td>\n      <td>0.0</td>\n      <td>...</td>\n      <td>0.333333</td>\n      <td>0.160714</td>\n      <td>1.0</td>\n      <td>0.0</td>\n      <td>0.333333</td>\n      <td>0.666667</td>\n      <td>1</td>\n      <td>1</td>\n      <td>1</td>\n      <td>0</td>\n    </tr>\n    <tr>\n      <th>696</th>\n      <td>0.000000</td>\n      <td>0.357143</td>\n      <td>0.5</td>\n      <td>0.0</td>\n      <td>0.111693</td>\n      <td>0.0</td>\n      <td>1.00</td>\n      <td>1.000000</td>\n      <td>0.666667</td>\n      <td>0.5</td>\n      <td>...</td>\n      <td>0.000000</td>\n      <td>0.464286</td>\n      <td>1.0</td>\n      <td>0.5</td>\n      <td>0.000000</td>\n      <td>0.666667</td>\n      <td>1</td>\n      <td>0</td>\n      <td>1</td>\n      <td>0</td>\n    </tr>\n    <tr>\n      <th>697</th>\n      <td>1.000000</td>\n      <td>0.303571</td>\n      <td>1.0</td>\n      <td>0.0</td>\n      <td>0.683491</td>\n      <td>1.0</td>\n      <td>1.00</td>\n      <td>1.000000</td>\n      <td>0.666667</td>\n      <td>0.0</td>\n      <td>...</td>\n      <td>1.000000</td>\n      <td>0.196429</td>\n      <td>1.0</td>\n      <td>1.0</td>\n      <td>0.000000</td>\n      <td>1.000000</td>\n      <td>1</td>\n      <td>1</td>\n      <td>1</td>\n      <td>0</td>\n    </tr>\n    <tr>\n      <th>698</th>\n      <td>0.333333</td>\n      <td>0.142857</td>\n      <td>0.5</td>\n      <td>0.3</td>\n      <td>0.341195</td>\n      <td>1.0</td>\n      <td>0.00</td>\n      <td>0.333333</td>\n      <td>0.666667</td>\n      <td>0.0</td>\n      <td>...</td>\n      <td>1.000000</td>\n      <td>0.589286</td>\n      <td>1.0</td>\n      <td>0.5</td>\n      <td>0.000000</td>\n      <td>1.000000</td>\n      <td>1</td>\n      <td>1</td>\n      <td>1</td>\n      <td>0</td>\n    </tr>\n    <tr>\n      <th>699</th>\n      <td>0.000000</td>\n      <td>0.464286</td>\n      <td>0.5</td>\n      <td>0.2</td>\n      <td>0.334693</td>\n      <td>1.0</td>\n      <td>1.00</td>\n      <td>1.000000</td>\n      <td>0.666667</td>\n      <td>0.0</td>\n      <td>...</td>\n      <td>0.333333</td>\n      <td>0.214286</td>\n      <td>1.0</td>\n      <td>0.5</td>\n      <td>0.000000</td>\n      <td>0.666667</td>\n      <td>1</td>\n      <td>0</td>\n      <td>1</td>\n      <td>0</td>\n    </tr>\n  </tbody>\n</table>\n<p>700 rows × 21 columns</p>\n</div>"
     },
     "execution_count": 28,
     "metadata": {},
     "output_type": "execute_result"
    }
   ],
   "source": [
    "test = pd.read_csv(\"SGCtestN.csv\")\n",
    "test"
   ],
   "metadata": {
    "collapsed": false,
    "ExecuteTime": {
     "end_time": "2023-10-31T08:57:57.709264100Z",
     "start_time": "2023-10-31T08:57:57.440111Z"
    }
   },
   "id": "f0619864693c371d"
  },
  {
   "cell_type": "code",
   "execution_count": 29,
   "outputs": [
    {
     "data": {
      "text/plain": "['laufkont',\n 'laufzeit',\n 'moral',\n 'verw',\n 'hoehe',\n 'sparkont',\n 'beszeit',\n 'rate',\n 'famges',\n 'buerge',\n 'wohnzeit',\n 'verm',\n 'alter',\n 'weitkred',\n 'wohn',\n 'bishkred',\n 'beruf',\n 'pers',\n 'telef',\n 'gastarb',\n 'kredit']"
     },
     "execution_count": 29,
     "metadata": {},
     "output_type": "execute_result"
    }
   ],
   "source": [
    "features = train.columns.tolist()\n",
    "features"
   ],
   "metadata": {
    "collapsed": false,
    "ExecuteTime": {
     "end_time": "2023-10-31T08:58:02.720835Z",
     "start_time": "2023-10-31T08:58:02.551423Z"
    }
   },
   "id": "bc01cea5a3aa5d33"
  },
  {
   "cell_type": "markdown",
   "source": [
    "Hier wird der Datensatz in Eingabemerkmale (X) und Zielvariablen (y) aufgeteilt.\n",
    "\n",
    "X = train.drop('kredit', axis=1): \n",
    "Hier wird X so definiert, dass es alle Spalten aus dem Datensatz train enthält, außer der Spalte mit dem Namen 'kredit'. \n",
    "Das bedeutet, dass X alle Merkmale enthält, die zur Vorhersage der Kreditwürdigkeit verwendet werden sollen.\n",
    "\n",
    "y = train['kredit']: \n",
    "Hier wird y so definiert, dass es nur die Spalte mit dem Namen 'kredit' aus dem Datensatz train enthält.\n",
    "Das bedeutet, dass y die Zielvariable ist, die das Modell vorhersagen soll, nämlich die Kreditwürdigkeit.\n",
    "\n",
    "Nach der Ausführung dieser beiden Zeilen hat X alle Merkmale außer der Zielvariable und y enthält nur die Zielvariable. \n",
    "Das Modell wird dann auf den Merkmalen in X trainiert, um die Kreditwürdigkeit in y vorherzusagen."
   ],
   "metadata": {
    "collapsed": false
   },
   "id": "f8902da2e1fdcea3"
  },
  {
   "cell_type": "code",
   "execution_count": 30,
   "outputs": [],
   "source": [
    "X = train.drop('kredit', axis=1)\n",
    "y = train['kredit']"
   ],
   "metadata": {
    "collapsed": false,
    "ExecuteTime": {
     "end_time": "2023-10-31T08:58:06.571759200Z",
     "start_time": "2023-10-31T08:58:06.463270300Z"
    }
   },
   "id": "e7477e20f65466f5"
  },
  {
   "cell_type": "markdown",
   "source": [
    "X: \n",
    "Dies ist der Merkmalsdatensatz, der normalerweise als eine Matrix dargestellt wird. \n",
    "Er enthält die Eingabemerkmale, die für das Training des Modells verwendet werden.\n",
    "\n",
    "y: \n",
    "Dies ist der Zielvektor oder die Zielvariable. \n",
    "Er enthält die Ausgabewerte, die das Modell vorhersagen soll.\n",
    "\n",
    "test_size=0.2: \n",
    "Dieser Parameter legt den Anteil des Datensatzes fest, der als Testdaten verwendet wird. \n",
    "In diesem Fall werden 20% des Datensatzes als Testdaten und 80% als Trainingsdaten verwendet.\n",
    "\n",
    "random_state=42: \n",
    "Dieser Parameter legt den Startwert für den Zufallszahlengenerator fest. \n",
    "Dies beeinflusst die Art und Weise, wie die Daten in Trainings- und Testsets aufgeteilt werden. \n",
    "Ein bestimmter random_state führt immer zur gleichen Aufteilung, was wichtig ist, um die Ergebnisse reproduzierbar zu machen.\n",
    "\n",
    "Nach der Ausführung dieses Codes werden X_train und X_test die aufgeteilten Merkmalsdatensätze sein, \n",
    "während y_train und y_test die zugehörigen Zielvariablen für das Training und das Testen des Modells sein werden. \n",
    "Dies ist ein entscheidender Schritt in der Modellentwicklung, da er sicherstellt, \n",
    "dass das Modell auf unabhängigen Daten getestet wird, um die Generalisierungsfähigkeit zu bewerten."
   ],
   "metadata": {
    "collapsed": false
   },
   "id": "3dd39872b0f0dd29"
  },
  {
   "cell_type": "code",
   "execution_count": 31,
   "outputs": [],
   "source": [
    "X_train, X_test, y_train, y_test = train_test_split(X, y, test_size=0.2, random_state=42)"
   ],
   "metadata": {
    "collapsed": false,
    "ExecuteTime": {
     "end_time": "2023-10-31T08:58:18.332697300Z",
     "start_time": "2023-10-31T08:58:18.202600900Z"
    }
   },
   "id": "7c7712068113f26f"
  },
  {
   "cell_type": "markdown",
   "source": [
    "Dieser Code führt eine sogenannte \"Feature Selection\" durch, bei der versucht wird, die besten Merkmale zu identifizieren,\n",
    "die für die Vorhersage der Kreditwürdigkeit am wichtigsten sind. \n",
    "\n",
    "Lassen Sie mich den Code Schritt für Schritt erklären:\n",
    "\n",
    "features = X.columns.tolist(): \n",
    "Hier wird eine Liste mit den Namen aller Merkmale in X erstellt. \n",
    "X.columns gibt die Spaltennamen des Merkmalsdatensatzes zurück, und tolist() wandelt sie in eine Liste um.\n",
    "\n",
    "accuracy_dict = {}: Hier wird ein leeres Dictionary erstellt, das später dazu verwendet wird, die Accuracy für jede Merkmalskombination zu speichern.\n",
    "\n",
    "Die folgende Schleife durchläuft alle möglichen Anzahlen von Merkmalen (von 1 bis zur Gesamtanzahl der Merkmale):\n",
    "\n",
    "for i in range(1, len(features) + 1):\n",
    "\n",
    "Innerhalb der Schleife werden die i wichtigsten Merkmale ausgewählt:\n",
    "\n",
    "selected_features = features[:i]\n",
    "\n",
    "Dies geschieht, indem die ersten i Elemente der features-Liste ausgewählt werden. \n",
    "Dies repräsentiert eine mögliche Kombination von i Merkmalen.\n",
    "\n",
    "Dann werden die Trainings- und Testdaten mit den ausgewählten Merkmalen erstellt:\n",
    "\n",
    "X_train_selected = X_train[selected_features]\n",
    "X_test_selected = X_test[selected_features]\n",
    "\n",
    "Dabei handelt es sich um Teilmengen der ursprünglichen Daten, die nur die ausgewählten Merkmale enthalten.\n",
    "\n",
    "Es wird ein Random Forest Classifier-Modell initialisiert, trainiert und verwendet, um Vorhersagen zu treffen:\n",
    "rf_classifier = RandomForestClassifier(random_state=42)\n",
    "rf_classifier.fit(X_train_selected, y_train)\n",
    "y_pred = rf_classifier.predict(X_test_selected)\n",
    "\n",
    "Die Accuracy des Modells wird berechnet und im accuracy_dict gespeichert:\n",
    "accuracy = accuracy_score(y_test, y_pred)\n",
    "accuracy_dict[i] = accuracy\n",
    "\n",
    "Am Ende der Schleife wird die Accuracy für jede Anzahl von Merkmalen angezeigt:\n",
    "for num_features, accuracy in accuracy_dict.items():\n",
    "    print(f\"Anzahl der Merkmale: {num_features}, Accuracy: {accuracy}\")\n",
    "    \n",
    "Dieser Code führt also eine sogenannte \"Feature Selection\" durch, \n",
    "indem er verschiedene Kombinationen von Merkmalen verwendet und die Modellleistung (in Form der Accuracy) für jede Kombination misst. \n",
    "Das kann helfen, die wichtigsten Merkmale zu identifizieren, die für die Vorhersage der Kreditwürdigkeit am relevantesten sind."
   ],
   "metadata": {
    "collapsed": false
   },
   "id": "1d137938331c5652"
  },
  {
   "cell_type": "code",
   "execution_count": 32,
   "outputs": [
    {
     "name": "stdout",
     "output_type": "stream",
     "text": [
      "Anzahl der Merkmale: 1, Accuracy: 0.7333333333333333\n",
      "Anzahl der Merkmale: 2, Accuracy: 0.6666666666666666\n",
      "Anzahl der Merkmale: 3, Accuracy: 0.7333333333333333\n",
      "Anzahl der Merkmale: 4, Accuracy: 0.7166666666666667\n",
      "Anzahl der Merkmale: 5, Accuracy: 0.75\n",
      "Anzahl der Merkmale: 6, Accuracy: 0.7833333333333333\n",
      "Anzahl der Merkmale: 7, Accuracy: 0.7833333333333333\n",
      "Anzahl der Merkmale: 8, Accuracy: 0.7833333333333333\n",
      "Anzahl der Merkmale: 9, Accuracy: 0.7666666666666667\n",
      "Anzahl der Merkmale: 10, Accuracy: 0.7666666666666667\n",
      "Anzahl der Merkmale: 11, Accuracy: 0.7833333333333333\n",
      "Anzahl der Merkmale: 12, Accuracy: 0.7666666666666667\n",
      "Anzahl der Merkmale: 13, Accuracy: 0.8\n",
      "Anzahl der Merkmale: 14, Accuracy: 0.8\n",
      "Anzahl der Merkmale: 15, Accuracy: 0.8\n",
      "Anzahl der Merkmale: 16, Accuracy: 0.8333333333333334\n",
      "Anzahl der Merkmale: 17, Accuracy: 0.8\n",
      "Anzahl der Merkmale: 18, Accuracy: 0.7833333333333333\n",
      "Anzahl der Merkmale: 19, Accuracy: 0.7666666666666667\n",
      "Anzahl der Merkmale: 20, Accuracy: 0.8\n"
     ]
    }
   ],
   "source": [
    "features = X.columns.tolist()\n",
    "\n",
    "accuracy_dict = {}\n",
    "\n",
    "for i in range(1, len(features) + 1):\n",
    "    \n",
    "    selected_features = features[:i]\n",
    "    \n",
    "    X_train_selected = X_train[selected_features]\n",
    "    X_test_selected = X_test[selected_features]\n",
    "    \n",
    "    rf_classifier = RandomForestClassifier(random_state=42)\n",
    "    rf_classifier.fit(X_train_selected, y_train)\n",
    "    y_pred = rf_classifier.predict(X_test_selected)\n",
    "    \n",
    "    accuracy = accuracy_score(y_test, y_pred)\n",
    "    accuracy_dict[i] = accuracy\n",
    "\n",
    "for num_features, accuracy in accuracy_dict.items():\n",
    "    print(f\"Anzahl der Merkmale: {num_features}, Accuracy: {accuracy}\")"
   ],
   "metadata": {
    "collapsed": false,
    "ExecuteTime": {
     "end_time": "2023-10-31T08:58:28.907399200Z",
     "start_time": "2023-10-31T08:58:21.050206300Z"
    }
   },
   "id": "9b33445180188602"
  },
  {
   "cell_type": "markdown",
   "source": [
    "In diesem Code-Abschnitt werden folgende Schritte durchgeführt:\n",
    "\n",
    "Es werden die Merkmale (X) und die Zielvariable (y) festgelegt:\n",
    "X = train[['laufkont', 'laufzeit', 'moral', 'verw', 'hoehe', 'sparkont', 'beszeit', 'rate', 'famges', 'buerge', 'wohnzeit', 'verm', 'alter', 'weitkred', 'wohn', 'bishkred', 'beruf', 'pers', 'telef', 'gastarb']]\n",
    "y = train['kredit']\n",
    "\n",
    "Hier werden spezifische Spalten aus dem Datensatz train ausgewählt, um sie als Merkmale (X) und Zielvariable (y) zu verwenden.\n",
    "Diese Spalten repräsentieren unterschiedliche Eigenschaften, die für das Modell relevant sein könnten.\n",
    "\n",
    "Ein Random Forest Classifier-Modell wird initialisiert und trainiert:\n",
    "model = RandomForestClassifier(n_estimators=100, random_state=42)\n",
    "model.fit(X, y)\n",
    "\n",
    "Hier wird ein Random Forest Classifier-Modell mit 100 Bäumen initialisiert und auf den Merkmalen (X) und der Zielvariable (y) trainiert.\n",
    "\n",
    "Die Bedeutung der Merkmale wird abgerufen:\n",
    "\n",
    "feature_importance = model.feature_importances_\n",
    "\n",
    "Der trainierte Random Forest Classifier wird verwendet, um die Bedeutung der einzelnen Merkmale zu bestimmen. \n",
    "Diese Bedeutungen werden in der Variable feature_importance gespeichert.\n",
    "\n",
    "Eine Liste der Merkmale und ihrer Bedeutung wird erstellt:\n",
    "features = ['laufkont', 'laufzeit', 'moral', 'verw', 'hoehe', 'sparkont', 'beszeit', 'rate', 'famges', 'buerge', 'wohnzeit', 'verm', 'alter', 'weitkred', 'wohn', 'bishkred', 'beruf', 'pers', 'telef', 'gastarb']\n",
    "\n",
    "feature_importance_dict = dict(zip(features, feature_importance))\n",
    "Hier werden die Merkmale in einer Liste features gespeichert und dann mit den entsprechenden Bedeutungen in einem Dictionary feature_importance_dict kombiniert.\n",
    "\n",
    "Die Merkmale werden nach ihrer Bedeutung sortiert:\n",
    "sorted_features = sorted(feature_importance_dict.items(), key=lambda x: x[1], reverse=True)\n",
    "Die Merkmale werden nach ihrer Bedeutung in absteigender Reihenfolge sortiert, wobei die wichtigsten zuerst erscheinen.\n",
    "\n",
    "Schließlich werden die wichtigsten Merkmale angezeigt:\n",
    "topfeatures = sorted_features[0:]\n",
    "topfeatures\n",
    "\n",
    "Hier werden alle Merkmale angezeigt, aber es wäre sinnvoller, nur die Top-Merkmale anzuzeigen, zum Beispiel die ersten fünf oder zehn.\n",
    "\n",
    "Insgesamt bietet dieser Code eine Methode zur Identifizierung der wichtigsten Merkmale, die zur Vorhersage der Kreditwürdigkeit beitragen.\n",
    "Dies könnte hilfreich sein, um das Modell zu verstehen und möglicherweise die Feature-Auswahl zu optimieren."
   ],
   "metadata": {
    "collapsed": false
   },
   "id": "d7d95636a294548a"
  },
  {
   "cell_type": "code",
   "execution_count": 33,
   "outputs": [
    {
     "data": {
      "text/plain": "[('hoehe', 0.13792801715751105),\n ('alter', 0.10936886922942808),\n ('laufzeit', 0.10627076249953749),\n ('laufkont', 0.07883285659319296),\n ('verw', 0.06512811647732006),\n ('moral', 0.055610485224967636),\n ('verm', 0.055131333134587145),\n ('beszeit', 0.05472158654280987),\n ('sparkont', 0.04981519358834176),\n ('famges', 0.04551540034398268),\n ('wohnzeit', 0.04132510643719667),\n ('rate', 0.03849932822688911),\n ('wohn', 0.02826823083645686),\n ('weitkred', 0.028209960311019695),\n ('beruf', 0.027947820620363432),\n ('bishkred', 0.021960383484074617),\n ('telef', 0.020479233990815804),\n ('buerge', 0.019112469863320936),\n ('pers', 0.012031400560850811),\n ('gastarb', 0.003843444877333513)]"
     },
     "execution_count": 33,
     "metadata": {},
     "output_type": "execute_result"
    }
   ],
   "source": [
    "X = train[['laufkont', 'laufzeit', 'moral', 'verw', 'hoehe', 'sparkont', 'beszeit', 'rate', 'famges', 'buerge', 'wohnzeit', 'verm', 'alter', 'weitkred', 'wohn', 'bishkred', 'beruf', 'pers', 'telef', 'gastarb']]\n",
    "y = train['kredit']\n",
    "\n",
    "model = RandomForestClassifier(n_estimators=100, random_state=42)\n",
    "\n",
    "model.fit(X, y)\n",
    "\n",
    "feature_importance = model.feature_importances_\n",
    "\n",
    "features = ['laufkont', 'laufzeit', 'moral', 'verw', 'hoehe', 'sparkont', 'beszeit', 'rate', 'famges', 'buerge', 'wohnzeit', 'verm', 'alter', 'weitkred', 'wohn', 'bishkred', 'beruf', 'pers', 'telef', 'gastarb']\n",
    "\n",
    "feature_importance_dict = dict(zip(features, feature_importance))\n",
    "\n",
    "sorted_features = sorted(feature_importance_dict.items(), key=lambda x: x[1], reverse=True)\n",
    "\n",
    "topfeatures = sorted_features[0:]\n",
    "topfeatures"
   ],
   "metadata": {
    "collapsed": false,
    "ExecuteTime": {
     "end_time": "2023-10-31T08:58:36.240736600Z",
     "start_time": "2023-10-31T08:58:35.642204200Z"
    }
   },
   "id": "6eff71eb078fa380"
  },
  {
   "cell_type": "markdown",
   "source": [
    "Aufteilung der Daten in Trainings- und Testsets. Hier sind die Schritte im Detail erklärt:\n",
    "\n",
    "X = train.drop('kredit', axis=1): In dieser Zeile wird der Merkmalsdatensatz X erstellt. \n",
    "Er enthält alle Spalten aus dem ursprünglichen Datensatz train, außer der Spalte mit dem Namen 'kredit'. \n",
    "Das bedeutet, dass X alle Merkmale enthält, die zur Vorhersage der Kreditwürdigkeit verwendet werden sollen.\n",
    "\n",
    "y = train['kredit']: Hier wird der Zielvektor y erstellt.\n",
    "Er enthält nur die Spalte mit dem Namen 'kredit' aus dem ursprünglichen Datensatz train.\n",
    "Das bedeutet, dass y die Zielvariable ist, die das Modell vorhersagen soll, nämlich die Kreditwürdigkeit.\n",
    "\n",
    "X_train, X_test, y_train, y_test = train_test_split(X, y, test_size=0.2, random_state=42): In dieser Zeile werden die Daten in Trainings- und Testsets aufgeteilt. \n",
    "Die Funktion train_test_split teilt die Daten in zwei Teile auf: X_train und y_train werden als Trainingsdaten verwendet, während X_test und y_test als Testdaten dienen. \n",
    "\n",
    "Der Parameter test_size=0.2 bedeutet, dass 20% der Daten für das Testset verwendet werden. Der Parameter random_state=42 sorgt dafür,\n",
    "dass die Aufteilung der Daten reproduzierbar ist, da er den Startwert für den Zufallszahlengenerator festlegt.\n",
    "\n",
    "Zusammengefasst stellt dieser Code sicher, dass die Daten korrekt in Trainings- und Testsets aufgeteilt werden,\n",
    " wobei die Merkmale in X und die Zielvariable in y organisiert sind. Dies ist ein entscheidender Schritt in der Modellentwicklung, um die Leistung des Modells zu bewerten."
   ],
   "metadata": {
    "collapsed": false
   },
   "id": "22f8bd57563d2392"
  },
  {
   "cell_type": "code",
   "execution_count": 34,
   "outputs": [],
   "source": [
    "X = train.drop('kredit', axis=1)\n",
    "y = train['kredit']\n",
    "\n",
    "X_train, X_test, y_train, y_test = train_test_split(X, y, test_size=0.2, random_state=42)"
   ],
   "metadata": {
    "collapsed": false,
    "ExecuteTime": {
     "end_time": "2023-10-31T08:59:09.749801800Z",
     "start_time": "2023-10-31T08:59:09.642311900Z"
    }
   },
   "id": "9a7eed17ab877f05"
  },
  {
   "cell_type": "markdown",
   "source": [
    "Hier wird ein Random Forest Classifier-Modell initialisiert. Der RandomForestClassifier ist ein Algorithmus im maschinellen Lernen,\n",
    "der auf Ensemble-Lernen basiert. Er verwendet eine Kombination von Entscheidungsbäumen, um bessere Vorhersagen zu treffen.\n",
    "\n",
    "RandomForestClassifier: Dies ist die Klasse des Random Forest Klassifikators in der sklearn.ensemble-Bibliothek, die für Klassifikationsaufgaben verwendet wird.\n",
    "\n",
    "random_state=42: \n",
    "Dieser Parameter setzt den Startwert für den Zufallszahlengenerator im Modell. Ein bestimmter random_state führt immer zur gleichen Zufallsauswahl, \n",
    "was wichtig ist, um die Ergebnisse reproduzierbar zu machen. In diesem Fall wird der Wert 42 als Startwert verwendet.\n",
    "\n",
    "Nachdem das Modell initialisiert wurde, kann es trainiert werden, um Vorhersagen zu treffen."
   ],
   "metadata": {
    "collapsed": false
   },
   "id": "c764c41e53b583fc"
  },
  {
   "cell_type": "code",
   "execution_count": 35,
   "outputs": [],
   "source": [
    "model = RandomForestClassifier(random_state=42)"
   ],
   "metadata": {
    "collapsed": false,
    "ExecuteTime": {
     "end_time": "2023-10-31T08:59:12.251750400Z",
     "start_time": "2023-10-31T08:59:11.975936300Z"
    }
   },
   "id": "c1d0f01b175e6aea"
  },
  {
   "cell_type": "markdown",
   "source": [
    "In dieser Zeile wird das Random Forest Classifier-Modell (model) mit den Trainingsdaten (X_train und y_train) trainiert. Hier ist die Bedeutung jedes Teils:\n",
    "\n",
    "model: Dies ist die vorher initialisierte Instanz des Random Forest Classifier-Modells.\n",
    "\n",
    "fit(X_train, y_train): \n",
    "Die Methode fit wird aufgerufen, um das Modell an die Trainingsdaten anzupassen. \n",
    "X_train sind die Eingabemerkmale (die Matrix der Merkmale) und y_train ist der Zielvektor (die Zielvariable). \n",
    "Das Modell wird trainiert, indem es die Beziehung zwischen den Merkmalen und den Zielwerten lernt.\n",
    "\n",
    "Nachdem diese Zeile ausgeführt wurde, ist das Modell trainiert und kann verwendet werden, um Vorhersagen für neue Daten zu treffen."
   ],
   "metadata": {
    "collapsed": false
   },
   "id": "dd5d1c8f51e08974"
  },
  {
   "cell_type": "code",
   "execution_count": 36,
   "outputs": [
    {
     "data": {
      "text/plain": "RandomForestClassifier(random_state=42)",
      "text/html": "<style>#sk-container-id-2 {color: black;}#sk-container-id-2 pre{padding: 0;}#sk-container-id-2 div.sk-toggleable {background-color: white;}#sk-container-id-2 label.sk-toggleable__label {cursor: pointer;display: block;width: 100%;margin-bottom: 0;padding: 0.3em;box-sizing: border-box;text-align: center;}#sk-container-id-2 label.sk-toggleable__label-arrow:before {content: \"▸\";float: left;margin-right: 0.25em;color: #696969;}#sk-container-id-2 label.sk-toggleable__label-arrow:hover:before {color: black;}#sk-container-id-2 div.sk-estimator:hover label.sk-toggleable__label-arrow:before {color: black;}#sk-container-id-2 div.sk-toggleable__content {max-height: 0;max-width: 0;overflow: hidden;text-align: left;background-color: #f0f8ff;}#sk-container-id-2 div.sk-toggleable__content pre {margin: 0.2em;color: black;border-radius: 0.25em;background-color: #f0f8ff;}#sk-container-id-2 input.sk-toggleable__control:checked~div.sk-toggleable__content {max-height: 200px;max-width: 100%;overflow: auto;}#sk-container-id-2 input.sk-toggleable__control:checked~label.sk-toggleable__label-arrow:before {content: \"▾\";}#sk-container-id-2 div.sk-estimator input.sk-toggleable__control:checked~label.sk-toggleable__label {background-color: #d4ebff;}#sk-container-id-2 div.sk-label input.sk-toggleable__control:checked~label.sk-toggleable__label {background-color: #d4ebff;}#sk-container-id-2 input.sk-hidden--visually {border: 0;clip: rect(1px 1px 1px 1px);clip: rect(1px, 1px, 1px, 1px);height: 1px;margin: -1px;overflow: hidden;padding: 0;position: absolute;width: 1px;}#sk-container-id-2 div.sk-estimator {font-family: monospace;background-color: #f0f8ff;border: 1px dotted black;border-radius: 0.25em;box-sizing: border-box;margin-bottom: 0.5em;}#sk-container-id-2 div.sk-estimator:hover {background-color: #d4ebff;}#sk-container-id-2 div.sk-parallel-item::after {content: \"\";width: 100%;border-bottom: 1px solid gray;flex-grow: 1;}#sk-container-id-2 div.sk-label:hover label.sk-toggleable__label {background-color: #d4ebff;}#sk-container-id-2 div.sk-serial::before {content: \"\";position: absolute;border-left: 1px solid gray;box-sizing: border-box;top: 0;bottom: 0;left: 50%;z-index: 0;}#sk-container-id-2 div.sk-serial {display: flex;flex-direction: column;align-items: center;background-color: white;padding-right: 0.2em;padding-left: 0.2em;position: relative;}#sk-container-id-2 div.sk-item {position: relative;z-index: 1;}#sk-container-id-2 div.sk-parallel {display: flex;align-items: stretch;justify-content: center;background-color: white;position: relative;}#sk-container-id-2 div.sk-item::before, #sk-container-id-2 div.sk-parallel-item::before {content: \"\";position: absolute;border-left: 1px solid gray;box-sizing: border-box;top: 0;bottom: 0;left: 50%;z-index: -1;}#sk-container-id-2 div.sk-parallel-item {display: flex;flex-direction: column;z-index: 1;position: relative;background-color: white;}#sk-container-id-2 div.sk-parallel-item:first-child::after {align-self: flex-end;width: 50%;}#sk-container-id-2 div.sk-parallel-item:last-child::after {align-self: flex-start;width: 50%;}#sk-container-id-2 div.sk-parallel-item:only-child::after {width: 0;}#sk-container-id-2 div.sk-dashed-wrapped {border: 1px dashed gray;margin: 0 0.4em 0.5em 0.4em;box-sizing: border-box;padding-bottom: 0.4em;background-color: white;}#sk-container-id-2 div.sk-label label {font-family: monospace;font-weight: bold;display: inline-block;line-height: 1.2em;}#sk-container-id-2 div.sk-label-container {text-align: center;}#sk-container-id-2 div.sk-container {/* jupyter's `normalize.less` sets `[hidden] { display: none; }` but bootstrap.min.css set `[hidden] { display: none !important; }` so we also need the `!important` here to be able to override the default hidden behavior on the sphinx rendered scikit-learn.org. See: https://github.com/scikit-learn/scikit-learn/issues/21755 */display: inline-block !important;position: relative;}#sk-container-id-2 div.sk-text-repr-fallback {display: none;}</style><div id=\"sk-container-id-2\" class=\"sk-top-container\"><div class=\"sk-text-repr-fallback\"><pre>RandomForestClassifier(random_state=42)</pre><b>In a Jupyter environment, please rerun this cell to show the HTML representation or trust the notebook. <br />On GitHub, the HTML representation is unable to render, please try loading this page with nbviewer.org.</b></div><div class=\"sk-container\" hidden><div class=\"sk-item\"><div class=\"sk-estimator sk-toggleable\"><input class=\"sk-toggleable__control sk-hidden--visually\" id=\"sk-estimator-id-2\" type=\"checkbox\" checked><label for=\"sk-estimator-id-2\" class=\"sk-toggleable__label sk-toggleable__label-arrow\">RandomForestClassifier</label><div class=\"sk-toggleable__content\"><pre>RandomForestClassifier(random_state=42)</pre></div></div></div></div></div>"
     },
     "execution_count": 36,
     "metadata": {},
     "output_type": "execute_result"
    }
   ],
   "source": [
    "model.fit(X_train, y_train)"
   ],
   "metadata": {
    "collapsed": false,
    "ExecuteTime": {
     "end_time": "2023-10-31T08:59:16.864093700Z",
     "start_time": "2023-10-31T08:59:16.322329500Z"
    }
   },
   "id": "b92f1a5040c0a270"
  },
  {
   "cell_type": "markdown",
   "source": [
    "In dieser Zeile werden Vorhersagen (predictions) mit dem trainierten Random Forest Classifier-Modell (model) für die Testdaten (X_test) gemacht. \n",
    "\n",
    "Hier ist, was jede Komponente bedeutet:\n",
    "\n",
    "model: \n",
    "Dies ist die vorher trainierte Instanz des Random Forest Classifier-Modells.\n",
    "\n",
    "predict(X_test): \n",
    "Die Methode predict wird aufgerufen, um Vorhersagen für die Testdaten zu treffen.\n",
    "X_test sind die Eingabemerkmale, für die das Modell Vorhersagen treffen soll.\n",
    "\n",
    "Nach Ausführung dieser Zeile enthält die Variable predictions die vorhergesagten Klassen (in diesem Fall wahrscheinlich \"kreditwürdig\" oder \"nicht kreditwürdig\")\n",
    "für die Testdaten. Diese Vorhersagen können dann mit den tatsächlichen Testergebnissen verglichen werden, um die Leistung des Modells zu bewerten."
   ],
   "metadata": {
    "collapsed": false
   },
   "id": "a5fcfcbbf9e3801"
  },
  {
   "cell_type": "code",
   "execution_count": 37,
   "outputs": [],
   "source": [
    "predictions = model.predict(X_test)"
   ],
   "metadata": {
    "collapsed": false,
    "ExecuteTime": {
     "end_time": "2023-10-31T09:00:02.809091400Z",
     "start_time": "2023-10-31T09:00:02.689255600Z"
    }
   },
   "id": "7493b0364f0ba88c"
  },
  {
   "cell_type": "markdown",
   "source": [
    "\n",
    "In diesen Zeilen wird die Genauigkeit (Accuracy) des Modells bewertet und anschließend ausgegeben:\n",
    "\n",
    "accuracy = accuracy_score(y_test, predictions): \n",
    "Hier wird die Funktion accuracy_score aus der sklearn.metrics-Bibliothek verwendet, um die Genauigkeit des Modells zu berechnen. \n",
    "y_test sind die tatsächlichen Klassen aus den Testdaten, und predictions sind die vom Modell vorhergesagten Klassen. \n",
    "Die Funktion vergleicht die tatsächlichen und vorhergesagten Klassen und gibt den Prozentsatz der korrekten Vorhersagen zurück.\n",
    "\n",
    "print(f'Genauigkeit des Modells: \n",
    "{accuracy}'): Hier wird die berechnete Genauigkeit mithilfe von f-Strings in der Konsole ausgegeben. \n",
    "Der f-String erlaubt es, Variablen direkt in den Text einzufügen.\n",
    "\n",
    "Nach Ausführung dieser Zeilen wird die Genauigkeit des Modells angezeigt, was eine wichtige Metrik ist, um die Leistung des Modells zu bewerten. \n",
    "Sie gibt an, wie gut das Modell in der Lage ist, die Klassen der Testdaten richtig vorherzusagen."
   ],
   "metadata": {
    "collapsed": false
   },
   "id": "d9dd9f20529df5e1"
  },
  {
   "cell_type": "code",
   "execution_count": 38,
   "outputs": [
    {
     "name": "stdout",
     "output_type": "stream",
     "text": [
      "Genauigkeit des Modells: 0.8\n"
     ]
    }
   ],
   "source": [
    "accuracy = accuracy_score(y_test, predictions)\n",
    "print(f'Genauigkeit des Modells: {accuracy}')"
   ],
   "metadata": {
    "collapsed": false,
    "ExecuteTime": {
     "end_time": "2023-10-31T09:00:04.830153700Z",
     "start_time": "2023-10-31T09:00:04.694994700Z"
    }
   },
   "id": "59b3479c84ef1600"
  },
  {
   "cell_type": "markdown",
   "source": [
    "In diesen Zeilen wird eine zufällige Suche über einen Hyperparameter-Raum durchgeführt, \n",
    "um die besten Hyperparameter für den Random Forest Classifier zu finden. Hier sind die Erklärungen:\n",
    "\n",
    "param_dist = {'n_estimators': [50, 100, 200], 'max_depth': [None, 5, 10]}: Hier wird ein Dictionary param_dist erstellt, das mögliche Werte \n",
    "für die Hyperparameter n_estimators (Anzahl der Bäume im Wald) und max_depth (maximale Tiefe der Bäume) enthält. \n",
    "In diesem Fall werden drei mögliche Werte für n_estimators (50, 100, 200) und drei mögliche Werte für max_depth (None, 5, 10) ausprobiert.\n",
    "\n",
    "random_search = RandomizedSearchCV(RandomForestClassifier(), param_dist, cv=5, scoring='accuracy', n_iter=10): \n",
    "Hier wird die RandomizedSearchCV-Klasse aus der sklearn.model_selection-Bibliothek verwendet, um die besten Hyperparameter für den Random Forest Classifier zu finden. \n",
    "RandomForestClassifier() initialisiert ein Random Forest Modell. \n",
    "param_dist enthält den Hyperparameter-Raum, der durchsucht werden soll. cv=5 bedeutet, \n",
    "dass eine 5-fache Kreuzvalidierung verwendet wird, um die Leistung der Modelle zu bewerten. \n",
    "\n",
    "scoring='accuracy' gibt an, dass die Genauigkeit als Bewertungsmetrik verwendet wird. \n",
    "n_iter=10 bedeutet, dass 10 zufällige Kombinationen von Hyperparametern ausprobiert werden.\n",
    "\n",
    "random_search.fit(X_train, y_train): \n",
    "Hier wird die zufällige Suche durchgeführt, um die besten Hyperparameter zu finden. \n",
    "Das Modell wird mit verschiedenen Hyperparameter-Kombinationen trainiert und validiert.\n",
    "\n",
    "random_search.best_params_: \n",
    "Nachdem die Suche abgeschlossen ist, gibt diese Zeile die besten gefundenen Hyperparameter zurück.\n",
    "\n",
    "Zusammengefasst sucht dieser Code nach den besten Hyperparametern für den Random Forest Classifier, um seine Leistung zu verbessern."
   ],
   "metadata": {
    "collapsed": false
   },
   "id": "ac63b29ae5ec88c4"
  },
  {
   "cell_type": "code",
   "execution_count": 39,
   "outputs": [
    {
     "name": "stderr",
     "output_type": "stream",
     "text": [
      "C:\\Users\\bbind\\PycharmProjects\\pythonProject\\venv\\Lib\\site-packages\\sklearn\\model_selection\\_search.py:307: UserWarning: The total space of parameters 9 is smaller than n_iter=10. Running 9 iterations. For exhaustive searches, use GridSearchCV.\n",
      "  warnings.warn(\n"
     ]
    },
    {
     "data": {
      "text/plain": "{'n_estimators': 100, 'max_depth': 5}"
     },
     "execution_count": 39,
     "metadata": {},
     "output_type": "execute_result"
    }
   ],
   "source": [
    "param_dist = {'n_estimators': [50, 100, 200], 'max_depth': [None, 5, 10]}\n",
    "\n",
    "random_search = RandomizedSearchCV(RandomForestClassifier(), param_dist, cv=5, scoring='accuracy', n_iter=10)\n",
    "random_search.fit(X_train, y_train)\n",
    "\n",
    "random_search.best_params_"
   ],
   "metadata": {
    "collapsed": false,
    "ExecuteTime": {
     "end_time": "2023-10-31T09:00:25.586781Z",
     "start_time": "2023-10-31T09:00:08.927032100Z"
    }
   },
   "id": "c3ae8a3cb5996d2b"
  },
  {
   "cell_type": "markdown",
   "source": [
    "In diesem Code-Abschnitt wird eine Gittersuche (Grid Search) verwendet, um die besten Hyperparameter für den Random Forest Classifier zu finden. \n",
    "\n",
    "Hier sind die Erklärungen:\n",
    "\n",
    "param_grid = {'n_estimators': \n",
    "[50, 100, 200], 'max_depth': [None, 5, 10]}: Hier wird ein Dictionary param_grid erstellt, \n",
    "das mögliche Werte für die Hyperparameter n_estimators (Anzahl der Bäume im Wald) und max_depth (maximale Tiefe der Bäume) enthält. \n",
    "Es werden drei mögliche Werte für n_estimators (50, 100, 200) und drei mögliche Werte für max_depth (None, 5, 10) ausprobiert.\n",
    "\n",
    "grid_search = GridSearchCV(RandomForestClassifier(), param_grid, cv=5, scoring='accuracy'): \n",
    "Hier wird die GridSearchCV-Klasse aus der sklearn.model_selection-Bibliothek verwendet, um eine erschöpfende Suche über den Hyperparameter-Raum durchzuführen. \n",
    "RandomForestClassifier() initialisiert ein Random Forest Modell. \n",
    "\n",
    "param_grid enthält den Hyperparameter-Raum, der durchsucht werden soll. cv=5 bedeutet, dass eine 5-fache Kreuzvalidierung verwendet wird, \n",
    "um die Leistung der Modelle zu bewerten. scoring='accuracy' gibt an, dass die Genauigkeit als Bewertungsmetrik verwendet wird.\n",
    "\n",
    "grid_search.fit(X_train, y_train): \n",
    "Hier wird die Gittersuche durchgeführt, um die besten Hyperparameter zu finden. \n",
    "Das Modell wird mit allen möglichen Kombinationen von Hyperparametern trainiert und validiert.\n",
    "\n",
    "grid_search.best_params_: \n",
    "Nachdem die Suche abgeschlossen ist, gibt diese Zeile die besten gefundenen Hyperparameter zurück.\n",
    "\n",
    "Zusammengefasst sucht dieser Code nach den besten Hyperparametern für den Random Forest Classifier durch eine erschöpfende Suche über den Hyperparameter-Raum."
   ],
   "metadata": {
    "collapsed": false
   },
   "id": "a2a0a84bee1062a6"
  },
  {
   "cell_type": "code",
   "execution_count": 40,
   "outputs": [
    {
     "data": {
      "text/plain": "{'max_depth': 10, 'n_estimators': 200}"
     },
     "execution_count": 40,
     "metadata": {},
     "output_type": "execute_result"
    }
   ],
   "source": [
    "param_grid = {'n_estimators': [50, 100, 200], 'max_depth': [None, 5, 10]}\n",
    "\n",
    "grid_search = GridSearchCV(RandomForestClassifier(), param_grid, cv=5, scoring='accuracy')\n",
    "grid_search.fit(X_train, y_train)\n",
    "\n",
    "grid_search.best_params_"
   ],
   "metadata": {
    "collapsed": false,
    "ExecuteTime": {
     "end_time": "2023-10-31T09:00:34.868753800Z",
     "start_time": "2023-10-31T09:00:25.592772800Z"
    }
   },
   "id": "80421da66aa0a7c8"
  },
  {
   "cell_type": "markdown",
   "source": [
    "In diesem Code-Abschnitt wird ein neues Random Forest Classifier-Modell erstellt und mit den besten gefundenen Hyperparametern trainiert. Hier sind die Erklärungen:\n",
    "\n",
    "best_rf_model = RandomForestClassifier(max_depth=10, n_estimators=200): \n",
    "Hier wird ein neues Random Forest Modell mit den gefundenen Hyperparametern initialisiert. \n",
    "max_depth=10 und n_estimators=200 sind die besten Hyperparameter, die durch die vorherige Gittersuche gefunden wurden.\n",
    "\n",
    "best_rf_model.fit(X_train, y_train): \n",
    "Hier wird das Modell mit den Trainingsdaten trainiert.\n",
    "\n",
    "accuracy = best_rf_model.score(X_test, y_test): Hier wird die Genauigkeit des Modells auf den Testdaten berechnet. \n",
    "best_rf_model.score gibt den Genauigkeitswert zurück.\n",
    "\n",
    "print(f'Genauigkeit des optimierten Modells: \n",
    "{accuracy}'): Hier wird die berechnete Genauigkeit des optimierten Modells ausgegeben.\n",
    "\n",
    "Zusammengefasst trainiert dieser Code ein Random Forest Modell mit den besten gefundenen Hyperparametern und gibt die Genauigkeit des Modells auf den Testdaten aus. \n",
    "Dies ermöglicht es, die Leistung des optimierten Modells zu bewerten."
   ],
   "metadata": {
    "collapsed": false
   },
   "id": "9d694b55492689e4"
  },
  {
   "cell_type": "code",
   "execution_count": 41,
   "outputs": [
    {
     "name": "stdout",
     "output_type": "stream",
     "text": [
      "Genauigkeit des optimierten Modells: 0.8166666666666667\n"
     ]
    }
   ],
   "source": [
    "best_rf_model = RandomForestClassifier(max_depth=10, n_estimators=200)\n",
    "\n",
    "best_rf_model.fit(X_train, y_train)\n",
    "\n",
    "accuracy = best_rf_model.score(X_test, y_test)\n",
    "print(f'Genauigkeit des optimierten Modells: {accuracy}')"
   ],
   "metadata": {
    "collapsed": false,
    "ExecuteTime": {
     "end_time": "2023-10-31T09:01:05.923497900Z",
     "start_time": "2023-10-31T09:01:04.898603600Z"
    }
   },
   "id": "28d45460a5521b17"
  },
  {
   "cell_type": "markdown",
   "source": [
    " Hier werden die Testdaten in Merkmale (test_X) und Zielvariable (test_y) aufgeteilt:\n",
    "\n",
    "test_X = test.drop('kredit', axis=1): \n",
    "Hier werden alle Spalten aus dem Testdatensatz test außer der Spalte mit dem Namen 'kredit' ausgewählt. \n",
    "Das bedeutet, dass test_X alle Merkmale enthält, die zur Vorhersage der Kreditwürdigkeit verwendet werden sollen.\n",
    "\n",
    "test_y = test['kredit']: \n",
    "Hier wird nur die Spalte mit dem Namen 'kredit' aus dem Testdatensatz test ausgewählt. Das bedeutet, \n",
    "dass test_y die Zielvariable ist, die das Modell vorhersagen soll, nämlich die Kreditwürdigkeit.\n",
    "\n",
    "Nach diesen Schritten sind die Testdaten korrekt in Merkmale (test_X) und Zielvariable (test_y) aufgeteilt und können verwendet werden, \n",
    "um Vorhersagen mit dem trainierten Modell zu treffen und die Leistung zu bewerten."
   ],
   "metadata": {
    "collapsed": false
   },
   "id": "6ce33d4e4dd692a9"
  },
  {
   "cell_type": "code",
   "execution_count": 42,
   "outputs": [],
   "source": [
    "test_X = test.drop('kredit', axis=1)\n",
    "test_y = test['kredit']"
   ],
   "metadata": {
    "collapsed": false,
    "ExecuteTime": {
     "end_time": "2023-10-31T09:01:14.446760500Z",
     "start_time": "2023-10-31T09:01:14.332229400Z"
    }
   },
   "id": "5acd6fa3dc8a571e"
  },
  {
   "cell_type": "markdown",
   "source": [
    "In diesen Zeilen werden Vorhersagen auf den Testdaten gemacht und die Genauigkeit des Modells auf diesen Daten bewertet:\n",
    "\n",
    "predictions = best_rf_model.predict(test_X): \n",
    "Hier werden Vorhersagen mit dem zuvor trainierten und optimierten Random Forest Modell \n",
    "(best_rf_model) auf den Testdaten (test_X) gemacht. predictions enthält die vorhergesagten Klassen.\n",
    "\n",
    "accuracy = accuracy_score(test_y, predictions): \n",
    "Hier wird die Genauigkeit des Modells auf den Testdaten berechnet. \n",
    "test_y sind die tatsächlichen Klassen aus den Testdaten, und predictions sind die vom Modell vorhergesagten Klassen. \n",
    "\n",
    "Die Funktion accuracy_score vergleicht die tatsächlichen und vorhergesagten Klassen und gibt den Prozentsatz der korrekten Vorhersagen zurück.\n",
    "\n",
    "print(f\"Genauigkeit auf den Testdaten: {accuracy}\"): \n",
    "Hier wird die berechnete Genauigkeit auf den Testdaten ausgegeben.\n",
    "\n",
    "Diese Schritte ermöglichen es, die Leistung des trainierten Modells auf unabhängigen Testdaten zu bewerten und zu sehen, \n",
    "wie gut es in der Lage ist, Kreditwürdigkeiten vorherzusagen."
   ],
   "metadata": {
    "collapsed": false
   },
   "id": "83f98e23420acb2f"
  },
  {
   "cell_type": "code",
   "execution_count": 43,
   "outputs": [
    {
     "name": "stdout",
     "output_type": "stream",
     "text": [
      "Genauigkeit auf den Testdaten: 0.7328571428571429\n"
     ]
    }
   ],
   "source": [
    "predictions = best_rf_model.predict(test_X)\n",
    "\n",
    "accuracy = accuracy_score(test_y, predictions)\n",
    "print(f\"Genauigkeit auf den Testdaten: {accuracy}\")"
   ],
   "metadata": {
    "collapsed": false,
    "ExecuteTime": {
     "end_time": "2023-10-31T09:01:24.425384800Z",
     "start_time": "2023-10-31T09:01:24.232126800Z"
    }
   },
   "id": "121897576ae3e03"
  },
  {
   "cell_type": "markdown",
   "source": [
    "Hier werden die Schritte für das Gradient Boosting Modell beschrieben:\n",
    "\n",
    "gb_model = GradientBoostingClassifier(n_estimators=100, max_depth=3, random_state=42): \n",
    "Hier wird ein Gradient Boosting Klassifikator initialisiert. \n",
    "n_estimators=100 gibt an, dass 100 Bäume im Ensemble verwendet werden sollen. \n",
    "max_depth=3 beschränkt die maximale Tiefe der Bäume auf 3. \n",
    "random_state=42 ist der Startwert für den Zufallszahlengenerator, um die Ergebnisse reproduzierbar zu machen.\n",
    "\n",
    "gb_model.fit(X_train, y_train): \n",
    "Hier wird das Gradient Boosting Modell mit den Trainingsdaten trainiert.\n",
    "\n",
    "y_pred_gb = gb_model.predict(X_test): \n",
    "Hier werden Vorhersagen auf den Testdaten gemacht.\n",
    "\n",
    "accuracy_gb = accuracy_score(y_test, y_pred_gb): \n",
    "Hier wird die Genauigkeit des Gradient Boosting Modells auf den Testdaten berechnet.\n",
    "\n",
    "print(f\"Genauigkeit des Gradient Boosting Modells: \n",
    "{accuracy_gb}\"): Hier wird die berechnete Genauigkeit des Gradient Boosting Modells ausgegeben.\n",
    "\n",
    "Diese Schritte ermöglichen es, das Gradient Boosting Modell zu initialisieren, zu trainieren, Vorhersagen zu machen und die Genauigkeit auf den Testdaten zu bewerten. \n",
    "Damit kannst du die Leistung des Gradient Boosting Modells beurteilen."
   ],
   "metadata": {
    "collapsed": false
   },
   "id": "14832b15e456e321"
  },
  {
   "cell_type": "code",
   "execution_count": 49,
   "outputs": [
    {
     "name": "stdout",
     "output_type": "stream",
     "text": [
      "Genauigkeit des Gradient Boosting Modells: 0.8\n"
     ]
    }
   ],
   "source": [
    "gb_model = GradientBoostingClassifier(n_estimators=100, max_depth=3, random_state=42)\n",
    "\n",
    "gb_model.fit(X_train, y_train)\n",
    "\n",
    "y_pred_gb = gb_model.predict(X_test)\n",
    "\n",
    "accuracy_gb = accuracy_score(y_test, y_pred_gb)\n",
    "\n",
    "print(f\"Genauigkeit des Gradient Boosting Modells: {accuracy_gb}\")"
   ],
   "metadata": {
    "collapsed": false,
    "ExecuteTime": {
     "end_time": "2023-10-31T09:02:14.085160400Z",
     "start_time": "2023-10-31T09:02:13.627510100Z"
    }
   },
   "id": "87626c6e79f07f06"
  },
  {
   "cell_type": "markdown",
   "source": [
    "\n",
    "In diesem Code-Abschnitt wird ein Ensemble-Modell aus einem Random Forest Classifier (rf) und einem Gradient Boosting Classifier (gb) erstellt und trainiert. \n",
    "\n",
    "Hier sind die Erklärungen:\n",
    "\n",
    "rf = RandomForestClassifier(n_estimators=5000, random_state=42): \n",
    "Hier wird ein Random Forest Klassifikator initialisiert. n_estimators=5000 gibt an, dass 5000 Bäume im Wald verwendet werden sollen. \n",
    "random_state=42 ist der Startwert für den Zufallszahlengenerator, um die Ergebnisse reproduzierbar zu machen.\n",
    "\n",
    "gb = GradientBoostingClassifier(n_estimators=1000, random_state=42): \n",
    "Hier wird ein Gradient Boosting Klassifikator initialisiert. n_estimators=1000 gibt an, dass 1000 Bäume im Ensemble verwendet werden sollen. \n",
    "random_state=42 ist der Startwert für den Zufallszahlengenerator, um die Ergebnisse reproduzierbar zu machen.\n",
    "\n",
    "voting_clf = VotingClassifier(estimators=[('random_forest', rf), ('gradient_boosting', gb)], voting='hard'): \n",
    "Hier wird der Voting Classifier initialisiert. \n",
    "Dieser verwendet die vorher definierten Modelle rf und gb. Der Parameter voting='hard' bedeutet, dass die endgültige Vorhersage durch Mehrheitsabstimmung der einzelnen Modelle getroffen wird.\n",
    "\n",
    "voting_clf.fit(X_train, y_train): \n",
    "Hier wird der Voting Classifier mit den Trainingsdaten trainiert.\n",
    "\n",
    "accuracy = voting_clf.score(X_test, y_test): \n",
    "Hier wird die Genauigkeit des Ensemble-Modells auf den Testdaten berechnet.\n",
    "\n",
    "print(f\"Genauigkeit des Ensemble-Modells: {accuracy}\"): \n",
    "Hier wird die berechnete Genauigkeit des Ensemble-Modells ausgegeben.\n",
    "\n",
    "Zusammengefasst wird ein Ensemble-Modell erstellt, das aus einem Random Forest und einem Gradient Boosting Modell besteht. \n",
    "Der Voting Classifier kombiniert die Vorhersagen beider Modelle, um eine endgültige Vorhersage zu treffen. Anschließend wird die Genauigkeit des Ensemble-Modells auf den Testdaten ausgewertet."
   ],
   "metadata": {
    "collapsed": false
   },
   "id": "bbbe6e50dadb48c2"
  },
  {
   "cell_type": "code",
   "execution_count": 20,
   "outputs": [
    {
     "name": "stdout",
     "output_type": "stream",
     "text": [
      "Genauigkeit des Ensemble-Modells: 0.7785714285714286\n"
     ]
    }
   ],
   "source": [
    "rf = RandomForestClassifier(n_estimators=5000, random_state=42)\n",
    "gb = GradientBoostingClassifier(n_estimators=1000, random_state=42)\n",
    "\n",
    "voting_clf = VotingClassifier(estimators=[('random_forest', rf), ('gradient_boosting', gb)], voting='hard')\n",
    "\n",
    "voting_clf.fit(X_train, y_train)\n",
    "\n",
    "accuracy = voting_clf.score(X_test, y_test)\n",
    "print(f\"Genauigkeit des Ensemble-Modells: {accuracy}\")"
   ],
   "metadata": {
    "collapsed": false,
    "ExecuteTime": {
     "end_time": "2023-10-31T06:54:28.762529400Z",
     "start_time": "2023-10-31T06:54:13.973193900Z"
    }
   },
   "id": "be2ef9957eaf96dd"
  },
  {
   "cell_type": "markdown",
   "source": [
    "In diesem Code-Abschnitt wird ein Ensemble-Modell erstellt, das aus einem Random Forest Classifier (rf) und einem Gradient Boosting Classifier (gb) besteht. \n",
    "Das Modell wird trainiert und auf den Testdaten ausgewertet. Hier sind die Erklärungen:\n",
    "\n",
    "ensemble_model = VotingClassifier(estimators=[('random_forest', rf), ('gradient_boosting', gb)], voting='soft'): \n",
    "Hier wird der Voting Classifier initialisiert. \n",
    "Er verwendet die vorher definierten Modelle rf und gb. \n",
    "Der Parameter voting='soft' bedeutet, dass die Vorhersagen der einzelnen Modelle gewichtet werden, um die endgültige Vorhersage zu treffen.\n",
    "\n",
    "ensemble_model.fit(X_train, y_train): \n",
    "Hier wird das Ensemble-Modell mit den Trainingsdaten trainiert.\n",
    "\n",
    "ensemble_accuracy = ensemble_model.score(X_test, y_test): \n",
    "Hier wird die Genauigkeit des Ensemble-Modells auf den Testdaten berechnet.\n",
    "\n",
    "print(f\"Genauigkeit des Ensemble-Modells: {ensemble_accuracy}\"): \n",
    "Hier wird die berechnete Genauigkeit des Ensemble-Modells ausgegeben.\n",
    "\n",
    "Zusammengefasst wird ein Ensemble-Modell erstellt, das aus einem Random Forest und einem Gradient Boosting Modell besteht. \n",
    "Der Voting Classifier kombiniert die Vorhersagen beider Modelle unter Berücksichtigung der Gewichtung, um eine endgültige Vorhersage zu treffen. \n",
    "Anschließend wird die Genauigkeit des Ensemble-Modells auf den Testdaten ausgewertet."
   ],
   "metadata": {
    "collapsed": false
   },
   "id": "bcaa44fc741c74f6"
  },
  {
   "cell_type": "code",
   "execution_count": 50,
   "outputs": [
    {
     "name": "stdout",
     "output_type": "stream",
     "text": [
      "Genauigkeit des Ensemble-Modells: 0.8333333333333334\n"
     ]
    }
   ],
   "source": [
    "ensemble_model = VotingClassifier(estimators=[\n",
    "    ('random_forest', rf),\n",
    "    ('gradient_boosting', gb)\n",
    "], voting='soft')\n",
    "\n",
    "ensemble_model.fit(X_train, y_train)\n",
    "\n",
    "ensemble_accuracy = ensemble_model.score(X_test, y_test)\n",
    "\n",
    "print(f\"Genauigkeit des Ensemble-Modells: {ensemble_accuracy}\")"
   ],
   "metadata": {
    "collapsed": false,
    "ExecuteTime": {
     "end_time": "2023-10-31T09:02:22.372015300Z",
     "start_time": "2023-10-31T09:02:19.487680700Z"
    }
   },
   "id": "f90dc57c09141dfd"
  },
  {
   "cell_type": "markdown",
   "source": [
    "In diesem Code-Abschnitt wird eine Gittersuche (Grid Search) verwendet, um die besten Hyperparameter für den Random Forest Classifier zu finden. \n",
    "\n",
    "Hier sind die Erklärungen:\n",
    "\n",
    "param_grid: Hier werden die Hyperparameter und die dazugehörigen Werte definiert, die in der Gittersuche durchsucht werden sollen. \n",
    "In diesem Fall sind es n_estimators (Anzahl der Bäume im Wald), max_depth (maximale Tiefe der Bäume) und min_samples_leaf (minimale Anzahl von Blättern in einem Baum).\n",
    "\n",
    "rf = RandomForestClassifier(random_state=42): \n",
    "Hier wird ein Random Forest Classifier-Modell mit einem festen random_state initialisiert. \n",
    "Dieses Modell dient als Grundlage für die Gittersuche.\n",
    "\n",
    "grid_search_rf = GridSearchCV(rf, param_grid, cv=5, scoring='accuracy', n_jobs=-1): \n",
    "Hier wird die GridSearchCV-Klasse verwendet, um die besten Hyperparameter für den Random Forest Classifier zu finden. \n",
    "rf ist das Grundmodell, param_grid ist der definierte Hyperparameter-Raum, \n",
    "\n",
    "cv=5 bedeutet, dass eine 5-fache Kreuzvalidierung verwendet wird, scoring='accuracy' gibt an, dass die Genauigkeit als Bewertungsmetrik verwendet wird, \n",
    "und n_jobs=-1 ermöglicht es, die Berechnungen parallel zu verarbeiten, um die Geschwindigkeit zu erhöhen.\n",
    "\n",
    "grid_search_rf.fit(X_train, y_train): Hier wird die Gittersuche durchgeführt, um die besten Hyperparameter zu finden. \n",
    "Das Modell wird mit verschiedenen Hyperparameter-Kombinationen trainiert und validiert.\n",
    "\n",
    "best_params_rf = grid_search_rf.best_params_: \n",
    "Nachdem die Suche abgeschlossen ist, gibt diese Zeile die besten gefundenen Hyperparameter zurück.\n",
    "\n",
    "best_score_rf = grid_search_rf.best_score_: \n",
    "Hier wird die beste Genauigkeit (gemessen anhand der Kreuzvalidierung) auf den Validierungsdaten ausgegeben.\n",
    "\n",
    "print(f\"Beste Hyperparameter für Random Forest: \n",
    "{best_params_rf}\") und print(f\"Genauigkeit auf den Validierungsdaten: {best_score_rf}\"): \n",
    "Hier werden die besten Hyperparameter und die entsprechende Genauigkeit auf den Validierungsdaten ausgegeben.\n",
    "\n",
    "Zusammengefasst sucht dieser Code nach den besten Hyperparametern für den Random Forest Classifier durch eine erschöpfende Suche über den definierten Hyperparameter-Raum. \n",
    "Die besten Hyperparameter und die zugehörige Genauigkeit auf den Validierungsdaten werden ausgegeben."
   ],
   "metadata": {
    "collapsed": false
   },
   "id": "59d1335b2de6b845"
  },
  {
   "cell_type": "code",
   "execution_count": 52,
   "outputs": [
    {
     "name": "stdout",
     "output_type": "stream",
     "text": [
      "Beste Hyperparameter für Random Forest: {'max_depth': 10, 'min_samples_leaf': 1, 'n_estimators': 100}\n",
      "Genauigkeit auf den Validierungsdaten: 0.7458333333333333\n"
     ]
    }
   ],
   "source": [
    "param_grid = {\n",
    "    'n_estimators': [100, 500, 1000],\n",
    "    'max_depth': [None, 5, 10],\n",
    "    'min_samples_leaf': [1, 2, 4]\n",
    "}\n",
    "\n",
    "rf = RandomForestClassifier(random_state=42)\n",
    "\n",
    "grid_search_rf = GridSearchCV(rf, param_grid, cv=5, scoring='accuracy', n_jobs=-1)\n",
    "\n",
    "grid_search_rf.fit(X_train, y_train)\n",
    "\n",
    "best_params_rf = grid_search_rf.best_params_\n",
    "best_score_rf = grid_search_rf.best_score_\n",
    "\n",
    "print(f\"Beste Hyperparameter für Random Forest: {best_params_rf}\")\n",
    "print(f\"Genauigkeit auf den Validierungsdaten: {best_score_rf}\")"
   ],
   "metadata": {
    "collapsed": false,
    "ExecuteTime": {
     "end_time": "2023-10-31T09:03:10.496611400Z",
     "start_time": "2023-10-31T09:03:01.751010400Z"
    }
   },
   "id": "9eb880de4c900905"
  },
  {
   "cell_type": "markdown",
   "source": [
    "In diesem Code-Abschnitt wird eine Gittersuche (Grid Search) verwendet, um die besten Hyperparameter für den Gradient Boosting Classifier zu finden. Hier sind die Erklärungen:\n",
    "\n",
    "param_grid_gb: \n",
    "Hier werden die Hyperparameter und die dazugehörigen Werte definiert, die in der Gittersuche durchsucht werden sollen. \n",
    "\n",
    "In diesem Fall sind es n_estimators (Anzahl der Bäume im Ensemble), learning_rate (Lernrate) und max_depth (maximale Tiefe der Bäume).\n",
    "\n",
    "gb = GradientBoostingClassifier(random_state=42): \n",
    "Hier wird ein Gradient Boosting Classifier-Modell mit einem festen random_state initialisiert. \n",
    "\n",
    "Dieses Modell dient als Grundlage für die Gittersuche.\n",
    "\n",
    "grid_search_gb = GridSearchCV(gb, param_grid_gb, cv=5, scoring='accuracy', n_jobs=-1): \n",
    "Hier wird die GridSearchCV-Klasse verwendet, um die besten Hyperparameter für den Gradient Boosting Classifier zu finden. \n",
    "gb ist das Grundmodell, param_grid_gb ist der definierte Hyperparameter-Raum, cv=5 bedeutet, \n",
    "dass eine 5-fache Kreuzvalidierung verwendet wird, scoring='accuracy' gibt an, dass die Genauigkeit als Bewertungsmetrik verwendet wird, \n",
    "und n_jobs=-1 ermöglicht es, \n",
    "die Berechnungen parallel zu verarbeiten, um die Geschwindigkeit zu erhöhen.\n",
    "\n",
    "grid_search_gb.fit(X_train, y_train): \n",
    "Hier wird die Gittersuche durchgeführt, um die besten Hyperparameter zu finden. \n",
    "\n",
    "Das Modell wird mit verschiedenen Hyperparameter-Kombinationen trainiert und validiert.\n",
    "\n",
    "best_params_gb = grid_search_gb.best_params_: \n",
    "Nachdem die Suche abgeschlossen ist, gibt diese Zeile die besten gefundenen Hyperparameter zurück.\n",
    "\n",
    "best_score_gb = grid_search_gb.best_score_: \n",
    "Hier wird die beste Genauigkeit (gemessen anhand der Kreuzvalidierung) auf den Validierungsdaten ausgegeben.\n",
    "\n",
    "print(f\"Beste Hyperparameter für Gradient Boosting: \n",
    "\n",
    "{best_params_gb}\") und print(f\"Genauigkeit auf den Validierungsdaten: {best_score_gb}\"): \n",
    "Hier werden die besten Hyperparameter und die entsprechende Genauigkeit auf den Validierungsdaten ausgegeben.\n",
    "\n",
    "Zusammengefasst sucht dieser Code nach den besten Hyperparametern für den Gradient Boosting Classifier durch eine erschöpfende Suche über den definierten Hyperparameter-Raum. \n",
    "Die besten Hyperparameter und die zugehörige Genauigkeit auf den Validierungsdaten werden ausgegeben."
   ],
   "metadata": {
    "collapsed": false
   },
   "id": "8160b6c898e1b67"
  },
  {
   "cell_type": "code",
   "execution_count": 53,
   "outputs": [
    {
     "name": "stdout",
     "output_type": "stream",
     "text": [
      "Beste Hyperparameter für Gradient Boosting: {'learning_rate': 0.01, 'max_depth': 3, 'n_estimators': 500}\n",
      "Genauigkeit auf den Validierungsdaten: 0.7125000000000001\n"
     ]
    }
   ],
   "source": [
    "param_grid_gb = {\n",
    "    'n_estimators': [100, 500, 1000],\n",
    "    'learning_rate': [0.01, 0.1, 1.0],\n",
    "    'max_depth': [3, 4, 5]\n",
    "}\n",
    "\n",
    "gb = GradientBoostingClassifier(random_state=42)\n",
    "\n",
    "grid_search_gb = GridSearchCV(gb, param_grid_gb, cv=5, scoring='accuracy', n_jobs=-1)\n",
    "\n",
    "grid_search_gb.fit(X_train, y_train)\n",
    "\n",
    "best_params_gb = grid_search_gb.best_params_\n",
    "best_score_gb = grid_search_gb.best_score_\n",
    "\n",
    "print(f\"Beste Hyperparameter für Gradient Boosting: {best_params_gb}\")\n",
    "print(f\"Genauigkeit auf den Validierungsdaten: {best_score_gb}\")"
   ],
   "metadata": {
    "collapsed": false,
    "ExecuteTime": {
     "end_time": "2023-10-31T09:03:28.897070Z",
     "start_time": "2023-10-31T09:03:20.008542600Z"
    }
   },
   "id": "4b10a88cdd2b27c7"
  },
  {
   "cell_type": "markdown",
   "source": [
    "In diesem Code-Abschnitt werden der Random Forest Classifier und der Gradient Boosting Classifier mit den besten gefundenen Hyperparametern trainiert und anschließend auf den Testdaten ausgewertet. \n",
    "\n",
    "Hier sind die Erklärungen:\n",
    "\n",
    "rf = RandomForestClassifier(n_estimators=1000, max_depth=None, min_samples_leaf=2, random_state=42): \n",
    "Hier wird ein Random Forest Klassifikator mit den besten gefundenen Hyperparametern initialisiert. n_estimators=1000 gibt an, \n",
    "dass 1000 Bäume im Wald verwendet werden sollen. \n",
    "\n",
    "max_depth=None bedeutet, dass die Tiefe der Bäume nicht beschränkt ist. min_samples_leaf=2 gibt an, \n",
    "dass jedes Blatt mindestens 2 Beispiele enthalten muss. \n",
    "\n",
    "random_state=42 ist der Startwert für den Zufallszahlengenerator, um die Ergebnisse reproduzierbar zu machen.\n",
    "\n",
    "rf.fit(X_train, y_train): Hier wird der Random Forest Klassifikator mit den Trainingsdaten trainiert.\n",
    "\n",
    "gb = GradientBoostingClassifier(n_estimators=500, learning_rate=0.1, max_depth=3, random_state=42): \n",
    "Hier wird ein Gradient Boosting Klassifikator mit den besten gefundenen Hyperparametern initialisiert. \n",
    "\n",
    "n_estimators=500 gibt an, dass 500 Bäume im Ensemble verwendet werden sollen. \n",
    "\n",
    "learning_rate=0.1 ist die Lernrate. max_depth=3 gibt an, dass die maximale Tiefe der Bäume 3 beträgt.\n",
    " \n",
    "random_state=42 ist der Startwert für den Zufallszahlengenerator, um die Ergebnisse reproduzierbar zu machen.\n",
    "\n",
    "gb.fit(X_train, y_train): Hier wird der Gradient Boosting Klassifikator mit den Trainingsdaten trainiert.\n",
    "\n",
    "accuracy_rf = rf.score(X_test, y_test): Hier wird die Genauigkeit des Random Forest Modells auf den Testdaten berechnet.\n",
    "\n",
    "accuracy_gb = gb.score(X_test, y_test): Hier wird die Genauigkeit des Gradient Boosting Modells auf den Testdaten berechnet.\n",
    "\n",
    "print(f\"Genauigkeit des Random Forest Modells: {accuracy_rf}\") und print(f\"Genauigkeit des Gradient Boosting Modells: {accuracy_gb}\"): \n",
    "Hier werden die berechneten Genauigkeiten der Modelle auf den Testdaten ausgegeben.\n",
    "\n",
    "Zusammengefasst werden der Random Forest Classifier und der Gradient Boosting Classifier mit den besten Hyperparametern trainiert und die Genauigkeiten auf den Testdaten ausgewertet. \n",
    "Damit kannst du die Leistung der beiden Modelle vergleichen."
   ],
   "metadata": {
    "collapsed": false
   },
   "id": "157dae2270863a2b"
  },
  {
   "cell_type": "code",
   "execution_count": 66,
   "outputs": [
    {
     "name": "stdout",
     "output_type": "stream",
     "text": [
      "Genauigkeit des Random Forest Modells: 0.8166666666666667\n",
      "Genauigkeit des Gradient Boosting Modells: 0.8333333333333334\n"
     ]
    }
   ],
   "source": [
    "rf = RandomForestClassifier(n_estimators=1000, max_depth=None, min_samples_leaf=2, random_state=42)\n",
    "rf.fit(X_train, y_train)\n",
    "\n",
    "gb = GradientBoostingClassifier(n_estimators=500, learning_rate=0.1, max_depth=3, random_state=42)\n",
    "gb.fit(X_train, y_train)\n",
    "\n",
    "accuracy_rf = rf.score(X_test, y_test)\n",
    "accuracy_gb = gb.score(X_test, y_test)\n",
    "\n",
    "print(f\"Genauigkeit des Random Forest Modells: {accuracy_rf}\")\n",
    "print(f\"Genauigkeit des Gradient Boosting Modells: {accuracy_gb}\")"
   ],
   "metadata": {
    "collapsed": false,
    "ExecuteTime": {
     "end_time": "2023-10-31T09:06:47.118063Z",
     "start_time": "2023-10-31T09:06:41.536690500Z"
    }
   },
   "id": "ee9b02c5aded314c"
  },
  {
   "cell_type": "markdown",
   "source": [
    "In diesem Code-Abschnitt wird ein Ensemble-Modell erstellt, das aus einem Random Forest Classifier (rf) und einem Gradient Boosting Classifier (gb) besteht. \n",
    "Das Modell wird trainiert und auf den Testdaten ausgewertet. Hier sind die Erklärungen:\n",
    "\n",
    "ensemble_model = VotingClassifier(estimators=[('random_forest', rf), ('gradient_boosting', gb)], voting='hard'): \n",
    "Hier wird der Voting Classifier initialisiert. Er verwendet die zuvor trainierten Modelle rf und gb. \n",
    "Der Parameter voting='hard' bedeutet, dass die endgültige Vorhersage durch Mehrheitsabstimmung der einzelnen Modelle getroffen wird.\n",
    "\n",
    "ensemble_model.fit(X_train, y_train): Hier wird das Ensemble-Modell mit den Trainingsdaten trainiert.\n",
    "\n",
    "ensemble_accuracy = ensemble_model.score(X_test, y_test): \n",
    "Hier wird die Genauigkeit des Ensemble-Modells auf den Testdaten berechnet.\n",
    "\n",
    "print(f\"Genauigkeit des Ensemble-Modells: {ensemble_accuracy}\"): \n",
    "Hier wird die berechnete Genauigkeit des Ensemble-Modells ausgegeben.\n",
    "\n",
    "Zusammengefasst wird ein Ensemble-Modell erstellt, das aus einem Random Forest und einem Gradient Boosting Modell besteht. \n",
    "Der Voting Classifier kombiniert die Vorhersagen beider Modelle, um eine endgültige Vorhersage zu treffen. \n",
    "Anschließend wird die Genauigkeit des Ensemble-Modells auf den Testdaten ausgewertet. Damit kannst du die Leistung des Ensemble-Modells vergleichen."
   ],
   "metadata": {
    "collapsed": false
   },
   "id": "e791545f520fdbcb"
  },
  {
   "cell_type": "code",
   "execution_count": 68,
   "outputs": [
    {
     "name": "stdout",
     "output_type": "stream",
     "text": [
      "Genauigkeit des Ensemble-Modells: 0.8333333333333334\n"
     ]
    }
   ],
   "source": [
    "ensemble_model = VotingClassifier(estimators=[\n",
    "    ('random_forest', rf),\n",
    "    ('gradient_boosting', gb)\n",
    "], voting='hard')\n",
    "\n",
    "ensemble_model.fit(X_train, y_train)\n",
    "\n",
    "ensemble_accuracy = ensemble_model.score(X_test, y_test)\n",
    "\n",
    "print(f\"Genauigkeit des Ensemble-Modells: {ensemble_accuracy}\")"
   ],
   "metadata": {
    "collapsed": false,
    "ExecuteTime": {
     "end_time": "2023-10-31T09:11:29.327631400Z",
     "start_time": "2023-10-31T09:11:22.160833600Z"
    }
   },
   "id": "ff758ae05a2f9a1"
  }
 ],
 "metadata": {
  "kernelspec": {
   "display_name": "Python 3",
   "language": "python",
   "name": "python3"
  },
  "language_info": {
   "codemirror_mode": {
    "name": "ipython",
    "version": 2
   },
   "file_extension": ".py",
   "mimetype": "text/x-python",
   "name": "python",
   "nbconvert_exporter": "python",
   "pygments_lexer": "ipython2",
   "version": "2.7.6"
  }
 },
 "nbformat": 4,
 "nbformat_minor": 5
}
