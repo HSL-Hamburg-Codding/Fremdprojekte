{
 "cells": [
  {
   "cell_type": "code",
   "execution_count": 76,
   "outputs": [],
   "source": [
    "import pandas as pd\n",
    "import numpy as np\n",
    "\n",
    "import torch\n",
    "import torch.nn as nn"
   ],
   "metadata": {
    "collapsed": false,
    "ExecuteTime": {
     "end_time": "2023-10-30T12:27:30.127301800Z",
     "start_time": "2023-10-30T12:27:28.639876200Z"
    }
   },
   "id": "initial_id"
  },
  {
   "cell_type": "code",
   "execution_count": 77,
   "outputs": [
    {
     "data": {
      "text/plain": "     laufkont  laufzeit  moral  verw  hoehe  sparkont  beszeit  rate  famges  \\\n0           1        18      4     2   1049         1        2     4       2   \n1           1         9      4     0   2799         1        3     2       3   \n2           1        12      4     0   2122         1        3     3       3   \n3           1        12      4     0   2171         1        3     4       3   \n4           1        10      4     0   2241         1        2     1       3   \n..        ...       ...    ...   ...    ...       ...      ...   ...     ...   \n695         1        12      0     3   6199         1        3     4       3   \n696         1        24      2     0   2303         1        5     4       3   \n697         4        21      4     0  12680         5        5     4       3   \n698         2        12      2     3   6468         5        1     2       3   \n699         1        30      2     2   6350         5        5     4       3   \n\n     buerge  ...  verm  alter  weitkred  wohn  bishkred  beruf  pers  telef  \\\n0         1  ...     2     21         3     1         1      3     2      1   \n1         1  ...     1     36         3     1         2      3     1      1   \n2         1  ...     1     39         3     1         2      2     1      1   \n3         1  ...     2     38         1     2         2      2     2      1   \n4         1  ...     1     48         3     1         2      2     1      1   \n..      ...  ...   ...    ...       ...   ...       ...    ...   ...    ...   \n695       1  ...     2     28         3     1         2      3     2      2   \n696       2  ...     1     45         3     2         1      3     2      1   \n697       1  ...     4     30         3     3         1      4     2      2   \n698       1  ...     4     52         3     2         1      4     2      2   \n699       1  ...     2     31         3     2         1      3     2      1   \n\n     gastarb  kredit  \n0          2       1  \n1          2       1  \n2          1       1  \n3          1       1  \n4          1       1  \n..       ...     ...  \n695        2       0  \n696        2       0  \n697        2       0  \n698        2       0  \n699        2       0  \n\n[700 rows x 21 columns]",
      "text/html": "<div>\n<style scoped>\n    .dataframe tbody tr th:only-of-type {\n        vertical-align: middle;\n    }\n\n    .dataframe tbody tr th {\n        vertical-align: top;\n    }\n\n    .dataframe thead th {\n        text-align: right;\n    }\n</style>\n<table border=\"1\" class=\"dataframe\">\n  <thead>\n    <tr style=\"text-align: right;\">\n      <th></th>\n      <th>laufkont</th>\n      <th>laufzeit</th>\n      <th>moral</th>\n      <th>verw</th>\n      <th>hoehe</th>\n      <th>sparkont</th>\n      <th>beszeit</th>\n      <th>rate</th>\n      <th>famges</th>\n      <th>buerge</th>\n      <th>...</th>\n      <th>verm</th>\n      <th>alter</th>\n      <th>weitkred</th>\n      <th>wohn</th>\n      <th>bishkred</th>\n      <th>beruf</th>\n      <th>pers</th>\n      <th>telef</th>\n      <th>gastarb</th>\n      <th>kredit</th>\n    </tr>\n  </thead>\n  <tbody>\n    <tr>\n      <th>0</th>\n      <td>1</td>\n      <td>18</td>\n      <td>4</td>\n      <td>2</td>\n      <td>1049</td>\n      <td>1</td>\n      <td>2</td>\n      <td>4</td>\n      <td>2</td>\n      <td>1</td>\n      <td>...</td>\n      <td>2</td>\n      <td>21</td>\n      <td>3</td>\n      <td>1</td>\n      <td>1</td>\n      <td>3</td>\n      <td>2</td>\n      <td>1</td>\n      <td>2</td>\n      <td>1</td>\n    </tr>\n    <tr>\n      <th>1</th>\n      <td>1</td>\n      <td>9</td>\n      <td>4</td>\n      <td>0</td>\n      <td>2799</td>\n      <td>1</td>\n      <td>3</td>\n      <td>2</td>\n      <td>3</td>\n      <td>1</td>\n      <td>...</td>\n      <td>1</td>\n      <td>36</td>\n      <td>3</td>\n      <td>1</td>\n      <td>2</td>\n      <td>3</td>\n      <td>1</td>\n      <td>1</td>\n      <td>2</td>\n      <td>1</td>\n    </tr>\n    <tr>\n      <th>2</th>\n      <td>1</td>\n      <td>12</td>\n      <td>4</td>\n      <td>0</td>\n      <td>2122</td>\n      <td>1</td>\n      <td>3</td>\n      <td>3</td>\n      <td>3</td>\n      <td>1</td>\n      <td>...</td>\n      <td>1</td>\n      <td>39</td>\n      <td>3</td>\n      <td>1</td>\n      <td>2</td>\n      <td>2</td>\n      <td>1</td>\n      <td>1</td>\n      <td>1</td>\n      <td>1</td>\n    </tr>\n    <tr>\n      <th>3</th>\n      <td>1</td>\n      <td>12</td>\n      <td>4</td>\n      <td>0</td>\n      <td>2171</td>\n      <td>1</td>\n      <td>3</td>\n      <td>4</td>\n      <td>3</td>\n      <td>1</td>\n      <td>...</td>\n      <td>2</td>\n      <td>38</td>\n      <td>1</td>\n      <td>2</td>\n      <td>2</td>\n      <td>2</td>\n      <td>2</td>\n      <td>1</td>\n      <td>1</td>\n      <td>1</td>\n    </tr>\n    <tr>\n      <th>4</th>\n      <td>1</td>\n      <td>10</td>\n      <td>4</td>\n      <td>0</td>\n      <td>2241</td>\n      <td>1</td>\n      <td>2</td>\n      <td>1</td>\n      <td>3</td>\n      <td>1</td>\n      <td>...</td>\n      <td>1</td>\n      <td>48</td>\n      <td>3</td>\n      <td>1</td>\n      <td>2</td>\n      <td>2</td>\n      <td>1</td>\n      <td>1</td>\n      <td>1</td>\n      <td>1</td>\n    </tr>\n    <tr>\n      <th>...</th>\n      <td>...</td>\n      <td>...</td>\n      <td>...</td>\n      <td>...</td>\n      <td>...</td>\n      <td>...</td>\n      <td>...</td>\n      <td>...</td>\n      <td>...</td>\n      <td>...</td>\n      <td>...</td>\n      <td>...</td>\n      <td>...</td>\n      <td>...</td>\n      <td>...</td>\n      <td>...</td>\n      <td>...</td>\n      <td>...</td>\n      <td>...</td>\n      <td>...</td>\n      <td>...</td>\n    </tr>\n    <tr>\n      <th>695</th>\n      <td>1</td>\n      <td>12</td>\n      <td>0</td>\n      <td>3</td>\n      <td>6199</td>\n      <td>1</td>\n      <td>3</td>\n      <td>4</td>\n      <td>3</td>\n      <td>1</td>\n      <td>...</td>\n      <td>2</td>\n      <td>28</td>\n      <td>3</td>\n      <td>1</td>\n      <td>2</td>\n      <td>3</td>\n      <td>2</td>\n      <td>2</td>\n      <td>2</td>\n      <td>0</td>\n    </tr>\n    <tr>\n      <th>696</th>\n      <td>1</td>\n      <td>24</td>\n      <td>2</td>\n      <td>0</td>\n      <td>2303</td>\n      <td>1</td>\n      <td>5</td>\n      <td>4</td>\n      <td>3</td>\n      <td>2</td>\n      <td>...</td>\n      <td>1</td>\n      <td>45</td>\n      <td>3</td>\n      <td>2</td>\n      <td>1</td>\n      <td>3</td>\n      <td>2</td>\n      <td>1</td>\n      <td>2</td>\n      <td>0</td>\n    </tr>\n    <tr>\n      <th>697</th>\n      <td>4</td>\n      <td>21</td>\n      <td>4</td>\n      <td>0</td>\n      <td>12680</td>\n      <td>5</td>\n      <td>5</td>\n      <td>4</td>\n      <td>3</td>\n      <td>1</td>\n      <td>...</td>\n      <td>4</td>\n      <td>30</td>\n      <td>3</td>\n      <td>3</td>\n      <td>1</td>\n      <td>4</td>\n      <td>2</td>\n      <td>2</td>\n      <td>2</td>\n      <td>0</td>\n    </tr>\n    <tr>\n      <th>698</th>\n      <td>2</td>\n      <td>12</td>\n      <td>2</td>\n      <td>3</td>\n      <td>6468</td>\n      <td>5</td>\n      <td>1</td>\n      <td>2</td>\n      <td>3</td>\n      <td>1</td>\n      <td>...</td>\n      <td>4</td>\n      <td>52</td>\n      <td>3</td>\n      <td>2</td>\n      <td>1</td>\n      <td>4</td>\n      <td>2</td>\n      <td>2</td>\n      <td>2</td>\n      <td>0</td>\n    </tr>\n    <tr>\n      <th>699</th>\n      <td>1</td>\n      <td>30</td>\n      <td>2</td>\n      <td>2</td>\n      <td>6350</td>\n      <td>5</td>\n      <td>5</td>\n      <td>4</td>\n      <td>3</td>\n      <td>1</td>\n      <td>...</td>\n      <td>2</td>\n      <td>31</td>\n      <td>3</td>\n      <td>2</td>\n      <td>1</td>\n      <td>3</td>\n      <td>2</td>\n      <td>1</td>\n      <td>2</td>\n      <td>0</td>\n    </tr>\n  </tbody>\n</table>\n<p>700 rows × 21 columns</p>\n</div>"
     },
     "execution_count": 77,
     "metadata": {},
     "output_type": "execute_result"
    }
   ],
   "source": [
    "train = pd.read_csv(\"SGCtrain.csv\")\n",
    "train"
   ],
   "metadata": {
    "collapsed": false,
    "ExecuteTime": {
     "end_time": "2023-10-30T12:27:30.133298300Z",
     "start_time": "2023-10-30T12:27:28.652901300Z"
    }
   },
   "id": "dfca58545927870d"
  },
  {
   "cell_type": "code",
   "execution_count": 78,
   "outputs": [],
   "source": [
    "# Annahme: Ihre CSV-Datei hat 20 Spalten (Features) und 100 Zeilen (Datensätze)\n",
    "np_train = np.genfromtxt('SGCtrain.csv', delimiter=',', skip_header=1)\n",
    "\n",
    "# Sie können die Daten nun verwenden, z.B.:\n",
    "features = np_train[:, :-1]  # Alle Spalten außer der letzten (Annahme: letzte Spalte ist die Zielvariable)\n",
    "labels = np_train[:, -1]  # Die letzte Spalte als Zielvariablen"
   ],
   "metadata": {
    "collapsed": false,
    "ExecuteTime": {
     "end_time": "2023-10-30T12:27:30.154526800Z",
     "start_time": "2023-10-30T12:27:28.709923500Z"
    }
   },
   "id": "f5d6b7e8d8590d0b"
  },
  {
   "cell_type": "code",
   "execution_count": 79,
   "outputs": [
    {
     "data": {
      "text/plain": "     laufkont  laufzeit  moral  verw  hoehe  sparkont  beszeit  rate  famges  \\\n0           2        12      2     9    841         2        4     2       2   \n1           1        11      4     0   3905         1        3     2       3   \n2           1         6      2     3   2647         3        3     2       3   \n3           4        11      4     0   7228         1        3     1       3   \n4           1         6      4     0   4716         5        2     1       3   \n..        ...       ...    ...   ...    ...       ...      ...   ...     ...   \n295         2        24      2     3   2039         1        2     1       4   \n296         2        48      4     2   5096         1        3     2       2   \n297         1        18      2     3   1882         1        3     4       2   \n298         2        24      2     1  12579         1        5     4       2   \n299         1        24      2     3   1987         1        3     2       3   \n\n     buerge  ...  verm  alter  weitkred  wohn  bishkred  beruf  pers  telef  \\\n0         1  ...     1     23         3     1         1      2     2      1   \n1         1  ...     1     36         3     1         2      3     1      1   \n2         1  ...     1     44         3     1         1      3     1      1   \n3         1  ...     2     39         3     2         2      2     2      1   \n4         1  ...     1     44         3     2         2      2     1      1   \n..      ...  ...   ...    ...       ...   ...       ...    ...   ...    ...   \n295       1  ...     2     22         3     2         1      3     2      2   \n296       1  ...     3     30         3     2         1      4     2      2   \n297       1  ...     3     25         1     1         2      3     2      1   \n298       1  ...     4     44         3     3         1      4     2      2   \n299       1  ...     1     21         3     1         1      2     1      1   \n\n     gastarb  kredit  \n0          2       1  \n1          2       1  \n2          2       1  \n3          2       1  \n4          2       1  \n..       ...     ...  \n295        2       0  \n296        2       0  \n297        2       0  \n298        2       0  \n299        2       0  \n\n[300 rows x 21 columns]",
      "text/html": "<div>\n<style scoped>\n    .dataframe tbody tr th:only-of-type {\n        vertical-align: middle;\n    }\n\n    .dataframe tbody tr th {\n        vertical-align: top;\n    }\n\n    .dataframe thead th {\n        text-align: right;\n    }\n</style>\n<table border=\"1\" class=\"dataframe\">\n  <thead>\n    <tr style=\"text-align: right;\">\n      <th></th>\n      <th>laufkont</th>\n      <th>laufzeit</th>\n      <th>moral</th>\n      <th>verw</th>\n      <th>hoehe</th>\n      <th>sparkont</th>\n      <th>beszeit</th>\n      <th>rate</th>\n      <th>famges</th>\n      <th>buerge</th>\n      <th>...</th>\n      <th>verm</th>\n      <th>alter</th>\n      <th>weitkred</th>\n      <th>wohn</th>\n      <th>bishkred</th>\n      <th>beruf</th>\n      <th>pers</th>\n      <th>telef</th>\n      <th>gastarb</th>\n      <th>kredit</th>\n    </tr>\n  </thead>\n  <tbody>\n    <tr>\n      <th>0</th>\n      <td>2</td>\n      <td>12</td>\n      <td>2</td>\n      <td>9</td>\n      <td>841</td>\n      <td>2</td>\n      <td>4</td>\n      <td>2</td>\n      <td>2</td>\n      <td>1</td>\n      <td>...</td>\n      <td>1</td>\n      <td>23</td>\n      <td>3</td>\n      <td>1</td>\n      <td>1</td>\n      <td>2</td>\n      <td>2</td>\n      <td>1</td>\n      <td>2</td>\n      <td>1</td>\n    </tr>\n    <tr>\n      <th>1</th>\n      <td>1</td>\n      <td>11</td>\n      <td>4</td>\n      <td>0</td>\n      <td>3905</td>\n      <td>1</td>\n      <td>3</td>\n      <td>2</td>\n      <td>3</td>\n      <td>1</td>\n      <td>...</td>\n      <td>1</td>\n      <td>36</td>\n      <td>3</td>\n      <td>1</td>\n      <td>2</td>\n      <td>3</td>\n      <td>1</td>\n      <td>1</td>\n      <td>2</td>\n      <td>1</td>\n    </tr>\n    <tr>\n      <th>2</th>\n      <td>1</td>\n      <td>6</td>\n      <td>2</td>\n      <td>3</td>\n      <td>2647</td>\n      <td>3</td>\n      <td>3</td>\n      <td>2</td>\n      <td>3</td>\n      <td>1</td>\n      <td>...</td>\n      <td>1</td>\n      <td>44</td>\n      <td>3</td>\n      <td>1</td>\n      <td>1</td>\n      <td>3</td>\n      <td>1</td>\n      <td>1</td>\n      <td>2</td>\n      <td>1</td>\n    </tr>\n    <tr>\n      <th>3</th>\n      <td>4</td>\n      <td>11</td>\n      <td>4</td>\n      <td>0</td>\n      <td>7228</td>\n      <td>1</td>\n      <td>3</td>\n      <td>1</td>\n      <td>3</td>\n      <td>1</td>\n      <td>...</td>\n      <td>2</td>\n      <td>39</td>\n      <td>3</td>\n      <td>2</td>\n      <td>2</td>\n      <td>2</td>\n      <td>2</td>\n      <td>1</td>\n      <td>2</td>\n      <td>1</td>\n    </tr>\n    <tr>\n      <th>4</th>\n      <td>1</td>\n      <td>6</td>\n      <td>4</td>\n      <td>0</td>\n      <td>4716</td>\n      <td>5</td>\n      <td>2</td>\n      <td>1</td>\n      <td>3</td>\n      <td>1</td>\n      <td>...</td>\n      <td>1</td>\n      <td>44</td>\n      <td>3</td>\n      <td>2</td>\n      <td>2</td>\n      <td>2</td>\n      <td>1</td>\n      <td>1</td>\n      <td>2</td>\n      <td>1</td>\n    </tr>\n    <tr>\n      <th>...</th>\n      <td>...</td>\n      <td>...</td>\n      <td>...</td>\n      <td>...</td>\n      <td>...</td>\n      <td>...</td>\n      <td>...</td>\n      <td>...</td>\n      <td>...</td>\n      <td>...</td>\n      <td>...</td>\n      <td>...</td>\n      <td>...</td>\n      <td>...</td>\n      <td>...</td>\n      <td>...</td>\n      <td>...</td>\n      <td>...</td>\n      <td>...</td>\n      <td>...</td>\n      <td>...</td>\n    </tr>\n    <tr>\n      <th>295</th>\n      <td>2</td>\n      <td>24</td>\n      <td>2</td>\n      <td>3</td>\n      <td>2039</td>\n      <td>1</td>\n      <td>2</td>\n      <td>1</td>\n      <td>4</td>\n      <td>1</td>\n      <td>...</td>\n      <td>2</td>\n      <td>22</td>\n      <td>3</td>\n      <td>2</td>\n      <td>1</td>\n      <td>3</td>\n      <td>2</td>\n      <td>2</td>\n      <td>2</td>\n      <td>0</td>\n    </tr>\n    <tr>\n      <th>296</th>\n      <td>2</td>\n      <td>48</td>\n      <td>4</td>\n      <td>2</td>\n      <td>5096</td>\n      <td>1</td>\n      <td>3</td>\n      <td>2</td>\n      <td>2</td>\n      <td>1</td>\n      <td>...</td>\n      <td>3</td>\n      <td>30</td>\n      <td>3</td>\n      <td>2</td>\n      <td>1</td>\n      <td>4</td>\n      <td>2</td>\n      <td>2</td>\n      <td>2</td>\n      <td>0</td>\n    </tr>\n    <tr>\n      <th>297</th>\n      <td>1</td>\n      <td>18</td>\n      <td>2</td>\n      <td>3</td>\n      <td>1882</td>\n      <td>1</td>\n      <td>3</td>\n      <td>4</td>\n      <td>2</td>\n      <td>1</td>\n      <td>...</td>\n      <td>3</td>\n      <td>25</td>\n      <td>1</td>\n      <td>1</td>\n      <td>2</td>\n      <td>3</td>\n      <td>2</td>\n      <td>1</td>\n      <td>2</td>\n      <td>0</td>\n    </tr>\n    <tr>\n      <th>298</th>\n      <td>2</td>\n      <td>24</td>\n      <td>2</td>\n      <td>1</td>\n      <td>12579</td>\n      <td>1</td>\n      <td>5</td>\n      <td>4</td>\n      <td>2</td>\n      <td>1</td>\n      <td>...</td>\n      <td>4</td>\n      <td>44</td>\n      <td>3</td>\n      <td>3</td>\n      <td>1</td>\n      <td>4</td>\n      <td>2</td>\n      <td>2</td>\n      <td>2</td>\n      <td>0</td>\n    </tr>\n    <tr>\n      <th>299</th>\n      <td>1</td>\n      <td>24</td>\n      <td>2</td>\n      <td>3</td>\n      <td>1987</td>\n      <td>1</td>\n      <td>3</td>\n      <td>2</td>\n      <td>3</td>\n      <td>1</td>\n      <td>...</td>\n      <td>1</td>\n      <td>21</td>\n      <td>3</td>\n      <td>1</td>\n      <td>1</td>\n      <td>2</td>\n      <td>1</td>\n      <td>1</td>\n      <td>2</td>\n      <td>0</td>\n    </tr>\n  </tbody>\n</table>\n<p>300 rows × 21 columns</p>\n</div>"
     },
     "execution_count": 79,
     "metadata": {},
     "output_type": "execute_result"
    }
   ],
   "source": [
    "test = pd.read_csv(\"SGCtest.csv\")\n",
    "test"
   ],
   "metadata": {
    "collapsed": false,
    "ExecuteTime": {
     "end_time": "2023-10-30T12:27:30.159522900Z",
     "start_time": "2023-10-30T12:27:28.744327100Z"
    }
   },
   "id": "ce6cd0b30f4a9c19"
  },
  {
   "cell_type": "code",
   "execution_count": 80,
   "outputs": [],
   "source": [
    "# Annahme: Ihre CSV-Datei hat 20 Spalten (Features) und 100 Zeilen (Datensätze)\n",
    "np_test = np.genfromtxt('SGCtest.csv', delimiter=',', skip_header=1)\n",
    "\n",
    "# Sie können die Daten nun verwenden, z.B.:\n",
    "features = np_test[:, :-1]  # Alle Spalten außer der letzten (Annahme: letzte Spalte ist die Zielvariable)\n",
    "labels = np_test[:, -1]  # Die letzte Spalte als Zielvariablen"
   ],
   "metadata": {
    "collapsed": false,
    "ExecuteTime": {
     "end_time": "2023-10-30T12:27:30.165520Z",
     "start_time": "2023-10-30T12:27:28.797861400Z"
    }
   },
   "id": "583d4b2c109bdad0"
  },
  {
   "cell_type": "code",
   "execution_count": 119,
   "outputs": [],
   "source": [
    "# In PyTorch-Tensoren umwandeln\n",
    "X_train = torch.Tensor(np_train[:, :-1])\n",
    "y_train = torch.LongTensor(np_train[:, -1])\n",
    "\n",
    "X_test = torch.Tensor(np_test[:, :-1])\n",
    "y_test = torch.LongTensor(np_test[:, -1])"
   ],
   "metadata": {
    "collapsed": false,
    "ExecuteTime": {
     "end_time": "2023-10-30T12:45:31.232448800Z",
     "start_time": "2023-10-30T12:45:31.075917500Z"
    }
   },
   "id": "7437e39a06539fc3"
  },
  {
   "cell_type": "code",
   "execution_count": 120,
   "outputs": [],
   "source": [
    "class DeepNeuralNetwork(nn.Module):\n",
    "    def __init__(self, input_size, hidden_size, num_classes):\n",
    "        super(DeepNeuralNetwork, self).__init__()\n",
    "        self.fc1 = nn.Linear(input_size, hidden_size)\n",
    "        self.relu = nn.ReLU()\n",
    "        self.fc2 = nn.Linear(hidden_size, hidden_size)\n",
    "        self.fc3 = nn.Linear(hidden_size, num_classes)\n",
    "        \n",
    "    def forward(self, x):\n",
    "        out = self.fc1(x)\n",
    "        out = self.relu(out)\n",
    "        out = self.fc2(out)\n",
    "        out = self.relu(out)\n",
    "        out = self.fc3(out)\n",
    "        return out\n",
    "\n",
    "# Hyperparameter\n",
    "# Anzahl der Features\n",
    "num_features = np_train.shape[1] - 1  # Eine Spalte für die Zielvariable abziehen\n",
    "\n",
    "# Hyperparameter\n",
    "input_size = num_features\n",
    "hidden_size = 128  # Anzahl der Neuronen in der versteckten Schicht\n",
    "num_classes = 2  # Anzahl der Klassen (gut vs. schlecht)\n",
    "\n",
    "# Modell initialisieren\n",
    "model = DeepNeuralNetwork(input_size, hidden_size, num_classes).to(device)"
   ],
   "metadata": {
    "collapsed": false,
    "ExecuteTime": {
     "end_time": "2023-10-30T12:45:41.271563400Z",
     "start_time": "2023-10-30T12:45:41.114022700Z"
    }
   },
   "id": "64181f84384f6065"
  },
  {
   "cell_type": "code",
   "execution_count": 121,
   "outputs": [],
   "source": [
    "learning_rate = 0.0001  # Reduzierte Lernrate\n",
    "optimizer = torch.optim.Adam(model.parameters(), lr=learning_rate)"
   ],
   "metadata": {
    "collapsed": false,
    "ExecuteTime": {
     "end_time": "2023-10-30T12:45:45.983917600Z",
     "start_time": "2023-10-30T12:45:45.777954800Z"
    }
   },
   "id": "bf5157e672c7d17c"
  },
  {
   "cell_type": "code",
   "execution_count": 109,
   "outputs": [],
   "source": [
    "train_loader = torch.utils.data.DataLoader(dataset=np_train, batch_size=64, shuffle=True)\n",
    "test_loader = torch.utils.data.DataLoader(dataset=np_test, batch_size=64, shuffle=False)"
   ],
   "metadata": {
    "collapsed": false,
    "ExecuteTime": {
     "end_time": "2023-10-30T12:37:38.370673100Z",
     "start_time": "2023-10-30T12:37:38.260120300Z"
    }
   },
   "id": "c9c2865c92434fba"
  },
  {
   "cell_type": "code",
   "execution_count": 122,
   "outputs": [],
   "source": [
    "def train_model(model, X_train, y_train, num_epochs, learning_rate):\n",
    "    criterion = nn.CrossEntropyLoss()\n",
    "    optimizer = torch.optim.SGD(model.parameters(), lr=learning_rate)\n",
    "    \n",
    "    for epoch in range(num_epochs):\n",
    "        # Forward Pass\n",
    "        outputs = model(X_train)\n",
    "        loss = criterion(outputs, y_train)\n",
    "        \n",
    "        # Backward und Optimize\n",
    "        optimizer.zero_grad()\n",
    "        loss.backward()\n",
    "        optimizer.step()\n",
    "        \n",
    "        # Ausgabe alle 100 Epochen\n",
    "        if (epoch+1) % 100 == 0:\n",
    "            print(f'Epoch [{epoch+1}/{num_epochs}], Loss: {loss.item():.4f}')"
   ],
   "metadata": {
    "collapsed": false,
    "ExecuteTime": {
     "end_time": "2023-10-30T12:47:12.827741100Z",
     "start_time": "2023-10-30T12:47:12.683993900Z"
    }
   },
   "id": "7c294c8b561c664e"
  },
  {
   "cell_type": "code",
   "execution_count": 123,
   "outputs": [
    {
     "name": "stdout",
     "output_type": "stream",
     "text": [
      "Epoch [100/1000], Loss: 0.6401\n",
      "Epoch [200/1000], Loss: 0.6348\n",
      "Epoch [300/1000], Loss: 0.6310\n",
      "Epoch [400/1000], Loss: 0.6281\n",
      "Epoch [500/1000], Loss: 0.6259\n",
      "Epoch [600/1000], Loss: 0.6242\n",
      "Epoch [700/1000], Loss: 0.6229\n",
      "Epoch [800/1000], Loss: 0.6220\n",
      "Epoch [900/1000], Loss: 0.6212\n",
      "Epoch [1000/1000], Loss: 0.6206\n"
     ]
    }
   ],
   "source": [
    "# Trainiere das Modell\n",
    "num_epochs = 1000\n",
    "learning_rate = 0.001\n",
    "\n",
    "train_model(model, X_train, y_train, num_epochs, learning_rate)"
   ],
   "metadata": {
    "collapsed": false,
    "ExecuteTime": {
     "end_time": "2023-10-30T12:47:21.990166800Z",
     "start_time": "2023-10-30T12:47:15.194885500Z"
    }
   },
   "id": "aa693c5031bcbc72"
  },
  {
   "cell_type": "code",
   "execution_count": 111,
   "outputs": [],
   "source": [],
   "metadata": {
    "collapsed": false,
    "ExecuteTime": {
     "end_time": "2023-10-30T12:38:17.475499700Z",
     "start_time": "2023-10-30T12:38:17.373431Z"
    }
   },
   "id": "7485260d68d4ace1"
  },
  {
   "cell_type": "code",
   "execution_count": 115,
   "outputs": [],
   "source": [],
   "metadata": {
    "collapsed": false,
    "ExecuteTime": {
     "end_time": "2023-10-30T12:40:44.546793200Z",
     "start_time": "2023-10-30T12:40:44.461444500Z"
    }
   },
   "id": "8c7bc561ca82b5fe"
  },
  {
   "cell_type": "code",
   "execution_count": 115,
   "outputs": [],
   "source": [],
   "metadata": {
    "collapsed": false,
    "ExecuteTime": {
     "end_time": "2023-10-30T12:40:42.721058400Z",
     "start_time": "2023-10-30T12:40:42.628109200Z"
    }
   },
   "id": "f4b3ce54fd76d9c1"
  },
  {
   "cell_type": "code",
   "execution_count": 87,
   "outputs": [],
   "source": [],
   "metadata": {
    "collapsed": false,
    "ExecuteTime": {
     "end_time": "2023-10-30T12:27:32.395637300Z",
     "start_time": "2023-10-30T12:27:31.884310700Z"
    }
   },
   "id": "50fd0fe8cbfd67ba"
  }
 ],
 "metadata": {
  "kernelspec": {
   "display_name": "Python 3",
   "language": "python",
   "name": "python3"
  },
  "language_info": {
   "codemirror_mode": {
    "name": "ipython",
    "version": 2
   },
   "file_extension": ".py",
   "mimetype": "text/x-python",
   "name": "python",
   "nbconvert_exporter": "python",
   "pygments_lexer": "ipython2",
   "version": "2.7.6"
  }
 },
 "nbformat": 4,
 "nbformat_minor": 5
}
