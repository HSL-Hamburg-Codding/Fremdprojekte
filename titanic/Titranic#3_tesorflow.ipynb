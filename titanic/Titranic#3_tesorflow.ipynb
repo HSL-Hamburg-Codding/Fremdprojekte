{
 "cells": [
  {
   "cell_type": "code",
   "execution_count": 1,
   "id": "initial_id",
   "metadata": {
    "collapsed": true,
    "ExecuteTime": {
     "end_time": "2023-10-23T12:49:24.271915Z",
     "start_time": "2023-10-23T12:49:16.174079800Z"
    }
   },
   "outputs": [],
   "source": [
    "import numpy as np\n",
    "import pandas as pd\n",
    "from sklearn.preprocessing import StandardScaler, LabelEncoder\n",
    "from sklearn.model_selection import train_test_split\n",
    "import tensorflow as tf\n",
    "from tensorflow.keras.models import Sequential\n",
    "from tensorflow.keras.layers import Dense\n",
    "import matplotlib.pyplot as plt\n",
    "from sklearn.metrics import accuracy_score"
   ]
  },
  {
   "cell_type": "code",
   "execution_count": 4,
   "outputs": [],
   "source": [
    "# Load the Titanic dataset\n",
    "train = pd.read_csv(\"train.csv\")\n",
    "test = pd.read_csv(\"test.csv\")"
   ],
   "metadata": {
    "collapsed": false,
    "ExecuteTime": {
     "end_time": "2023-10-23T12:27:46.539601300Z",
     "start_time": "2023-10-23T12:27:46.379209100Z"
    }
   },
   "id": "7424a6934a35158f"
  },
  {
   "cell_type": "code",
   "execution_count": 5,
   "outputs": [],
   "source": [
    "# Define a function to count null values in a DataFrame\n",
    "def count_null(df):\n",
    "    null_df = pd.DataFrame(df.isnull().sum(), columns=[\"Count\"])\n",
    "    display(null_df[null_df[\"Count\"] > 0])"
   ],
   "metadata": {
    "collapsed": false,
    "ExecuteTime": {
     "end_time": "2023-10-23T12:27:49.197506500Z",
     "start_time": "2023-10-23T12:27:49.055994400Z"
    }
   },
   "id": "1fafb95fac0ff091"
  },
  {
   "cell_type": "code",
   "execution_count": 6,
   "outputs": [],
   "source": [
    "# Display the summary of null values in the dataset\n",
    "def null_summary():\n",
    "    data = [train, test]\n",
    "    for dataset in data:\n",
    "        count_null(dataset)"
   ],
   "metadata": {
    "collapsed": false,
    "ExecuteTime": {
     "end_time": "2023-10-23T12:27:50.640880500Z",
     "start_time": "2023-10-23T12:27:50.503440Z"
    }
   },
   "id": "a03c38f830d2accf"
  },
  {
   "cell_type": "code",
   "execution_count": 7,
   "outputs": [],
   "source": [
    "# Concatenate train and test data for preprocessing\n",
    "all_data = pd.concat([train, test])"
   ],
   "metadata": {
    "collapsed": false,
    "ExecuteTime": {
     "end_time": "2023-10-23T12:27:52.479454Z",
     "start_time": "2023-10-23T12:27:52.309443900Z"
    }
   },
   "id": "5e29f0f0d2218d2"
  },
  {
   "cell_type": "code",
   "execution_count": 8,
   "outputs": [],
   "source": [
    "# Fill missing values in the 'Embarked' column with the mode\n",
    "train[\"Embarked\"].fillna(all_data[\"Embarked\"].mode()[0], inplace=True)"
   ],
   "metadata": {
    "collapsed": false,
    "ExecuteTime": {
     "end_time": "2023-10-23T12:27:54.795386100Z",
     "start_time": "2023-10-23T12:27:54.648497500Z"
    }
   },
   "id": "9675c8289476e953"
  },
  {
   "cell_type": "code",
   "execution_count": 9,
   "outputs": [],
   "source": [
    "# Fill missing values in the 'Fare' column with the median\n",
    "test[\"Fare\"].fillna(all_data[\"Fare\"].median(), inplace=True)"
   ],
   "metadata": {
    "collapsed": false,
    "ExecuteTime": {
     "end_time": "2023-10-23T12:27:56.857963200Z",
     "start_time": "2023-10-23T12:27:56.742969400Z"
    }
   },
   "id": "be392ada6c87debc"
  },
  {
   "cell_type": "code",
   "execution_count": 10,
   "outputs": [],
   "source": [
    "# Assign cabin deck based on the first letter of 'Cabin' value\n",
    "def assign_cabin(deck):\n",
    "    if deck in [\"A\", \"B\", \"C\", \"T\"]:\n",
    "        return \"ABC\"\n",
    "    elif deck in [\"D\", \"E\"]:\n",
    "        return \"DE\"\n",
    "    elif deck in [\"F\", \"G\"]:\n",
    "        return \"FG\"\n",
    "    else:\n",
    "        return \"U\""
   ],
   "metadata": {
    "collapsed": false,
    "ExecuteTime": {
     "end_time": "2023-10-23T12:27:58.962492400Z",
     "start_time": "2023-10-23T12:27:58.852535300Z"
    }
   },
   "id": "43eb5292a7a96a9b"
  },
  {
   "cell_type": "code",
   "execution_count": 11,
   "outputs": [],
   "source": [
    "# Modify 'Cabin' column to contain the assigned cabin deck\n",
    "for df in [train, test]:\n",
    "    df[\"HasCabin\"] = df[\"Cabin\"].notnull()\n",
    "    df[\"Cabin\"] = df[\"Cabin\"].fillna(\"U\")\n",
    "    df[\"Cabin\"] = df[\"Cabin\"].str[0].map(assign_cabin)"
   ],
   "metadata": {
    "collapsed": false,
    "ExecuteTime": {
     "end_time": "2023-10-23T12:28:01.489233100Z",
     "start_time": "2023-10-23T12:28:01.312383600Z"
    }
   },
   "id": "592218e9409429d2"
  },
  {
   "cell_type": "code",
   "execution_count": 12,
   "outputs": [],
   "source": [
    "# Assign titles to passengers based on their name\n",
    "def assign_title(title):\n",
    "    if title in [\"Miss\", \"Mlle\", \"Ms\"]:\n",
    "        return \"Miss\"\n",
    "    elif title in [\"Mrs\", \"Mme\"]:\n",
    "        return \"Mrs\"\n",
    "    elif title in [\"Lady\", \"the Countess\", \"Capt\", \"Col\", \"Don\", \"Dr\", \"Major\", \"Rev\", \"Sir\", \"Jonkheer\", \"Dona\"]:\n",
    "        return \"Rare\"\n",
    "    else:\n",
    "        return title"
   ],
   "metadata": {
    "collapsed": false,
    "ExecuteTime": {
     "end_time": "2023-10-23T12:28:04.596407700Z",
     "start_time": "2023-10-23T12:28:04.460385400Z"
    }
   },
   "id": "5096b7daf2c98aa4"
  },
  {
   "cell_type": "code",
   "execution_count": 13,
   "outputs": [],
   "source": [
    "# Modify 'Title' column to contain the assigned title\n",
    "for df in [train, test]:\n",
    "    df[\"Title\"] = df[\"Name\"].apply(lambda x: x.split(', ')[1].split('.')[0])\n",
    "    df[\"Title\"] = df[\"Title\"].apply(assign_title)"
   ],
   "metadata": {
    "collapsed": false,
    "ExecuteTime": {
     "end_time": "2023-10-23T12:28:07.449612Z",
     "start_time": "2023-10-23T12:28:07.273463200Z"
    }
   },
   "id": "722347d17c351d81"
  },
  {
   "cell_type": "code",
   "execution_count": 14,
   "outputs": [],
   "source": [
    "# Create 'FamilySize' and 'Is_Alone' columns based on 'Parch' and 'SibSp'\n",
    "for df in [train, test]:\n",
    "    df[\"FamilySize\"] = df[\"Parch\"] + df[\"SibSp\"]\n",
    "    df[\"Is_Alone\"] = df[\"FamilySize\"] == 0"
   ],
   "metadata": {
    "collapsed": false,
    "ExecuteTime": {
     "end_time": "2023-10-23T12:28:09.748009300Z",
     "start_time": "2023-10-23T12:28:09.576116500Z"
    }
   },
   "id": "bac9df86e1b4caff"
  },
  {
   "cell_type": "code",
   "execution_count": 15,
   "outputs": [],
   "source": [
    "# Concatenate train and test data for preprocessing\n",
    "all_data = pd.concat([train, test])"
   ],
   "metadata": {
    "collapsed": false,
    "ExecuteTime": {
     "end_time": "2023-10-23T12:28:12.629784800Z",
     "start_time": "2023-10-23T12:28:12.520092800Z"
    }
   },
   "id": "10dd572fd2900977"
  },
  {
   "cell_type": "code",
   "execution_count": 16,
   "outputs": [],
   "source": [
    "# Group passengers by 'Title' and 'Pclass' and calculate the mean age\n",
    "grouped_age = all_data.groupby([\"Title\", \"Pclass\"])[\"Age\"].agg([\"mean\", \"count\"])"
   ],
   "metadata": {
    "collapsed": false,
    "ExecuteTime": {
     "end_time": "2023-10-23T12:28:14.895974900Z",
     "start_time": "2023-10-23T12:28:14.717029200Z"
    }
   },
   "id": "6ce87f126a67b668"
  },
  {
   "cell_type": "code",
   "execution_count": 17,
   "outputs": [],
   "source": [
    "# Fill missing age values based on 'Title' and 'Pclass'\n",
    "for df in [train, test]:\n",
    "    df[\"Age\"] = df.apply(lambda x: grouped_age.loc[(x[\"Title\"], x[\"Pclass\"])][\"mean\"] if pd.isnull(x[\"Age\"]) else x[\"Age\"], axis=1)"
   ],
   "metadata": {
    "collapsed": false,
    "ExecuteTime": {
     "end_time": "2023-10-23T12:28:17.201054200Z",
     "start_time": "2023-10-23T12:28:16.972185Z"
    }
   },
   "id": "147c773e76e9474b"
  },
  {
   "cell_type": "code",
   "execution_count": 18,
   "outputs": [],
   "source": [
    "# Drop unnecessary columns\n",
    "for df in [train, test]:\n",
    "    df.drop(\"Ticket\", axis=1, inplace=True)\n",
    "    df.drop(\"Name\", axis=1, inplace=True)"
   ],
   "metadata": {
    "collapsed": false,
    "ExecuteTime": {
     "end_time": "2023-10-23T12:28:19.680391400Z",
     "start_time": "2023-10-23T12:28:19.513044Z"
    }
   },
   "id": "fc286a8d20e4761c"
  },
  {
   "cell_type": "code",
   "execution_count": 19,
   "outputs": [],
   "source": [
    "# Normalize 'Fare' using StandardScaler\n",
    "combined_fare = all_data[\"Fare\"]\n",
    "train_fare = train[\"Fare\"]\n",
    "test_fare = test[\"Fare\"]\n",
    "scaler = StandardScaler()\n",
    "normalized_combined_fare = scaler.fit_transform(combined_fare.values.reshape(-1, 1))\n",
    "normalized_train_fare = scaler.transform(train_fare.values.reshape(-1, 1))\n",
    "normalized_test_fare = scaler.transform(test_fare.values.reshape(-1, 1))\n",
    "all_data[\"Fare\"] = normalized_combined_fare\n",
    "train[\"Fare\"] = normalized_train_fare\n",
    "test[\"Fare\"] = normalized_test_fare"
   ],
   "metadata": {
    "collapsed": false,
    "ExecuteTime": {
     "end_time": "2023-10-23T12:28:23.004562400Z",
     "start_time": "2023-10-23T12:28:22.837358800Z"
    }
   },
   "id": "4bc245e472ed9980"
  },
  {
   "cell_type": "code",
   "execution_count": 20,
   "outputs": [],
   "source": [
    "# Normalize 'Age' using StandardScaler\n",
    "combined_age = all_data[\"Age\"]\n",
    "train_age = train[\"Age\"]\n",
    "test_age = test[\"Age\"]\n",
    "age_scaler = StandardScaler()\n",
    "normalized_combined_age = age_scaler.fit_transform(combined_age.values.reshape(-1, 1))\n",
    "normalized_train_age = age_scaler.transform(train_age.values.reshape(-1, 1))\n",
    "normalized_test_age = age_scaler.transform(test_age.values.reshape(-1, 1))\n",
    "all_data[\"Age\"] = normalized_combined_age\n",
    "train[\"Age\"] = normalized_train_age\n",
    "test[\"Age\"] = normalized_test_age"
   ],
   "metadata": {
    "collapsed": false,
    "ExecuteTime": {
     "end_time": "2023-10-23T12:28:25.757663200Z",
     "start_time": "2023-10-23T12:28:25.646727300Z"
    }
   },
   "id": "95df8b67f92d434d"
  },
  {
   "cell_type": "code",
   "execution_count": 21,
   "outputs": [],
   "source": [
    "# Encode categorical string columns using LabelEncoder\n",
    "string_columns = [\"Sex\", \"Cabin\", \"Embarked\", \"HasCabin\", \"Is_Alone\", \"Title\"]\n",
    "for col in string_columns:\n",
    "    label_encoder = LabelEncoder()\n",
    "    all_data[col] = label_encoder.fit_transform(all_data[col])\n",
    "    train[col] = label_encoder.transform(train[col])\n",
    "    test[col] = label_encoder.transform(test[col])"
   ],
   "metadata": {
    "collapsed": false,
    "ExecuteTime": {
     "end_time": "2023-10-23T12:28:28.292666100Z",
     "start_time": "2023-10-23T12:28:28.130128800Z"
    }
   },
   "id": "97bc98f991391af9"
  },
  {
   "cell_type": "code",
   "execution_count": 22,
   "outputs": [],
   "source": [
    "# Split the dataset into train, cross-validation, and test sets\n",
    "train_X, cross_X, train_Y, cross_Y = train_test_split(train.drop([\"PassengerId\", \"Survived\"], axis=1), train[\"Survived\"], test_size=0.2)"
   ],
   "metadata": {
    "collapsed": false,
    "ExecuteTime": {
     "end_time": "2023-10-23T12:28:30.350071900Z",
     "start_time": "2023-10-23T12:28:30.240538700Z"
    }
   },
   "id": "744d03e60f58d15e"
  },
  {
   "cell_type": "code",
   "execution_count": 23,
   "outputs": [],
   "source": [
    "# Define the neural network model\n",
    "model = Sequential(\n",
    "    [\n",
    "        tf.keras.layers.InputLayer(input_shape=(train_X.shape[1],)),\n",
    "        tf.keras.layers.Dense(7, activation=\"relu\", kernel_regularizer=\"l2\"),\n",
    "        tf.keras.layers.Dense(1, activation=\"sigmoid\")\n",
    "    ], name=\"my_model\"\n",
    ")"
   ],
   "metadata": {
    "collapsed": false,
    "ExecuteTime": {
     "end_time": "2023-10-23T12:28:32.690907600Z",
     "start_time": "2023-10-23T12:28:32.428365700Z"
    }
   },
   "id": "5fb0415d6103e115"
  },
  {
   "cell_type": "code",
   "execution_count": 24,
   "outputs": [],
   "source": [
    "# Compile the model\n",
    "model.compile(\n",
    "    loss=tf.keras.losses.BinaryCrossentropy(),\n",
    "    optimizer=tf.keras.optimizers.Adam(0.0001),\n",
    "    metrics=[\"accuracy\"]\n",
    ")"
   ],
   "metadata": {
    "collapsed": false,
    "ExecuteTime": {
     "end_time": "2023-10-23T12:28:35.434434500Z",
     "start_time": "2023-10-23T12:28:35.273528200Z"
    }
   },
   "id": "d9bfdfd12c8f443d"
  },
  {
   "cell_type": "code",
   "execution_count": 28,
   "outputs": [],
   "source": [
    "# Train the model\n",
    "history = model.fit(\n",
    "    train_X, train_Y,\n",
    "    epochs=1000,\n",
    "    verbose=0,\n",
    "    validation_data=(cross_X, cross_Y)\n",
    ")"
   ],
   "metadata": {
    "collapsed": false,
    "ExecuteTime": {
     "end_time": "2023-10-23T12:35:28.563636200Z",
     "start_time": "2023-10-23T12:31:55.027474900Z"
    }
   },
   "id": "5113880961fcfe91"
  },
  {
   "cell_type": "code",
   "execution_count": 29,
   "outputs": [
    {
     "data": {
      "text/plain": "<Figure size 640x480 with 1 Axes>",
      "image/png": "[encoded data removed]"
     },
     "metadata": {},
     "output_type": "display_data"
    }
   ],
   "source": [
    "# Plot training and validation accuracy\n",
    "plt.plot(history.history[\"accuracy\"], label=\"Training Accuracy\")\n",
    "plt.plot(history.history[\"val_accuracy\"], label=\"Validation Accuracy\")\n",
    "plt.xlabel(\"Epochs\")\n",
    "plt.ylabel(\"Accuracy\")\n",
    "plt.legend()\n",
    "plt.show()"
   ],
   "metadata": {
    "collapsed": false,
    "ExecuteTime": {
     "end_time": "2023-10-23T12:36:55.069911700Z",
     "start_time": "2023-10-23T12:36:54.309104800Z"
    }
   },
   "id": "bba0e32b967b0031"
  },
  {
   "cell_type": "code",
   "execution_count": 30,
   "outputs": [
    {
     "data": {
      "text/plain": "<Figure size 640x480 with 1 Axes>",
      "image/png": "[encoded data removed]"
     },
     "metadata": {},
     "output_type": "display_data"
    }
   ],
   "source": [
    "# Plot training loss\n",
    "plt.plot(history.history[\"loss\"], label=\"Training Loss\")\n",
    "plt.xlabel(\"Epochs\")\n",
    "plt.ylabel(\"Loss\")\n",
    "plt.legend()\n",
    "plt.show()"
   ],
   "metadata": {
    "collapsed": false,
    "ExecuteTime": {
     "end_time": "2023-10-23T12:37:35.241702600Z",
     "start_time": "2023-10-23T12:37:34.710556300Z"
    }
   },
   "id": "df7bcd4783a0f9b"
  },
  {
   "cell_type": "code",
   "execution_count": 31,
   "outputs": [
    {
     "name": "stdout",
     "output_type": "stream",
     "text": [
      "14/14 [==============================] - 0s 3ms/step\n"
     ]
    }
   ],
   "source": [
    "# Make predictions on the test set\n",
    "test_Pid = test[\"PassengerId\"]\n",
    "predictions = model.predict(test.drop(\"PassengerId\", axis=1))"
   ],
   "metadata": {
    "collapsed": false,
    "ExecuteTime": {
     "end_time": "2023-10-23T12:38:29.905672200Z",
     "start_time": "2023-10-23T12:38:29.334317400Z"
    }
   },
   "id": "2a06821f68a50450"
  },
  {
   "cell_type": "code",
   "execution_count": 32,
   "outputs": [],
   "source": [
    "# Convert probability predictions to binary predictions\n",
    "binary_predictions = np.where(predictions >= 0.5, 1, 0)"
   ],
   "metadata": {
    "collapsed": false,
    "ExecuteTime": {
     "end_time": "2023-10-23T12:38:34.483263800Z",
     "start_time": "2023-10-23T12:38:34.317412400Z"
    }
   },
   "id": "2abfefd822b0ce2b"
  },
  {
   "cell_type": "code",
   "execution_count": 33,
   "outputs": [],
   "source": [
    "# Create a DataFrame with the predicted survival values\n",
    "binary_predictions_df = pd.DataFrame(binary_predictions, columns=[\"Survived\"])"
   ],
   "metadata": {
    "collapsed": false,
    "ExecuteTime": {
     "end_time": "2023-10-23T12:38:41.235014600Z",
     "start_time": "2023-10-23T12:38:41.095416200Z"
    }
   },
   "id": "a6c31830fd568419"
  },
  {
   "cell_type": "code",
   "execution_count": 34,
   "outputs": [],
   "source": [
    "# Merge the PassengerId and predicted survival values\n",
    "merged_df = pd.concat([test_Pid, binary_predictions_df], axis=1)"
   ],
   "metadata": {
    "collapsed": false,
    "ExecuteTime": {
     "end_time": "2023-10-23T12:38:43.877948300Z",
     "start_time": "2023-10-23T12:38:43.713263400Z"
    }
   },
   "id": "19ed70484c504980"
  },
  {
   "cell_type": "code",
   "execution_count": 35,
   "outputs": [
    {
     "name": "stdout",
     "output_type": "stream",
     "text": [
      "Your submission was successfully saved!\n"
     ]
    }
   ],
   "source": [
    "# Save the predictions to a CSV file\n",
    "merged_df.to_csv(\"submission.csv\", index=False)\n",
    "print(\"Your submission was successfully saved!\")"
   ],
   "metadata": {
    "collapsed": false,
    "ExecuteTime": {
     "end_time": "2023-10-23T12:38:51.839078800Z",
     "start_time": "2023-10-23T12:38:51.646922600Z"
    }
   },
   "id": "74ce54d74363efdc"
  },
  {
   "cell_type": "code",
   "execution_count": 36,
   "outputs": [
    {
     "name": "stdout",
     "output_type": "stream",
     "text": [
      "Accuracy: 1.0\n"
     ]
    }
   ],
   "source": [
    "# Calculate accuracy\n",
    "actual = pd.read_csv(\"submission.csv\")\n",
    "accuracy = accuracy_score(actual[\"Survived\"], binary_predictions_df)\n",
    "print(\"Accuracy:\", accuracy)"
   ],
   "metadata": {
    "collapsed": false,
    "ExecuteTime": {
     "end_time": "2023-10-23T12:38:58.881088300Z",
     "start_time": "2023-10-23T12:38:58.725275700Z"
    }
   },
   "id": "60c571ab7f758b94"
  },
  {
   "cell_type": "code",
   "execution_count": null,
   "outputs": [],
   "source": [],
   "metadata": {
    "collapsed": false
   },
   "id": "f51aa47da541aeb0"
  },
  {
   "cell_type": "code",
   "execution_count": null,
   "outputs": [],
   "source": [],
   "metadata": {
    "collapsed": false
   },
   "id": "34499bb659bb9400"
  },
  {
   "cell_type": "code",
   "execution_count": null,
   "outputs": [],
   "source": [],
   "metadata": {
    "collapsed": false
   },
   "id": "d3f03a4edf0b502e"
  },
  {
   "cell_type": "code",
   "execution_count": null,
   "outputs": [],
   "source": [],
   "metadata": {
    "collapsed": false
   },
   "id": "ac3a52b6e9903828"
  },
  {
   "cell_type": "code",
   "execution_count": null,
   "outputs": [],
   "source": [],
   "metadata": {
    "collapsed": false
   },
   "id": "e50f826122b832b"
  },
  {
   "cell_type": "code",
   "execution_count": null,
   "outputs": [],
   "source": [],
   "metadata": {
    "collapsed": false
   },
   "id": "5b4ea1a6c7424035"
  }
 ],
 "metadata": {
  "kernelspec": {
   "display_name": "Python 3",
   "language": "python",
   "name": "python3"
  },
  "language_info": {
   "codemirror_mode": {
    "name": "ipython",
    "version": 2
   },
   "file_extension": ".py",
   "mimetype": "text/x-python",
   "name": "python",
   "nbconvert_exporter": "python",
   "pygments_lexer": "ipython2",
   "version": "2.7.6"
  }
 },
 "nbformat": 4,
 "nbformat_minor": 5
}
